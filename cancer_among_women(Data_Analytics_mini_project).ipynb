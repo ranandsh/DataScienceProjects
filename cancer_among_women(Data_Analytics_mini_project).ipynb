{
 "cells": [
  {
   "cell_type": "markdown",
   "metadata": {},
   "source": [
    "<H1 align=\"left\"><B> Cancer Among Women</B><H1>"
   ]
  },
  {
   "cell_type": "code",
   "execution_count": 10,
   "metadata": {},
   "outputs": [],
   "source": [
    "import numpy as np\n",
    "import matplotlib.pyplot as plt\n",
    "%matplotlib inline\n",
    "from sklearn import linear_model\n",
    "import pandas as pd"
   ]
  },
  {
   "cell_type": "markdown",
   "metadata": {},
   "source": [
    "### Objective:-\n",
    "<h4>\n",
    "Cancer is one of among the worst disease’s which has affected the living kind and put on a challenge in terms of a cure! One out of every four deaths in the United States is from cancer. About 1.2 million Americans are diagnosed with cancer annually and more than 500,000 die of cancer annually.<br>\n",
    "<br>\n",
    "Analyzation of these data patterns will help us to determine the type of cancer that will more prevalently causing high rate of Death among the women. \n",
    "\n",
    "</h4>"
   ]
  },
  {
   "cell_type": "code",
   "execution_count": 11,
   "metadata": {},
   "outputs": [],
   "source": [
    "csv = pd.DataFrame(pd.read_csv('cancer.csv'))"
   ]
  },
  {
   "cell_type": "markdown",
   "metadata": {},
   "source": [
    "### Data Cleaning:-\n",
    "##### By Treating null values as zerros we can avoiding completly removing the column or rows."
   ]
  },
  {
   "cell_type": "code",
   "execution_count": 3,
   "metadata": {},
   "outputs": [],
   "source": [
    "csv=csv.fillna(0)"
   ]
  },
  {
   "cell_type": "markdown",
   "metadata": {},
   "source": [
    "### Data Adaptation:-\n",
    "##### The data can be interpreted in many different ways,the below are some of the basic and essential one's to well comprehend the matter:-"
   ]
  },
  {
   "cell_type": "markdown",
   "metadata": {},
   "source": [
    "#### 1) BY GENDER"
   ]
  },
  {
   "cell_type": "code",
   "execution_count": 4,
   "metadata": {},
   "outputs": [
    {
     "data": {
      "image/png": "[encoded data removed]",
      "text/plain": [
       "<Figure size 432x288 with 1 Axes>"
      ]
     },
     "metadata": {},
     "output_type": "display_data"
    }
   ],
   "source": [
    "df=pd.DataFrame(csv.loc[:,['State','Total.Number','Total.Population','Total.Rate']])\n",
    "df['Female.Rate']=((csv['Rates.Age and Sex.< 18.Female']+csv['Rates.Age and Sex.18 - 45.Female']\n",
    "                    +csv['Rates.Age and Sex.45 - 64.Female']+csv['Rates.Age and Sex.> 64.Female'])/4)\n",
    "df['Male.Rate']=(csv['Total.Rate']*2)-(df['Female.Rate'])\n",
    "x = (df.loc[:,'Female.Rate']).sum()\n",
    "y = (df.loc[:,'Male.Rate']).sum()\n",
    "L = [\"WOMEN\",\"MEN\"]\n",
    "E = [0.2, 0]\n",
    "z = np.array([x,y])\n",
    "plt.pie(z,labels=L,explode=E)\n",
    "plt.show()"
   ]
  },
  {
   "cell_type": "markdown",
   "metadata": {},
   "source": [
    "#### 2) BY AGE GROUP"
   ]
  },
  {
   "cell_type": "code",
   "execution_count": 5,
   "metadata": {},
   "outputs": [
    {
     "data": {
      "image/png": "[encoded data removed]",
      "text/plain": [
       "<Figure size 432x288 with 1 Axes>"
      ]
     },
     "metadata": {},
     "output_type": "display_data"
    }
   ],
   "source": [
    "a = (csv.loc[:,'Rates.Age and Sex.< 18.Female']).sum()\n",
    "b = (csv.loc[:,'Rates.Age and Sex.18 - 45.Female']).sum()\n",
    "c = (csv.loc[:,'Rates.Age and Sex.45 - 64.Female']).sum()\n",
    "d = (csv.loc[:,'Rates.Age and Sex.> 64.Female']).sum()\n",
    "e = np.array([a,b,c,d])\n",
    "L = [\"18-\",\"18-45\",\"45-64\",\"64+\"]\n",
    "E = [0.9,0.3,0.2,0.1]\n",
    "plt.pie(e,labels=L,explode=E)\n",
    "plt.show()"
   ]
  },
  {
   "cell_type": "markdown",
   "metadata": {},
   "source": [
    "#### 3) BY TYPE"
   ]
  },
  {
   "cell_type": "code",
   "execution_count": 6,
   "metadata": {},
   "outputs": [
    {
     "data": {
      "image/png": "[encoded data removed]",
      "text/plain": [
       "<Figure size 432x288 with 1 Axes>"
      ]
     },
     "metadata": {},
     "output_type": "display_data"
    }
   ],
   "source": [
    "a = (csv.loc[:,'Types.Lung.Total'] ).sum()\n",
    "b = (csv.loc[:,'Types.Colorectal.Total']).sum()\n",
    "c = (csv.loc[:,'Types.Breast.Total']).sum()\n",
    "e = np.array([a,b,c])\n",
    "L = [\"LUNG\",\"Colorectal\",\"Breast\"]\n",
    "E = [0.1,0.1,0.1]\n",
    "plt.pie(e,labels=L,explode=E)\n",
    "plt.show()"
   ]
  },
  {
   "cell_type": "markdown",
   "metadata": {},
   "source": [
    "### MLR Models:-"
   ]
  },
  {
   "cell_type": "markdown",
   "metadata": {},
   "source": [
    "### Creating models to determine the type of cancer impacting the higher rate of Death"
   ]
  },
  {
   "cell_type": "markdown",
   "metadata": {},
   "source": [
    "#### 1) By Colarectal Cancer"
   ]
  },
  {
   "cell_type": "code",
   "execution_count": 7,
   "metadata": {},
   "outputs": [
    {
     "name": "stdout",
     "output_type": "stream",
     "text": [
      "Intercepets =  100.14375381396701 \n",
      "Coefficients =  [ 0.28975795 -0.64994578  1.09486042  1.0369969 ] \n",
      "R-squared-Value =  0.7471348052115918\n"
     ]
    }
   ],
   "source": [
    "x = csv[['Total.Rate','Types.Colorectal.Age and Sex.Female.18 - 44','Types.Colorectal.Age and Sex.Female.45 - 64',\n",
    "         'Types.Colorectal.Age and Sex.Female.> 64']]\n",
    "y = df['Female.Rate']\n",
    "model_2 = linear_model.LinearRegression()\n",
    "model_2.fit(x,y)\n",
    "print(\"Intercepets = \",model_2.intercept_,\"\\nCoefficients = \",model_2.coef_,\"\\nR-squared-Value = \",model_2.score(x,y))"
   ]
  },
  {
   "cell_type": "markdown",
   "metadata": {},
   "source": [
    "#### 2) By Lung Cancer"
   ]
  },
  {
   "cell_type": "code",
   "execution_count": 8,
   "metadata": {},
   "outputs": [
    {
     "name": "stdout",
     "output_type": "stream",
     "text": [
      "Intercepets =  132.0448943632008 \n",
      "Coefficients =  [ 0.19004124 -2.20274179  0.46646606  0.30632273] \n",
      "R-squared-Value =  0.7837540910513154\n"
     ]
    }
   ],
   "source": [
    "x = csv[['Total.Rate','Types.Lung.Age and Sex.Female.18 - 44','Types.Lung.Age and Sex.Female.45 - 64',\n",
    "         'Types.Lung.Age and Sex.Female.> 64']]\n",
    "y = df['Female.Rate']\n",
    "model_3 = linear_model.LinearRegression()\n",
    "model_3.fit(x,y)\n",
    "print(\"Intercepets = \",model_3.intercept_,\"\\nCoefficients = \",model_3.coef_,\"\\nR-squared-Value = \",model_3.score(x,y))"
   ]
  },
  {
   "cell_type": "markdown",
   "metadata": {},
   "source": [
    "#### 3) By Breast Cancer"
   ]
  },
  {
   "cell_type": "code",
   "execution_count": 9,
   "metadata": {},
   "outputs": [
    {
     "name": "stdout",
     "output_type": "stream",
     "text": [
      "Intercepets =  49.84656958189933 \n",
      "Coefficients =  [ 0.48209252  0.14632356 -0.00441779  1.10882882] \n",
      "R-squared-Value =  0.8242020051108307\n"
     ]
    }
   ],
   "source": [
    "x = csv[['Total.Rate','Types.Breast.Age.18 - 44','Types.Breast.Age.45 - 64','Types.Breast.Age.> 64']]\n",
    "y = df['Female.Rate']\n",
    "model_4 = linear_model.LinearRegression()\n",
    "model_4.fit(x,y)\n",
    "print(\"Intercepets = \",model_4.intercept_,\"\\nCoefficients = \",model_4.coef_,\"\\nR-squared-Value = \",model_4.score(x,y))"
   ]
  },
  {
   "cell_type": "markdown",
   "metadata": {},
   "source": [
    "### Results:-"
   ]
  },
  {
   "cell_type": "markdown",
   "metadata": {},
   "source": [
    "<h4>\n",
    "ABOVE WE HAVE CREATED THE LINEAR REGRESSION MODELS, WHERE WE TRY TO PREDICT VALUES BASED ON THE IMPACT OF BREAST,COLARECTAL & LUNG CANCER ON THE FEMATE DAETH RATE IN THREE DIFFERENT MODELS.:-<br><br>\n",
    "    1) Model 2 = Mortality rate in Women due to Colorectal Cancer<br>\n",
    "    2) Model 3 = Mortality rate in Women due to Lung Cancer<br>\n",
    "    3) Model 4 = Mortality rate in Women due to Breast Cancer<br><BR>\n",
    "MODEL 4 HAS THE HIGHEST R SQUARED VALUE OUT OF ALL , WHICH INDICATES THE PRESENCE AND INFLUENCE OF IT ON THE MORTALITY RATE AMONG WOMEN.<BR>\n",
    "FURTHER MORE WE CAN DEVELOPE THESE MODELS TO ACCESS RACIAL DATA ALONG WITH ALREADY CONSIDERED AGE INFORMATION, THUS PECISING \n",
    "THE RESULTS FURTHERMORE.\n",
    "</h4>"
   ]
  }
 ],
 "metadata": {
  "kernelspec": {
   "display_name": "Python 3",
   "language": "python",
   "name": "python3"
  },
  "language_info": {
   "codemirror_mode": {
    "name": "ipython",
    "version": 3
   },
   "file_extension": ".py",
   "mimetype": "text/x-python",
   "name": "python",
   "nbconvert_exporter": "python",
   "pygments_lexer": "ipython3",
   "version": "3.8.5"
  }
 },
 "nbformat": 4,
 "nbformat_minor": 4
}
