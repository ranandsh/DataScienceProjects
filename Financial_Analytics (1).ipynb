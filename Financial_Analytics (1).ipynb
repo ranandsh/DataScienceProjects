{
 "cells": [
  {
   "cell_type": "markdown",
   "metadata": {},
   "source": [
    "## Late Payments Analysis\n",
    "This is a financial analytics project which deals with  a data set containing customer ID it and payment amount and other important features defining a clear picture on every individuals transaction with respect to my the payment"
   ]
  },
  {
   "cell_type": "code",
   "execution_count": 1,
   "metadata": {},
   "outputs": [],
   "source": [
    "import numpy as np\n",
    "import pandas as pd\n",
    "import plotly.express as px\n",
    "import seaborn as sns\n",
    "from sklearn.model_selection import train_test_split\n",
    "from sklearn.preprocessing import StandardScaler\n",
    "from sklearn.metrics import mean_squared_error,mean_absolute_error\n",
    "from sklearn.tree import DecisionTreeRegressor\n",
    "from sklearn.ensemble import RandomForestRegressor\n",
    "from sklearn.linear_model import LinearRegression\n",
    "from sklearn.preprocessing import OrdinalEncoder\n",
    "from xgboost import XGBRegressor\n",
    "import ipywidgets as widgets\n",
    "from ipywidgets import interact, interactive, fixed, interact_manual\n",
    "import matplotlib.pyplot as plt\n",
    "import warnings\n",
    "warnings.filterwarnings('ignore')"
   ]
  },
  {
   "cell_type": "markdown",
   "metadata": {},
   "source": [
    "### Data Set\n",
    "The data set that we haveis resourced from kegel with the title finance factoring of IBM late payment histories"
   ]
  },
  {
   "cell_type": "code",
   "execution_count": 2,
   "metadata": {},
   "outputs": [
    {
     "data": {
      "text/html": [
       "<div>\n",
       "<style scoped>\n",
       "    .dataframe tbody tr th:only-of-type {\n",
       "        vertical-align: middle;\n",
       "    }\n",
       "\n",
       "    .dataframe tbody tr th {\n",
       "        vertical-align: top;\n",
       "    }\n",
       "\n",
       "    .dataframe thead th {\n",
       "        text-align: right;\n",
       "    }\n",
       "</style>\n",
       "<table border=\"1\" class=\"dataframe\">\n",
       "  <thead>\n",
       "    <tr style=\"text-align: right;\">\n",
       "      <th></th>\n",
       "      <th>countryCode</th>\n",
       "      <th>customerID</th>\n",
       "      <th>PaperlessDate</th>\n",
       "      <th>invoiceNumber</th>\n",
       "      <th>InvoiceDate</th>\n",
       "      <th>DueDate</th>\n",
       "      <th>InvoiceAmount</th>\n",
       "      <th>Disputed</th>\n",
       "      <th>SettledDate</th>\n",
       "      <th>PaperlessBill</th>\n",
       "      <th>DaysToSettle</th>\n",
       "      <th>DaysLate</th>\n",
       "    </tr>\n",
       "  </thead>\n",
       "  <tbody>\n",
       "    <tr>\n",
       "      <th>0</th>\n",
       "      <td>391</td>\n",
       "      <td>0379-NEVHP</td>\n",
       "      <td>4/6/2013</td>\n",
       "      <td>611365</td>\n",
       "      <td>1/2/2013</td>\n",
       "      <td>2/1/2013</td>\n",
       "      <td>55.94</td>\n",
       "      <td>No</td>\n",
       "      <td>1/15/2013</td>\n",
       "      <td>Paper</td>\n",
       "      <td>13</td>\n",
       "      <td>0</td>\n",
       "    </tr>\n",
       "    <tr>\n",
       "      <th>1</th>\n",
       "      <td>406</td>\n",
       "      <td>8976-AMJEO</td>\n",
       "      <td>3/3/2012</td>\n",
       "      <td>7900770</td>\n",
       "      <td>1/26/2013</td>\n",
       "      <td>2/25/2013</td>\n",
       "      <td>61.74</td>\n",
       "      <td>Yes</td>\n",
       "      <td>3/3/2013</td>\n",
       "      <td>Electronic</td>\n",
       "      <td>36</td>\n",
       "      <td>6</td>\n",
       "    </tr>\n",
       "    <tr>\n",
       "      <th>2</th>\n",
       "      <td>391</td>\n",
       "      <td>2820-XGXSB</td>\n",
       "      <td>1/26/2012</td>\n",
       "      <td>9231909</td>\n",
       "      <td>7/3/2013</td>\n",
       "      <td>8/2/2013</td>\n",
       "      <td>65.88</td>\n",
       "      <td>No</td>\n",
       "      <td>7/8/2013</td>\n",
       "      <td>Electronic</td>\n",
       "      <td>5</td>\n",
       "      <td>0</td>\n",
       "    </tr>\n",
       "    <tr>\n",
       "      <th>3</th>\n",
       "      <td>406</td>\n",
       "      <td>9322-YCTQO</td>\n",
       "      <td>4/6/2012</td>\n",
       "      <td>9888306</td>\n",
       "      <td>2/10/2013</td>\n",
       "      <td>3/12/2013</td>\n",
       "      <td>105.92</td>\n",
       "      <td>No</td>\n",
       "      <td>3/17/2013</td>\n",
       "      <td>Electronic</td>\n",
       "      <td>35</td>\n",
       "      <td>5</td>\n",
       "    </tr>\n",
       "    <tr>\n",
       "      <th>4</th>\n",
       "      <td>818</td>\n",
       "      <td>6627-ELFBK</td>\n",
       "      <td>11/26/2012</td>\n",
       "      <td>15752855</td>\n",
       "      <td>10/25/2012</td>\n",
       "      <td>11/24/2012</td>\n",
       "      <td>72.27</td>\n",
       "      <td>Yes</td>\n",
       "      <td>11/28/2012</td>\n",
       "      <td>Paper</td>\n",
       "      <td>34</td>\n",
       "      <td>4</td>\n",
       "    </tr>\n",
       "  </tbody>\n",
       "</table>\n",
       "</div>"
      ],
      "text/plain": [
       "   countryCode  customerID PaperlessDate  invoiceNumber InvoiceDate  \\\n",
       "0          391  0379-NEVHP      4/6/2013         611365    1/2/2013   \n",
       "1          406  8976-AMJEO      3/3/2012        7900770   1/26/2013   \n",
       "2          391  2820-XGXSB     1/26/2012        9231909    7/3/2013   \n",
       "3          406  9322-YCTQO      4/6/2012        9888306   2/10/2013   \n",
       "4          818  6627-ELFBK    11/26/2012       15752855  10/25/2012   \n",
       "\n",
       "      DueDate  InvoiceAmount Disputed SettledDate PaperlessBill  DaysToSettle  \\\n",
       "0    2/1/2013          55.94       No   1/15/2013         Paper            13   \n",
       "1   2/25/2013          61.74      Yes    3/3/2013    Electronic            36   \n",
       "2    8/2/2013          65.88       No    7/8/2013    Electronic             5   \n",
       "3   3/12/2013         105.92       No   3/17/2013    Electronic            35   \n",
       "4  11/24/2012          72.27      Yes  11/28/2012         Paper            34   \n",
       "\n",
       "   DaysLate  \n",
       "0         0  \n",
       "1         6  \n",
       "2         0  \n",
       "3         5  \n",
       "4         4  "
      ]
     },
     "execution_count": 2,
     "metadata": {},
     "output_type": "execute_result"
    }
   ],
   "source": [
    "ds = pd.read_csv('IBM-Accounts-Receivable.csv')\n",
    "ds.head(5)"
   ]
  },
  {
   "cell_type": "markdown",
   "metadata": {},
   "source": [
    "### Data Preprocessing \n",
    "#### 1) Check for Missing Values"
   ]
  },
  {
   "cell_type": "code",
   "execution_count": 3,
   "metadata": {},
   "outputs": [
    {
     "data": {
      "text/plain": [
       "countryCode      0\n",
       "customerID       0\n",
       "PaperlessDate    0\n",
       "invoiceNumber    0\n",
       "InvoiceDate      0\n",
       "DueDate          0\n",
       "InvoiceAmount    0\n",
       "Disputed         0\n",
       "SettledDate      0\n",
       "PaperlessBill    0\n",
       "DaysToSettle     0\n",
       "DaysLate         0\n",
       "dtype: int64"
      ]
     },
     "execution_count": 3,
     "metadata": {},
     "output_type": "execute_result"
    }
   ],
   "source": [
    "ds.isnull().sum()"
   ]
  },
  {
   "cell_type": "markdown",
   "metadata": {},
   "source": [
    "#### 2) Check for Misclassified Feature Types"
   ]
  },
  {
   "cell_type": "code",
   "execution_count": 4,
   "metadata": {},
   "outputs": [
    {
     "name": "stdout",
     "output_type": "stream",
     "text": [
      "<class 'pandas.core.frame.DataFrame'>\n",
      "RangeIndex: 2466 entries, 0 to 2465\n",
      "Data columns (total 12 columns):\n",
      " #   Column         Non-Null Count  Dtype  \n",
      "---  ------         --------------  -----  \n",
      " 0   countryCode    2466 non-null   int64  \n",
      " 1   customerID     2466 non-null   object \n",
      " 2   PaperlessDate  2466 non-null   object \n",
      " 3   invoiceNumber  2466 non-null   int64  \n",
      " 4   InvoiceDate    2466 non-null   object \n",
      " 5   DueDate        2466 non-null   object \n",
      " 6   InvoiceAmount  2466 non-null   float64\n",
      " 7   Disputed       2466 non-null   object \n",
      " 8   SettledDate    2466 non-null   object \n",
      " 9   PaperlessBill  2466 non-null   object \n",
      " 10  DaysToSettle   2466 non-null   int64  \n",
      " 11  DaysLate       2466 non-null   int64  \n",
      "dtypes: float64(1), int64(4), object(7)\n",
      "memory usage: 231.3+ KB\n"
     ]
    }
   ],
   "source": [
    "ds.info(verbose = True)"
   ]
  },
  {
   "cell_type": "code",
   "execution_count": 5,
   "metadata": {},
   "outputs": [
    {
     "data": {
      "text/plain": [
       "customerID       object\n",
       "PaperlessDate    object\n",
       "InvoiceDate      object\n",
       "DueDate          object\n",
       "Disputed         object\n",
       "SettledDate      object\n",
       "PaperlessBill    object\n",
       "dtype: object"
      ]
     },
     "execution_count": 5,
     "metadata": {},
     "output_type": "execute_result"
    }
   ],
   "source": [
    "ds.dtypes[ds.dtypes == 'object']"
   ]
  },
  {
   "cell_type": "code",
   "execution_count": 6,
   "metadata": {},
   "outputs": [],
   "source": [
    "ds['PaperlessDate'] = pd.to_datetime(ds['PaperlessDate'])\n",
    "ds['InvoiceDate'] = pd.to_datetime(ds['InvoiceDate'])\n",
    "ds['DueDate'] = pd.to_datetime(ds['DueDate'])\n",
    "ds['SettledDate'] = pd.to_datetime(ds['SettledDate'])"
   ]
  },
  {
   "cell_type": "code",
   "execution_count": 7,
   "metadata": {},
   "outputs": [],
   "source": [
    "ds['Disputed'] = OrdinalEncoder().fit_transform(ds[['Disputed']])\n",
    "ds['PaperlessBill'] = OrdinalEncoder().fit_transform(ds[['PaperlessBill']])"
   ]
  },
  {
   "cell_type": "markdown",
   "metadata": {},
   "source": [
    "#### 3) Corelation Analysis"
   ]
  },
  {
   "cell_type": "code",
   "execution_count": 16,
   "metadata": {},
   "outputs": [
    {
     "data": {
      "text/plain": [
       "<AxesSubplot:>"
      ]
     },
     "execution_count": 16,
     "metadata": {},
     "output_type": "execute_result"
    },
    {
     "data": {
      "image/png": "[encoded data removed]",
      "text/plain": [
       "<Figure size 432x288 with 2 Axes>"
      ]
     },
     "metadata": {
      "needs_background": "light"
     },
     "output_type": "display_data"
    }
   ],
   "source": [
    "corelations = ds.corr()\n",
    "sns.heatmap(corelations)"
   ]
  },
  {
   "cell_type": "code",
   "execution_count": 9,
   "metadata": {
    "scrolled": true
   },
   "outputs": [
    {
     "data": {
      "text/html": [
       "<div>\n",
       "<style scoped>\n",
       "    .dataframe tbody tr th:only-of-type {\n",
       "        vertical-align: middle;\n",
       "    }\n",
       "\n",
       "    .dataframe tbody tr th {\n",
       "        vertical-align: top;\n",
       "    }\n",
       "\n",
       "    .dataframe thead th {\n",
       "        text-align: right;\n",
       "    }\n",
       "</style>\n",
       "<table border=\"1\" class=\"dataframe\">\n",
       "  <thead>\n",
       "    <tr style=\"text-align: right;\">\n",
       "      <th></th>\n",
       "      <th>countryCode</th>\n",
       "      <th>invoiceNumber</th>\n",
       "      <th>InvoiceAmount</th>\n",
       "      <th>Disputed</th>\n",
       "      <th>PaperlessBill</th>\n",
       "      <th>DaysToSettle</th>\n",
       "      <th>DaysLate</th>\n",
       "    </tr>\n",
       "  </thead>\n",
       "  <tbody>\n",
       "    <tr>\n",
       "      <th>countryCode</th>\n",
       "      <td>1.000000</td>\n",
       "      <td>0.015996</td>\n",
       "      <td>-0.384881</td>\n",
       "      <td>-0.007806</td>\n",
       "      <td>0.059781</td>\n",
       "      <td>0.066341</td>\n",
       "      <td>0.090462</td>\n",
       "    </tr>\n",
       "    <tr>\n",
       "      <th>invoiceNumber</th>\n",
       "      <td>0.015996</td>\n",
       "      <td>1.000000</td>\n",
       "      <td>-0.032699</td>\n",
       "      <td>-0.050752</td>\n",
       "      <td>0.025532</td>\n",
       "      <td>-0.005921</td>\n",
       "      <td>0.004402</td>\n",
       "    </tr>\n",
       "    <tr>\n",
       "      <th>InvoiceAmount</th>\n",
       "      <td>-0.384881</td>\n",
       "      <td>-0.032699</td>\n",
       "      <td>1.000000</td>\n",
       "      <td>0.148876</td>\n",
       "      <td>-0.026988</td>\n",
       "      <td>0.060786</td>\n",
       "      <td>0.059980</td>\n",
       "    </tr>\n",
       "    <tr>\n",
       "      <th>Disputed</th>\n",
       "      <td>-0.007806</td>\n",
       "      <td>-0.050752</td>\n",
       "      <td>0.148876</td>\n",
       "      <td>1.000000</td>\n",
       "      <td>-0.004499</td>\n",
       "      <td>0.439126</td>\n",
       "      <td>0.443232</td>\n",
       "    </tr>\n",
       "    <tr>\n",
       "      <th>PaperlessBill</th>\n",
       "      <td>0.059781</td>\n",
       "      <td>0.025532</td>\n",
       "      <td>-0.026988</td>\n",
       "      <td>-0.004499</td>\n",
       "      <td>1.000000</td>\n",
       "      <td>0.225976</td>\n",
       "      <td>0.163333</td>\n",
       "    </tr>\n",
       "    <tr>\n",
       "      <th>DaysToSettle</th>\n",
       "      <td>0.066341</td>\n",
       "      <td>-0.005921</td>\n",
       "      <td>0.060786</td>\n",
       "      <td>0.439126</td>\n",
       "      <td>0.225976</td>\n",
       "      <td>1.000000</td>\n",
       "      <td>0.820552</td>\n",
       "    </tr>\n",
       "    <tr>\n",
       "      <th>DaysLate</th>\n",
       "      <td>0.090462</td>\n",
       "      <td>0.004402</td>\n",
       "      <td>0.059980</td>\n",
       "      <td>0.443232</td>\n",
       "      <td>0.163333</td>\n",
       "      <td>0.820552</td>\n",
       "      <td>1.000000</td>\n",
       "    </tr>\n",
       "  </tbody>\n",
       "</table>\n",
       "</div>"
      ],
      "text/plain": [
       "               countryCode  invoiceNumber  InvoiceAmount  Disputed  \\\n",
       "countryCode       1.000000       0.015996      -0.384881 -0.007806   \n",
       "invoiceNumber     0.015996       1.000000      -0.032699 -0.050752   \n",
       "InvoiceAmount    -0.384881      -0.032699       1.000000  0.148876   \n",
       "Disputed         -0.007806      -0.050752       0.148876  1.000000   \n",
       "PaperlessBill     0.059781       0.025532      -0.026988 -0.004499   \n",
       "DaysToSettle      0.066341      -0.005921       0.060786  0.439126   \n",
       "DaysLate          0.090462       0.004402       0.059980  0.443232   \n",
       "\n",
       "               PaperlessBill  DaysToSettle  DaysLate  \n",
       "countryCode         0.059781      0.066341  0.090462  \n",
       "invoiceNumber       0.025532     -0.005921  0.004402  \n",
       "InvoiceAmount      -0.026988      0.060786  0.059980  \n",
       "Disputed           -0.004499      0.439126  0.443232  \n",
       "PaperlessBill       1.000000      0.225976  0.163333  \n",
       "DaysToSettle        0.225976      1.000000  0.820552  \n",
       "DaysLate            0.163333      0.820552  1.000000  "
      ]
     },
     "execution_count": 9,
     "metadata": {},
     "output_type": "execute_result"
    }
   ],
   "source": [
    "ds.corr()"
   ]
  },
  {
   "cell_type": "code",
   "execution_count": 10,
   "metadata": {},
   "outputs": [],
   "source": [
    "x = ds[['countryCode','invoiceNumber','InvoiceAmount','Disputed','PaperlessBill','DaysToSettle']]\n",
    "y = ds['DaysLate']"
   ]
  },
  {
   "cell_type": "markdown",
   "metadata": {},
   "source": [
    "#### 4) Split Data into test & Train"
   ]
  },
  {
   "cell_type": "code",
   "execution_count": 11,
   "metadata": {},
   "outputs": [],
   "source": [
    "xtrain,xtest,ytrain,ytest=train_test_split(x,y,test_size=1/3,random_state = 42)"
   ]
  },
  {
   "cell_type": "markdown",
   "metadata": {},
   "source": [
    "#### 5) Scale Data for better Modeling Process"
   ]
  },
  {
   "cell_type": "code",
   "execution_count": 12,
   "metadata": {},
   "outputs": [],
   "source": [
    "std_sclr = StandardScaler()\n",
    "x_train = std_sclr.fit_transform(xtrain)\n",
    "x_test = std_sclr.fit_transform(xtest)"
   ]
  },
  {
   "cell_type": "markdown",
   "metadata": {},
   "source": [
    "### Data Modeling\n",
    "#### 1) Linear Regresion"
   ]
  },
  {
   "cell_type": "code",
   "execution_count": 13,
   "metadata": {},
   "outputs": [
    {
     "name": "stdout",
     "output_type": "stream",
     "text": [
      "\n",
      " Mean Absolute Error 2.760358249260155\n",
      "\n",
      " Root Mean Absolute Error 1.6614325894420618\n"
     ]
    }
   ],
   "source": [
    "model1= LinearRegression()\n",
    "model1.fit(x_train,ytrain)\n",
    "ypred1=model1.predict(x_test)\n",
    "print('\\n Mean Absolute Error',mean_absolute_error(ytest,ypred1))\n",
    "print('\\n Root Mean Absolute Error',np.sqrt(mean_absolute_error(ytest,ypred1)))"
   ]
  },
  {
   "cell_type": "code",
   "execution_count": 17,
   "metadata": {},
   "outputs": [
    {
     "data": {
      "text/plain": [
       "[Text(0.5, 0, 'Actual'), Text(0, 0.5, 'Predicted')]"
      ]
     },
     "execution_count": 17,
     "metadata": {},
     "output_type": "execute_result"
    },
    {
     "data": {
      "image/png": "[encoded data removed]",
      "text/plain": [
       "<Figure size 432x288 with 1 Axes>"
      ]
     },
     "metadata": {
      "needs_background": "light"
     },
     "output_type": "display_data"
    }
   ],
   "source": [
    "plot = sns.regplot(ytest,ypred1,scatter_kws={\"color\": \"orange\"}, line_kws={\"color\": \"blue\"})\n",
    "plot.set(xlabel='Actual', ylabel='Predicted')"
   ]
  },
  {
   "cell_type": "code",
   "execution_count": 23,
   "metadata": {},
   "outputs": [
    {
     "data": {
      "image/png": "[encoded data removed]",
      "text/plain": [
       "<Figure size 432x288 with 1 Axes>"
      ]
     },
     "metadata": {
      "needs_background": "light"
     },
     "output_type": "display_data"
    }
   ],
   "source": [
    "imp_features = pd.Series(model1.coef_, index = x.columns)\n",
    "imp_features = imp_features.sort_values(ascending = True)\n",
    "imp_features.plot(kind = 'barh', color = 'blue')\n",
    "plt.ylabel(\"Feature\")\n",
    "plt.xlabel(\"Score\")\n",
    "plt.show()"
   ]
  },
  {
   "cell_type": "markdown",
   "metadata": {},
   "source": [
    "#### 2) Random Forest"
   ]
  },
  {
   "cell_type": "code",
   "execution_count": 14,
   "metadata": {},
   "outputs": [
    {
     "name": "stdout",
     "output_type": "stream",
     "text": [
      "\n",
      " Mean Absolute Error 0.24568126520681263\n",
      "\n",
      " Root Mean Absolute Error 0.4956624508743956\n"
     ]
    }
   ],
   "source": [
    "model2= RandomForestRegressor()\n",
    "model2.fit(x_train,ytrain)\n",
    "ypred2=model2.predict(x_test)\n",
    "print('\\n Mean Absolute Error',mean_absolute_error(ytest,ypred2))\n",
    "print('\\n Root Mean Absolute Error',np.sqrt(mean_absolute_error(ytest,ypred2)))"
   ]
  },
  {
   "cell_type": "code",
   "execution_count": 26,
   "metadata": {},
   "outputs": [
    {
     "data": {
      "text/plain": [
       "[Text(0.5, 0, 'Actual'), Text(0, 0.5, 'Predicted')]"
      ]
     },
     "execution_count": 26,
     "metadata": {},
     "output_type": "execute_result"
    },
    {
     "data": {
      "image/png": "[encoded data removed]",
      "text/plain": [
       "<Figure size 432x288 with 1 Axes>"
      ]
     },
     "metadata": {
      "needs_background": "light"
     },
     "output_type": "display_data"
    }
   ],
   "source": [
    "plot = sns.regplot(ytest,ypred2,scatter_kws={\"color\": \"orange\"}, line_kws={\"color\": \"green\"})\n",
    "plot.set(xlabel='Actual', ylabel='Predicted')"
   ]
  },
  {
   "cell_type": "code",
   "execution_count": 24,
   "metadata": {},
   "outputs": [
    {
     "data": {
      "image/png": "[encoded data removed]",
      "text/plain": [
       "<Figure size 432x288 with 1 Axes>"
      ]
     },
     "metadata": {
      "needs_background": "light"
     },
     "output_type": "display_data"
    }
   ],
   "source": [
    "imp_features = pd.Series(model2.feature_importances_, index = x.columns)\n",
    "imp_features = imp_features.sort_values(ascending = True)\n",
    "imp_features.plot(kind = 'barh', color = 'orange')\n",
    "plt.ylabel(\"Feature\")\n",
    "plt.xlabel(\"Score\")\n",
    "plt.show()"
   ]
  },
  {
   "cell_type": "markdown",
   "metadata": {},
   "source": [
    "#### 3) XG boost"
   ]
  },
  {
   "cell_type": "code",
   "execution_count": 15,
   "metadata": {},
   "outputs": [
    {
     "name": "stdout",
     "output_type": "stream",
     "text": [
      "\n",
      " Mean Absolute Error 0.24166153433318463\n",
      "\n",
      " Root Mean Absolute Error 0.4915908200253384\n"
     ]
    }
   ],
   "source": [
    "model4= XGBRegressor()\n",
    "model4.fit(x_train,ytrain)\n",
    "ypred4=model4.predict(x_test)\n",
    "print('\\n Mean Absolute Error',mean_absolute_error(ytest,ypred4))\n",
    "print('\\n Root Mean Absolute Error',np.sqrt(mean_absolute_error(ytest,ypred4)))"
   ]
  },
  {
   "cell_type": "code",
   "execution_count": 29,
   "metadata": {},
   "outputs": [
    {
     "data": {
      "text/plain": [
       "[Text(0.5, 0, 'Actual'), Text(0, 0.5, 'Predicted')]"
      ]
     },
     "execution_count": 29,
     "metadata": {},
     "output_type": "execute_result"
    },
    {
     "data": {
      "image/png": "[encoded data removed]",
      "text/plain": [
       "<Figure size 432x288 with 1 Axes>"
      ]
     },
     "metadata": {
      "needs_background": "light"
     },
     "output_type": "display_data"
    }
   ],
   "source": [
    "plot = sns.regplot(ytest,ypred4,scatter_kws={\"color\": \"red\"}, line_kws={\"color\": \"blue\"})\n",
    "plot.set(xlabel='Actual', ylabel='Predicted')"
   ]
  },
  {
   "cell_type": "code",
   "execution_count": 30,
   "metadata": {},
   "outputs": [
    {
     "data": {
      "image/png": "[encoded data removed]",
      "text/plain": [
       "<Figure size 432x288 with 1 Axes>"
      ]
     },
     "metadata": {
      "needs_background": "light"
     },
     "output_type": "display_data"
    }
   ],
   "source": [
    "imp_features = pd.Series(model4.feature_importances_, index = x.columns)\n",
    "imp_features = imp_features.sort_values(ascending = True)\n",
    "imp_features.plot(kind = 'barh', color = 'red')\n",
    "plt.ylabel(\"Feature\")\n",
    "plt.xlabel(\"Score\")\n",
    "plt.show()"
   ]
  },
  {
   "cell_type": "markdown",
   "metadata": {},
   "source": [
    "### Summary:-\n",
    "* From our feature analysis and correlation analysis we can determine that the payment paid at a later date is directly influenced by features such as base given to settle the bill.\n",
    "* Other features such as the invoice amount the status of the bill whether it is disputed or not and the county where the payer is from has a also has an influential effect on days late.\n",
    "* Out of the 3 machine learning models that I ran on this IBM data such as linear regression, XG boost and random forest, I have got the least root mean absolute error of 0.4915 from XG Boost.\n",
    "* Thus its recommended , bringing changes with respect to these feature will defently have visible effects on on time payment."
   ]
  }
 ],
 "metadata": {
  "kernelspec": {
   "display_name": "Python 3",
   "language": "python",
   "name": "python3"
  },
  "language_info": {
   "codemirror_mode": {
    "name": "ipython",
    "version": 3
   },
   "file_extension": ".py",
   "mimetype": "text/x-python",
   "name": "python",
   "nbconvert_exporter": "python",
   "pygments_lexer": "ipython3",
   "version": "3.8.5"
  }
 },
 "nbformat": 4,
 "nbformat_minor": 4
}
