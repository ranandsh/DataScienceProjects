{
 "cells": [
  {
   "cell_type": "markdown",
   "metadata": {},
   "source": [
    "# Cancer In Men - Prostate\n",
    "### By : Rohan Anand Shetty\n",
    "One of the most prevalent cancers that affects males is prostate cancer. The prostate gland, a tiny, walnut-shaped gland that makes the seminal fluid that feeds and carries sperm, develops a cancerous tumor in it. The likelihood of acquiring prostate cancer is increased by a number of risk factors, despite the fact that the precise causes of this disease are not entirely understood..\n",
    "\n",
    "Although the precise causes of prostate cancer are not yet entirely known, there are a number of risk factors that can raise the likelihood of getting the disease. When determining a person's risk for prostate cancer, it's crucial to take into account their age, family history, race, and environmental factors. Men should discuss their risk factors with their healthcare practitioner and get routine prostate cancer screenings because early detection and treatment are essential for improving outcomes for men with this disease."
   ]
  },
  {
   "cell_type": "code",
   "execution_count": 1,
   "metadata": {},
   "outputs": [],
   "source": [
    "import numpy as np\n",
    "import pandas as pd\n",
    "import plotly.express as px\n",
    "import seaborn as sns\n",
    "from sklearn.model_selection import train_test_split\n",
    "from sklearn.preprocessing import StandardScaler\n",
    "from sklearn.metrics import confusion_matrix,accuracy_score \n",
    "from sklearn.tree import DecisionTreeClassifier\n",
    "from sklearn.linear_model import LogisticRegression\n",
    "from sklearn import svm\n",
    "import ipywidgets as widgets\n",
    "from ipywidgets import interact, interactive, fixed, interact_manual\n",
    "import matplotlib.pyplot as plt\n",
    "import warnings\n",
    "warnings.filterwarnings('ignore')"
   ]
  },
  {
   "cell_type": "markdown",
   "metadata": {},
   "source": [
    "#### The Data \n",
    "The data is resourced from kaggle and its coloumns are radius, texture, perimeter, area, smoothness, compactness, symmetry, and fractal dimension of a tumor, which can all be important factors in the diagnosis and treatment of prostate cancer in men.\n",
    "\n",
    "* Radius denotes the size of the tumor, which may be a sign of the cancer's stage and severity. Bigger tumors are frequently harder to treat and can necessitate more invasive treatments like radiation or surgery.\n",
    "\n",
    "* Texture, which describes how tumor cells appear under a microscope, can aid in identifying benign from malignant tumors. Whereas benign tumors have a more uniform and regular texture, malignant tumors typically have an appearance that is more erratic and disorderly..\n",
    "\n",
    "* Measures of the tumor's size and shape, such as perimeter and area, can be used to estimate its stage and overall severity. If the perimeter or region is greater, the cancer may be more advanced and in need of more severe therapy.\n",
    "\n",
    "* Smoothness and compactness are indicators of how regular and uniform the tumor cells are, and they can be used to distinguish benign from malignant tumors. While benign tumors are more homogeneous and regular in appearance, malignant tumors are typically less smooth and compact..\n",
    "\n",
    "* The balance and proportion of the tumor cells is referred to as symmetry, and it can play a significant role in predicting the stage and aggressiveness of the malignancy. More symmetrical tumors may be less aggressive and simpler to treat, whereas more asymmetrical tumors may be more challenging to cure and more likely to spread.\n",
    "\n",
    "* The intricacy of tumor cells is measured by their fractal dimension, which may be a sign of how aggressive a tumour is. Higher fractal dimension tumors have a tendency to be more complicated and irregular, and they may also be more aggressive and challenging to treat.\n",
    "\n",
    "In conclusion, a tumor's radius, texture, perimeter, area, smoothness, compactness, symmetry, and fractal dimension can all be used to gather crucial data for the detection and management of prostate cancer in male patients. The outcomes for males with this disease can be improved by using these metrics to evaluate the stage, aggressiveness, and treatment options for the malignancy."
   ]
  },
  {
   "cell_type": "code",
   "execution_count": 2,
   "metadata": {},
   "outputs": [
    {
     "data": {
      "text/html": [
       "<div>\n",
       "<style scoped>\n",
       "    .dataframe tbody tr th:only-of-type {\n",
       "        vertical-align: middle;\n",
       "    }\n",
       "\n",
       "    .dataframe tbody tr th {\n",
       "        vertical-align: top;\n",
       "    }\n",
       "\n",
       "    .dataframe thead th {\n",
       "        text-align: right;\n",
       "    }\n",
       "</style>\n",
       "<table border=\"1\" class=\"dataframe\">\n",
       "  <thead>\n",
       "    <tr style=\"text-align: right;\">\n",
       "      <th></th>\n",
       "      <th>id</th>\n",
       "      <th>diagnosis_result</th>\n",
       "      <th>radius</th>\n",
       "      <th>texture</th>\n",
       "      <th>perimeter</th>\n",
       "      <th>area</th>\n",
       "      <th>smoothness</th>\n",
       "      <th>compactness</th>\n",
       "      <th>symmetry</th>\n",
       "      <th>fractal_dimension</th>\n",
       "    </tr>\n",
       "  </thead>\n",
       "  <tbody>\n",
       "    <tr>\n",
       "      <th>0</th>\n",
       "      <td>1</td>\n",
       "      <td>M</td>\n",
       "      <td>23</td>\n",
       "      <td>12</td>\n",
       "      <td>151</td>\n",
       "      <td>954</td>\n",
       "      <td>0.143</td>\n",
       "      <td>0.278</td>\n",
       "      <td>0.242</td>\n",
       "      <td>0.079</td>\n",
       "    </tr>\n",
       "    <tr>\n",
       "      <th>1</th>\n",
       "      <td>2</td>\n",
       "      <td>B</td>\n",
       "      <td>9</td>\n",
       "      <td>13</td>\n",
       "      <td>133</td>\n",
       "      <td>1326</td>\n",
       "      <td>0.143</td>\n",
       "      <td>0.079</td>\n",
       "      <td>0.181</td>\n",
       "      <td>0.057</td>\n",
       "    </tr>\n",
       "    <tr>\n",
       "      <th>2</th>\n",
       "      <td>3</td>\n",
       "      <td>M</td>\n",
       "      <td>21</td>\n",
       "      <td>27</td>\n",
       "      <td>130</td>\n",
       "      <td>1203</td>\n",
       "      <td>0.125</td>\n",
       "      <td>0.160</td>\n",
       "      <td>0.207</td>\n",
       "      <td>0.060</td>\n",
       "    </tr>\n",
       "    <tr>\n",
       "      <th>3</th>\n",
       "      <td>4</td>\n",
       "      <td>M</td>\n",
       "      <td>14</td>\n",
       "      <td>16</td>\n",
       "      <td>78</td>\n",
       "      <td>386</td>\n",
       "      <td>0.070</td>\n",
       "      <td>0.284</td>\n",
       "      <td>0.260</td>\n",
       "      <td>0.097</td>\n",
       "    </tr>\n",
       "    <tr>\n",
       "      <th>4</th>\n",
       "      <td>5</td>\n",
       "      <td>M</td>\n",
       "      <td>9</td>\n",
       "      <td>19</td>\n",
       "      <td>135</td>\n",
       "      <td>1297</td>\n",
       "      <td>0.141</td>\n",
       "      <td>0.133</td>\n",
       "      <td>0.181</td>\n",
       "      <td>0.059</td>\n",
       "    </tr>\n",
       "  </tbody>\n",
       "</table>\n",
       "</div>"
      ],
      "text/plain": [
       "   id diagnosis_result  radius  texture  perimeter  area  smoothness  \\\n",
       "0   1                M      23       12        151   954       0.143   \n",
       "1   2                B       9       13        133  1326       0.143   \n",
       "2   3                M      21       27        130  1203       0.125   \n",
       "3   4                M      14       16         78   386       0.070   \n",
       "4   5                M       9       19        135  1297       0.141   \n",
       "\n",
       "   compactness  symmetry  fractal_dimension  \n",
       "0        0.278     0.242              0.079  \n",
       "1        0.079     0.181              0.057  \n",
       "2        0.160     0.207              0.060  \n",
       "3        0.284     0.260              0.097  \n",
       "4        0.133     0.181              0.059  "
      ]
     },
     "execution_count": 2,
     "metadata": {},
     "output_type": "execute_result"
    }
   ],
   "source": [
    "data = pd.read_csv(\"Prostate_Cancer.csv\")\n",
    "data.head(5)"
   ]
  },
  {
   "cell_type": "code",
   "execution_count": 3,
   "metadata": {},
   "outputs": [
    {
     "name": "stdout",
     "output_type": "stream",
     "text": [
      "<class 'pandas.core.frame.DataFrame'>\n",
      "RangeIndex: 100 entries, 0 to 99\n",
      "Data columns (total 10 columns):\n",
      " #   Column             Non-Null Count  Dtype  \n",
      "---  ------             --------------  -----  \n",
      " 0   id                 100 non-null    int64  \n",
      " 1   diagnosis_result   100 non-null    object \n",
      " 2   radius             100 non-null    int64  \n",
      " 3   texture            100 non-null    int64  \n",
      " 4   perimeter          100 non-null    int64  \n",
      " 5   area               100 non-null    int64  \n",
      " 6   smoothness         100 non-null    float64\n",
      " 7   compactness        100 non-null    float64\n",
      " 8   symmetry           100 non-null    float64\n",
      " 9   fractal_dimension  100 non-null    float64\n",
      "dtypes: float64(4), int64(5), object(1)\n",
      "memory usage: 7.9+ KB\n"
     ]
    }
   ],
   "source": [
    "data.info(verbose = True)"
   ]
  },
  {
   "cell_type": "markdown",
   "metadata": {},
   "source": [
    "#### Corelation Analysis"
   ]
  },
  {
   "cell_type": "code",
   "execution_count": 4,
   "metadata": {},
   "outputs": [
    {
     "name": "stdout",
     "output_type": "stream",
     "text": [
      "                         id    radius   texture  perimeter      area  \\\n",
      "id                 1.000000  0.047276  0.052263  -0.215953 -0.174354   \n",
      "radius             0.047276  1.000000  0.100245  -0.238216 -0.250934   \n",
      "texture            0.052263  0.100245  1.000000  -0.113453 -0.113725   \n",
      "perimeter         -0.215953 -0.238216 -0.113453   1.000000  0.976648   \n",
      "area              -0.174354 -0.250934 -0.113725   0.976648  1.000000   \n",
      "smoothness        -0.258328 -0.127121  0.102321   0.269442  0.208438   \n",
      "compactness       -0.277554 -0.191490  0.032446   0.527542  0.424950   \n",
      "symmetry          -0.222334 -0.039707  0.077912   0.195539  0.110435   \n",
      "fractal_dimension -0.164946 -0.029120  0.139157  -0.195434 -0.274344   \n",
      "\n",
      "                   smoothness  compactness  symmetry  fractal_dimension  \n",
      "id                  -0.258328    -0.277554 -0.222334          -0.164946  \n",
      "radius              -0.127121    -0.191490 -0.039707          -0.029120  \n",
      "texture              0.102321     0.032446  0.077912           0.139157  \n",
      "perimeter            0.269442     0.527542  0.195539          -0.195434  \n",
      "area                 0.208438     0.424950  0.110435          -0.274344  \n",
      "smoothness           1.000000     0.465723  0.424203           0.369580  \n",
      "compactness          0.465723     1.000000  0.681123           0.647953  \n",
      "symmetry             0.424203     0.681123  1.000000           0.568608  \n",
      "fractal_dimension    0.369580     0.647953  0.568608           1.000000  \n"
     ]
    },
    {
     "data": {
      "image/png": "[encoded data removed]",
      "text/plain": [
       "<Figure size 432x288 with 2 Axes>"
      ]
     },
     "metadata": {
      "needs_background": "light"
     },
     "output_type": "display_data"
    }
   ],
   "source": [
    "corelations = data.corr()\n",
    "sns.heatmap(corelations)\n",
    "print(corelations)"
   ]
  },
  {
   "cell_type": "markdown",
   "metadata": {},
   "source": [
    "#### Data Visualization\n",
    "Terms like \"malignant\" and \"benign\" are used to describe how tumor cells behave in prostate cancer. Because they are cancerous, malignant tumors have the ability to infect nearby tissues and metastasize to other areas of the body. These tumors may be aggressive, thus immediate treatment is necessary to stop the cancer from spreading. Malignant tumors can form in the prostate gland and its surrounding tissues, which can lead to symptoms like pain in the back, hips, or pelvis, inability to urinate, blood in the urine or semen, and trouble urinating.\n",
    "\n",
    "On the other hand, benign tumors are not malignant, do not infect nearby tissues, and do not disseminate to other areas of the body. These tumors may exhibit symptoms resembling those of malignant tumors, such as pain in the lower back or pelvis or trouble urinating, but they do not present the same danger of spreading and may exhibit less aggressive development patterns. Benign tumors can form in the prostate gland and be found via normal screenings or assessments for other medical issues in prostate cancer.\n",
    "\n",
    "It's crucial to remember that not all tumors are 100 percent benign or 100 percent malignant. Tumors can behave in a variety of ways; some may have more aggressive growth patterns and a higher risk of metastasis, while others may be less aggressive and less likely to spread. Tumors may occasionally be labeled as \"borderline\" or \"atypical,\" indicating that they contain some malignancy-related characteristics but are not definitely malignant."
   ]
  },
  {
   "cell_type": "code",
   "execution_count": 33,
   "metadata": {
    "scrolled": true
   },
   "outputs": [
    {
     "data": {
      "image/png": "[encoded data removed]",
      "text/plain": [
       "<Figure size 720x720 with 1 Axes>"
      ]
     },
     "metadata": {},
     "output_type": "display_data"
    }
   ],
   "source": [
    "array = [(data['diagnosis_result']=='M').sum(),(data['diagnosis_result']=='B').sum()]\n",
    "labels = ['Malignant','Begnin']\n",
    "color = sns.color_palette('bright')\n",
    "plt.figure(figsize=(10,10))\n",
    "plt.pie(array,labels=labels, colors = color, autopct='%1.0f%%')\n",
    "plt.title(\"Types Of Cancer Result\")\n",
    "plt.legend(title='Types')\n",
    "plt.show()"
   ]
  },
  {
   "cell_type": "markdown",
   "metadata": {},
   "source": [
    "Although malignant tumors may need more harsh interventions like surgery, radiation therapy, or chemotherapy, the behavior of a tumor in prostate cancer is ultimately a key component in deciding the best course of treatment. Depending on their size and location, benign tumors may be handled with surveillance or less intrusive procedures. The outcomes for men with prostate cancer can be improved by routine screening and assessment by a healthcare professional, which can aid in the detection and management of malignancies in the prostate gland and surrounding tissues."
   ]
  },
  {
   "cell_type": "code",
   "execution_count": 39,
   "metadata": {},
   "outputs": [
    {
     "data": {
      "application/vnd.jupyter.widget-view+json": {
       "model_id": "ec398e4cdca6420883161f8434484649",
       "version_major": 2,
       "version_minor": 0
      },
      "text/plain": [
       "interactive(children=(Dropdown(description='x', options=('radius', 'texture', 'perimeter', 'area', 'smoothness…"
      ]
     },
     "metadata": {},
     "output_type": "display_data"
    },
    {
     "data": {
      "text/plain": [
       "<function __main__.scatter_plot_int(x='Birth_Rate', y='Year')>"
      ]
     },
     "execution_count": 39,
     "metadata": {},
     "output_type": "execute_result"
    }
   ],
   "source": [
    "def scatter_plot_int(x='Birth_Rate',y='Year'):\n",
    "    plt.figure(dpi=120)\n",
    "    plt.title(\"Types Of Cancer Result\")\n",
    "    plt.legend(title='Types')\n",
    "    plt.show()\n",
    "    return plt.scatter(data = data, x=x,y=y)\n",
    "\n",
    "interact(scatter_plot_int,\n",
    "        x = widgets.Dropdown(options = ['radius','texture','perimeter','area','smoothness','compactness','symmetry','fractal_dimension']),\n",
    "        y = widgets.Dropdown(options = ['texture','perimeter','area','radius','smoothness','compactness','symmetry','fractal_dimension']),\n",
    "        hue = widgets.Dropdown(options = ['diagnosis_result']))"
   ]
  },
  {
   "cell_type": "markdown",
   "metadata": {},
   "source": [
    "### Data Preprocessing\n",
    "By guaranteeing that variables are on a same scale and that the data has a normal distribution, the StandardScaler() preprocessing technique helps to scale and normalize data, which enhances the performance and accuracy of machine learning models."
   ]
  },
  {
   "cell_type": "code",
   "execution_count": 7,
   "metadata": {},
   "outputs": [],
   "source": [
    "x = data[['radius','texture','perimeter','area','smoothness','compactness','symmetry','fractal_dimension']]\n",
    "y = data[['diagnosis_result']]\n",
    "xtrain,xtest,ytrain,ytest=train_test_split(x,y,test_size=0.3,random_state =125)"
   ]
  },
  {
   "cell_type": "code",
   "execution_count": 8,
   "metadata": {},
   "outputs": [],
   "source": [
    "std_sclr = StandardScaler()\n",
    "x_train = std_sclr.fit_transform(xtrain)\n",
    "x_test = std_sclr.fit_transform(xtest)"
   ]
  },
  {
   "cell_type": "markdown",
   "metadata": {},
   "source": [
    "### Data Modeling\n",
    "#### 1) Logestic Regression "
   ]
  },
  {
   "cell_type": "code",
   "execution_count": 9,
   "metadata": {},
   "outputs": [
    {
     "name": "stdout",
     "output_type": "stream",
     "text": [
      "Predicted value= \n",
      " ['M' 'M' 'B' 'M' 'M' 'M' 'M' 'M' 'M' 'B' 'B' 'M' 'M' 'B' 'B' 'M' 'B' 'B'\n",
      " 'M' 'M' 'M' 'M' 'M' 'B' 'M' 'M' 'B' 'M' 'M' 'M']\n",
      "\n",
      " Confusion Matrix =\n",
      " [[ 8  3]\n",
      " [ 1 18]]\n",
      "\n",
      "Accurecy= 86.667\n"
     ]
    }
   ],
   "source": [
    "model1= LogisticRegression(solver='liblinear',C=10.0)\n",
    "model1.fit(x_train,ytrain)\n",
    "ypred1=model1.predict(x_test)\n",
    "print(\"Predicted value= \\n\",ypred1)\n",
    "cm_m1 = confusion_matrix(ytest,ypred1)\n",
    "print(\"\\n Confusion Matrix =\\n\",cm_m1)\n",
    "Ac1 = accuracy_score(ytest,ypred1)*100\n",
    "print(\"\\nAccurecy=\",round(Ac1,3))"
   ]
  },
  {
   "cell_type": "markdown",
   "metadata": {},
   "source": [
    "#### 2) DecisionTreeClassifier"
   ]
  },
  {
   "cell_type": "code",
   "execution_count": 10,
   "metadata": {},
   "outputs": [
    {
     "name": "stdout",
     "output_type": "stream",
     "text": [
      "Predicted value= \n",
      " ['M' 'M' 'B' 'M' 'M' 'M' 'M' 'B' 'M' 'B' 'B' 'M' 'M' 'B' 'B' 'B' 'B' 'B'\n",
      " 'M' 'M' 'M' 'M' 'M' 'B' 'M' 'M' 'B' 'M' 'M' 'B']\n",
      "\n",
      " Confusion Matrix =\n",
      " [[ 9  2]\n",
      " [ 3 16]]\n",
      "\n",
      "Accurecy= 83.333\n"
     ]
    }
   ],
   "source": [
    "model2= DecisionTreeClassifier()\n",
    "model2.fit(x_train,ytrain)\n",
    "ypred2=model2.predict(x_test)\n",
    "print(\"Predicted value= \\n\",ypred2)\n",
    "cm_m2 = confusion_matrix(ytest,ypred2)\n",
    "print(\"\\n Confusion Matrix =\\n\",cm_m2)\n",
    "Ac2 = accuracy_score(ytest,ypred2)*100\n",
    "print(\"\\nAccurecy=\",round(Ac2,3))"
   ]
  },
  {
   "cell_type": "markdown",
   "metadata": {},
   "source": [
    "#### 3) support vector machines"
   ]
  },
  {
   "cell_type": "code",
   "execution_count": 11,
   "metadata": {},
   "outputs": [
    {
     "name": "stdout",
     "output_type": "stream",
     "text": [
      "Predicted value= \n",
      " ['M' 'M' 'B' 'M' 'M' 'M' 'M' 'B' 'M' 'B' 'B' 'M' 'M' 'B' 'B' 'B' 'B' 'B'\n",
      " 'M' 'M' 'M' 'M' 'M' 'B' 'M' 'M' 'B' 'M' 'M' 'B']\n",
      "\n",
      " Confusion Matrix =\n",
      " [[ 9  2]\n",
      " [ 3 16]]\n",
      "\n",
      "Accurecy= 83.333\n"
     ]
    }
   ],
   "source": [
    "model3= svm.SVC()\n",
    "model3.fit(x_train,ytrain)\n",
    "ypred3=model3.predict(x_test)\n",
    "print(\"Predicted value= \\n\",ypred2)\n",
    "cm_m3 = confusion_matrix(ytest,ypred2)\n",
    "print(\"\\n Confusion Matrix =\\n\",cm_m2)\n",
    "Ac3 = accuracy_score(ytest,ypred2)*100\n",
    "print(\"\\nAccurecy=\",round(Ac3,3))"
   ]
  },
  {
   "cell_type": "markdown",
   "metadata": {},
   "source": [
    "### Conclusion\n",
    "In the above data modeling analysis we have conducted three types of modeling namely linear decision tree and SVM out of which linear modeling gives the maximum accuracy of 86.667% .\n",
    "\n",
    "Moreover is challenging to pinpoint which tumor characteristic most strongly influences prostate cancer in men because all of these characteristics might offer valuable insight into the diagnosis and management of the condition. The radius, perimeter, and area of the tumor can be used to estimate the stage and extent of the cancer, and the smoothness, compactness, and texture of the tumor cells can reveal information about how aggressive the cancer is. The stage and aggressiveness of the tumour can also be determined by its symmetry and fractal dimension..\n",
    "\n",
    "In the end, prostate cancer diagnosis and treatment involve a thorough assessment of all available data, including imaging investigations, laboratory testing, and physical exams. Radius, texture, perimeter, area, smoothness, compactness, symmetry, and fractal dimension of the tumor can all be used to make this assessment, which can then be used to inform treatment choices and enhance outcomes for men with prostate cancer. Men should regularly get screened for prostate cancer and talk to their doctor about their risk factors, as early diagnosis and treatment are essential for a better prognosis."
   ]
  }
 ],
 "metadata": {
  "kernelspec": {
   "display_name": "Python 3",
   "language": "python",
   "name": "python3"
  },
  "language_info": {
   "codemirror_mode": {
    "name": "ipython",
    "version": 3
   },
   "file_extension": ".py",
   "mimetype": "text/x-python",
   "name": "python",
   "nbconvert_exporter": "python",
   "pygments_lexer": "ipython3",
   "version": "3.8.5"
  }
 },
 "nbformat": 4,
 "nbformat_minor": 4
}
