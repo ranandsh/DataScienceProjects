{
 "cells": [
  {
   "cell_type": "markdown",
   "metadata": {},
   "source": [
    "# Cancer In Men - Prostate\n",
    "### By : Rohan Anand Shetty\n",
    "One of the most prevalent cancers that affects males is prostate cancer. The prostate gland, a tiny, walnut-shaped gland that makes the seminal fluid that feeds and carries sperm, develops a cancerous tumor in it. The likelihood of acquiring prostate cancer is increased by a number of risk factors, despite the fact that the precise causes of this disease are not entirely understood..\n",
    "\n",
    "Although the precise causes of prostate cancer are not yet entirely known, there are a number of risk factors that can raise the likelihood of getting the disease. When determining a person's risk for prostate cancer, it's crucial to take into account their age, family history, race, and environmental factors. Men should discuss their risk factors with their healthcare practitioner and get routine prostate cancer screenings because early detection and treatment are essential for improving outcomes for men with this disease."
   ]
  },
  {
   "cell_type": "code",
   "execution_count": 105,
   "metadata": {},
   "outputs": [],
   "source": [
    "import numpy as np\n",
    "import pandas as pd\n",
    "import plotly.express as px\n",
    "import seaborn as sns\n",
    "from sklearn.model_selection import train_test_split\n",
    "from sklearn.preprocessing import StandardScaler\n",
    "from sklearn.metrics import confusion_matrix,accuracy_score \n",
    "from sklearn.tree import DecisionTreeClassifier\n",
    "from sklearn.linear_model import LogisticRegression\n",
    "from sklearn import svm\n",
    "import ipywidgets as widgets\n",
    "from ipywidgets import interact, interactive, fixed, interact_manual\n",
    "import matplotlib.pyplot as plt\n",
    "import warnings\n",
    "warnings.filterwarnings('ignore')"
   ]
  },
  {
   "cell_type": "markdown",
   "metadata": {},
   "source": [
    "#### The Data \n",
    "The data is resourced from kaggle and its coloumns are radius, texture, perimeter, area, smoothness, compactness, symmetry, and fractal dimension of a tumor, which can all be important factors in the diagnosis and treatment of prostate cancer in men.\n",
    "\n",
    "* Radius denotes the size of the tumor, which may be a sign of the cancer's stage and severity. Bigger tumors are frequently harder to treat and can necessitate more invasive treatments like radiation or surgery.\n",
    "\n",
    "* Texture, which describes how tumor cells appear under a microscope, can aid in identifying benign from malignant tumors. Whereas benign tumors have a more uniform and regular texture, malignant tumors typically have an appearance that is more erratic and disorderly..\n",
    "\n",
    "* Measures of the tumor's size and shape, such as perimeter and area, can be used to estimate its stage and overall severity. If the perimeter or region is greater, the cancer may be more advanced and in need of more severe therapy.\n",
    "\n",
    "* Smoothness and compactness are indicators of how regular and uniform the tumor cells are, and they can be used to distinguish benign from malignant tumors. While benign tumors are more homogeneous and regular in appearance, malignant tumors are typically less smooth and compact..\n",
    "\n",
    "* The balance and proportion of the tumor cells is referred to as symmetry, and it can play a significant role in predicting the stage and aggressiveness of the malignancy. More symmetrical tumors may be less aggressive and simpler to treat, whereas more asymmetrical tumors may be more challenging to cure and more likely to spread.\n",
    "\n",
    "* The intricacy of tumor cells is measured by their fractal dimension, which may be a sign of how aggressive a tumour is. Higher fractal dimension tumors have a tendency to be more complicated and irregular, and they may also be more aggressive and challenging to treat.\n",
    "\n",
    "In conclusion, a tumor's radius, texture, perimeter, area, smoothness, compactness, symmetry, and fractal dimension can all be used to gather crucial data for the detection and management of prostate cancer in male patients. The outcomes for males with this disease can be improved by using these metrics to evaluate the stage, aggressiveness, and treatment options for the malignancy."
   ]
  },
  {
   "cell_type": "code",
   "execution_count": 22,
   "metadata": {},
   "outputs": [
    {
     "data": {
      "text/html": [
       "<div>\n",
       "<style scoped>\n",
       "    .dataframe tbody tr th:only-of-type {\n",
       "        vertical-align: middle;\n",
       "    }\n",
       "\n",
       "    .dataframe tbody tr th {\n",
       "        vertical-align: top;\n",
       "    }\n",
       "\n",
       "    .dataframe thead th {\n",
       "        text-align: right;\n",
       "    }\n",
       "</style>\n",
       "<table border=\"1\" class=\"dataframe\">\n",
       "  <thead>\n",
       "    <tr style=\"text-align: right;\">\n",
       "      <th></th>\n",
       "      <th>id</th>\n",
       "      <th>diagnosis_result</th>\n",
       "      <th>radius</th>\n",
       "      <th>texture</th>\n",
       "      <th>perimeter</th>\n",
       "      <th>area</th>\n",
       "      <th>smoothness</th>\n",
       "      <th>compactness</th>\n",
       "      <th>symmetry</th>\n",
       "      <th>fractal_dimension</th>\n",
       "    </tr>\n",
       "  </thead>\n",
       "  <tbody>\n",
       "    <tr>\n",
       "      <th>0</th>\n",
       "      <td>1</td>\n",
       "      <td>M</td>\n",
       "      <td>23</td>\n",
       "      <td>12</td>\n",
       "      <td>151</td>\n",
       "      <td>954</td>\n",
       "      <td>0.143</td>\n",
       "      <td>0.278</td>\n",
       "      <td>0.242</td>\n",
       "      <td>0.079</td>\n",
       "    </tr>\n",
       "    <tr>\n",
       "      <th>1</th>\n",
       "      <td>2</td>\n",
       "      <td>B</td>\n",
       "      <td>9</td>\n",
       "      <td>13</td>\n",
       "      <td>133</td>\n",
       "      <td>1326</td>\n",
       "      <td>0.143</td>\n",
       "      <td>0.079</td>\n",
       "      <td>0.181</td>\n",
       "      <td>0.057</td>\n",
       "    </tr>\n",
       "    <tr>\n",
       "      <th>2</th>\n",
       "      <td>3</td>\n",
       "      <td>M</td>\n",
       "      <td>21</td>\n",
       "      <td>27</td>\n",
       "      <td>130</td>\n",
       "      <td>1203</td>\n",
       "      <td>0.125</td>\n",
       "      <td>0.160</td>\n",
       "      <td>0.207</td>\n",
       "      <td>0.060</td>\n",
       "    </tr>\n",
       "    <tr>\n",
       "      <th>3</th>\n",
       "      <td>4</td>\n",
       "      <td>M</td>\n",
       "      <td>14</td>\n",
       "      <td>16</td>\n",
       "      <td>78</td>\n",
       "      <td>386</td>\n",
       "      <td>0.070</td>\n",
       "      <td>0.284</td>\n",
       "      <td>0.260</td>\n",
       "      <td>0.097</td>\n",
       "    </tr>\n",
       "    <tr>\n",
       "      <th>4</th>\n",
       "      <td>5</td>\n",
       "      <td>M</td>\n",
       "      <td>9</td>\n",
       "      <td>19</td>\n",
       "      <td>135</td>\n",
       "      <td>1297</td>\n",
       "      <td>0.141</td>\n",
       "      <td>0.133</td>\n",
       "      <td>0.181</td>\n",
       "      <td>0.059</td>\n",
       "    </tr>\n",
       "  </tbody>\n",
       "</table>\n",
       "</div>"
      ],
      "text/plain": [
       "   id diagnosis_result  radius  texture  perimeter  area  smoothness  \\\n",
       "0   1                M      23       12        151   954       0.143   \n",
       "1   2                B       9       13        133  1326       0.143   \n",
       "2   3                M      21       27        130  1203       0.125   \n",
       "3   4                M      14       16         78   386       0.070   \n",
       "4   5                M       9       19        135  1297       0.141   \n",
       "\n",
       "   compactness  symmetry  fractal_dimension  \n",
       "0        0.278     0.242              0.079  \n",
       "1        0.079     0.181              0.057  \n",
       "2        0.160     0.207              0.060  \n",
       "3        0.284     0.260              0.097  \n",
       "4        0.133     0.181              0.059  "
      ]
     },
     "execution_count": 22,
     "metadata": {},
     "output_type": "execute_result"
    }
   ],
   "source": [
    "data = pd.read_csv(\"Prostate_Cancer.csv\")\n",
    "data.head(5)"
   ]
  },
  {
   "cell_type": "code",
   "execution_count": 23,
   "metadata": {},
   "outputs": [
    {
     "name": "stdout",
     "output_type": "stream",
     "text": [
      "<class 'pandas.core.frame.DataFrame'>\n",
      "RangeIndex: 100 entries, 0 to 99\n",
      "Data columns (total 10 columns):\n",
      " #   Column             Non-Null Count  Dtype  \n",
      "---  ------             --------------  -----  \n",
      " 0   id                 100 non-null    int64  \n",
      " 1   diagnosis_result   100 non-null    object \n",
      " 2   radius             100 non-null    int64  \n",
      " 3   texture            100 non-null    int64  \n",
      " 4   perimeter          100 non-null    int64  \n",
      " 5   area               100 non-null    int64  \n",
      " 6   smoothness         100 non-null    float64\n",
      " 7   compactness        100 non-null    float64\n",
      " 8   symmetry           100 non-null    float64\n",
      " 9   fractal_dimension  100 non-null    float64\n",
      "dtypes: float64(4), int64(5), object(1)\n",
      "memory usage: 7.9+ KB\n"
     ]
    }
   ],
   "source": [
    "data.info(verbose = True)"
   ]
  },
  {
   "cell_type": "markdown",
   "metadata": {},
   "source": [
    "#### Corelation Analysis"
   ]
  },
  {
   "cell_type": "code",
   "execution_count": 24,
   "metadata": {},
   "outputs": [
    {
     "name": "stdout",
     "output_type": "stream",
     "text": [
      "                         id    radius   texture  perimeter      area  \\\n",
      "id                 1.000000  0.047276  0.052263  -0.215953 -0.174354   \n",
      "radius             0.047276  1.000000  0.100245  -0.238216 -0.250934   \n",
      "texture            0.052263  0.100245  1.000000  -0.113453 -0.113725   \n",
      "perimeter         -0.215953 -0.238216 -0.113453   1.000000  0.976648   \n",
      "area              -0.174354 -0.250934 -0.113725   0.976648  1.000000   \n",
      "smoothness        -0.258328 -0.127121  0.102321   0.269442  0.208438   \n",
      "compactness       -0.277554 -0.191490  0.032446   0.527542  0.424950   \n",
      "symmetry          -0.222334 -0.039707  0.077912   0.195539  0.110435   \n",
      "fractal_dimension -0.164946 -0.029120  0.139157  -0.195434 -0.274344   \n",
      "\n",
      "                   smoothness  compactness  symmetry  fractal_dimension  \n",
      "id                  -0.258328    -0.277554 -0.222334          -0.164946  \n",
      "radius              -0.127121    -0.191490 -0.039707          -0.029120  \n",
      "texture              0.102321     0.032446  0.077912           0.139157  \n",
      "perimeter            0.269442     0.527542  0.195539          -0.195434  \n",
      "area                 0.208438     0.424950  0.110435          -0.274344  \n",
      "smoothness           1.000000     0.465723  0.424203           0.369580  \n",
      "compactness          0.465723     1.000000  0.681123           0.647953  \n",
      "symmetry             0.424203     0.681123  1.000000           0.568608  \n",
      "fractal_dimension    0.369580     0.647953  0.568608           1.000000  \n"
     ]
    },
    {
     "data": {
      "image/png": "iVBORw0KGgoAAAANSUhEUgAAAbUAAAFLCAYAAABRMhK0AAAAOXRFWHRTb2Z0d2FyZQBNYXRwbG90bGliIHZlcnNpb24zLjMuMSwgaHR0cHM6Ly9tYXRwbG90bGliLm9yZy/d3fzzAAAACXBIWXMAAAsTAAALEwEAmpwYAAA3YklEQVR4nO3de7xmc93/8dfbOIzzUHLLaXCL5DANFUV00E3dvw5Skg50mBSpuxDV3dndQYe7qDTKIVRKFBLK7VCkDIZxJhSRkmKcZ2a/f3+s7+aabe89e8++1rX2XvN+eqzHvq611rU+32vvcX2u72F9v7JNREREGyzVdAEiIiK6JUktIiJaI0ktIiJaI0ktIiJaI0ktIiJaI0ktIiJaI0ktIiK6TtIxkv4m6ZohjkvSNyTdIulqSdO7ETdJLSIi6nAcsMswx3cFNi7bDODb3QiapBYREV1n+yLgvmFOeQ3wfVcuBaZIWmuscZce6wWiPvPuvbWR6V7eu83BPY8p1POYAKfdd1UjcVdcZnIjcf/60D97HnNBX1/PYwKsstwKjcSdstxKjcS99d4rx/w/0Wg+c5ZdY6P3UNWw+s20PXMU4dYG7uh4fmfZd/corvEUSWoRETFqJYGNJokNNFgSHvMX+SS1iIioLJjXy2h3Aut2PF8HuGusF02fWkREVPr6Rr6N3enA28ooyG2B+22PqekRUlOLiIjC7l7/p6QfAjsBT5d0J/BJYJkqjo8CzgJeCdwCPAzs0424SWoREVHp4qAe23su4riB/boWsEhSi4iIShdrak1JUouIiErfgqZLMGYZKFIzSZcMsf84Sbv3ujwREUNaMH/k2ziVmlrNbL+w6TJERIxENweKNCVJrWaSHrS9kiQBRwAvBW5j8BsPIyKa09DsL92UpNY7rwM2AbYA1gSuA45ptEQREZ1aUFNLn1rvvBj4oe0Ftu8C/m+wkyTNkDRL0qzvfv+HvS1hRCzZ+haMfBunUlPrrUXOa9Y5n1pTExpHxBJqHA8AGanU1HrnIuBNkiaV5RVe0nSBIiIW4r6Rb+NUamq9cxrVIJE5wE3Ahc0WJyJigAwUiUWxvVL5aWD/hosTETEke/z2lY1UklpERFTGcbPiSCWpRUREJc2PERHRGr1dJLQWSWoREVFJ82NERLRGmh8jIqI1UlOLiIjWSE0t6vTebQ5uJO63Z32p5zEP3eZjPY8J8Oj8ZjrGH5r3WCNxN5myTs9j/uOxB3oeE2DzldZrJO4kTeAFOJLUIiKiLZzRjxER0RrpU4uIiNZI82NERLRGamoREdEaqalFRERrZJHQiIhojb6+kW+LIGkXSTdKukXSIYMcX1XSGZKuknStpH268RaS1MZA0k6SziyPXz3YHy4iYsLo0srXkiYB3wR2BTYD9pS02YDT9gOus70VsBPwFUnLjvUtpPlxEJIEyB55r6nt04HT6ytVRETNuten9nzgFtu3Akj6EfAa4LqOcwysXD5vVwLuA8bc/pmaWiFpqqTrJX0LuAL4nqRZpVr86Y7zdpF0g6TfArt17N9b0pHl8XGSdu849mD5uZakiyTNlnSNpB169gYjIhZlFDU1STPKZ2T/NqPjSmsDd3Q8v7Ps63Qk8GzgLmAO8IHRVCSGkprawjYB9rH9Pkmr276vVKPPk7QlcBNwNPBS4Bbg5FFe/83AObYPK9ddoZuFj4gYk1HU1GzPBGYOcXiwucI84Pl/ALOpPk83An4l6Te2xzSvWmpqC/uT7UvL4zdKugK4EngOVbvwpsBttm+2beDEUV7/MmAfSZ8CtrA9d+AJnd9+bph762K/kYiIUVswf+Tb8O4E1u14vg5VjazTPsCprtwC3Eb1GTsmSWoLewhA0gbAgcDLbG8J/AKYXM4Z+G1jMPMpv9vSXrwsgO2LgBcDfwFOkPS2gS+0PdP2Nra32XTlDcf4diIiRqF7ox8vAzaWtEEZ/PEmnjrm4M/AywAkrUnVUjbmb/JJaoNbhSrB3V9+2buW/TcAG0jaqDzfc4jX3w5sXR6/BlgGQNL6wN9sHw18D5je/aJHRCwme+TbsJfxfGB/4BzgeuDHtq+VtK+kfctpnwVeKGkOcB7wEdv3jvUtpE9tELavknQlcC3VN4eLy/5HS2foLyTdC/wW2HyQSxwN/FzSH6j+WA+V/TsBB0maBzwIPKWmFhHRmC7OKGL7LOCsAfuO6nh8F/CKrgUsktQK27fTkaBs7z3EeWczSLuv7eOA48rje4BtOw4fWvYfDxzfnRJHRHRZpsmKiIjWyITGERHRGgsWNF2CMUtSi4iISpofIyKiNZLUIiKiNdKnFhERbeG+kcwtMb4lqUVERKUFi4QmqY1jGnRO0Podus3Heh7z87MO63lMgPM2f2sjcZuy8+T1eh7znsmP9zwmwKoNfbw93RP4YzU1tYiIaI0MFImIiNZIUouIiNZYxETFE0GSWkREVFJTi4iI1sg0WRER0RoZ/RgREW3hND9GRERrtKCmtlTTBWiCpCmS3reYr50m6ZXdLlNEROPcN/JtnFoikxowBVispAZMA0aV1FRZUn/XETFRzF8w8m2cWlI/aL8AbCRptqTDJR0k6TJJV0v6NICk10n6dUlIa0m6SdJ6wGeAPcpr95D0KUkH9l9Y0jWSppbteknfAq4A1h0sTkTEuNHnkW/j1JKa1A4B/mh7GvArYGPg+VS1sK0lvdj2acBfgf2Ao4FP2v4z8AngZNvTbJ+8iDibAN+3/dzy+Clxuv3GIiIWW5ofW+EVZbuSqka1KVXyAXg/cCjwmO0fLsa1/2T70hHEeYKkGZJmSZp1w9xbFyNkRMRiakFNLaMfQcDnbX9nkGNrA33AmpKWsgf9ejKfhb8cTO54/NAI4zzB9kxgJsC7p75h/P7LiYjWacOQ/iW1pjYXWLk8Pgd4h6SVACStLekZkpYGjgXeDFwPfGiQ1wLcDkwvr50ObDBEzEHjdO0dRUSMVWpqE5Ptf0i6WNI1wC+BHwC/kwTwIPAWYF/gN7Z/I2k2cJmkXwDnA4eUfZ8Hfgq8rf8c4KYhYp4r6dmDxPlbXe8zImJUMk3WxGX7zQN2fX3A8890nDuXqg+s3/MGnPuKIcJsPiDm1weJExExPnSxBiZpF6rPu0nAd21/YZBzdgL+F1gGuNf2jmONu8QmtYiIWJi7lNQkTQK+CewM3EnV0nW67es6zpkCfAvYxfafu9Uds6T2qUVExEDd61N7PnCL7VttPw78CHjNgHPeDJxabpXCdle6YpLUIiKi0tc34q3z9qOyzei40trAHR3P7yz7Oj0LWE3SBZIul/S2bryFND9GRERlFM2PnbcfDUKDvWTA86WBrYGXActTDaK71Pagg+1GKkktIiIA8IKu3ad2J7Bux/N1gLsGOede2w8BD0m6CNiKIUaQj1SaHyMiotK9PrXLgI0lbSBpWeBNwOkDzvk5sIOkpSWtALyA6p7gMUlNbRw77b6rGon76Px5PY953uZv7XlMgD9cc0Ijcf34I43EPXP6YT2PudML7u15TIAfXLHuok+qwWFzr2gk7ie6cZEujX60PV/S/lSTTkwCjrF9raR9y/GjbF8v6WzgaqqZm75r+5qxxk5Si4gIoHtD+gFsnwWcNWDfUQOeHw4c3rWgJKlFRES/cTz91UglqUVEBACen6QWERFtkZpaRES0xsRfeSZJLSIiKt0cKNKUJLWIiKikphYREW3RhpraEj+jiKR9uzWRpqSPduM6ERFN8PyRb+PVEp3UJC1d7mz/fpcuOeqkVtYdiohoXt8otnFqwic1SVMl3SDpeElXSzpF0gqStpZ0YVnS4BxJa5XzL5D0P5IuBD4g6VOSDuw49jVJF0m6XtLzJJ0q6WZJn+uI+RZJf5A0W9J3JE2S9AVg+bLvpKHOK/sflPQZSb8Htuv5Ly0iYhDuG/k2Xk34pFZsAsy0vSXwALAfcASwu+2tgWOAzknvptje0fZXBrnW47ZfDBxFNeHmfsDmwN6Snibp2cAewItsTwMWAHvZPgR4xPY023sNdV6JsSJwje0X2P5tF38PERGLrwU1tbYMFLnD9sXl8YlUzYCbA7+SBNWEmnd3nH/yMNfqn0l6DnCt7bsBJN1KtZTC9lRrAF1Wrr08MNiKrS8b5rwFwE8HC14W2psBsOJyz2DysqsOU9SIiO4ZzzWwkWpLUhs4ZGcuVUIaqmnvoWGu9Vj52dfxuP/50lSL3x1v+9BFlGm48x61vWCwF3UuvPf0VZ418YciRcSE0Yak1pbmx/Uk9SewPYFLgTX690laRtJzuhTrPGB3Sc8o115d0vrl2DxJy4zgvIiIcccLNOJtvGpLUrseeLukq4HVKf1pwBclXQXMBl7YjUC2rwM+Dpxb4v0KWKscnglcLemkRZwXETHutGGgSFuaH/ts7ztg32zgxQNPtL3TgOefGuyY7QuAC4Y4djKD9MvZ/gjwkRGct9IQ7yMiojHuG781sJFqS1KLiIgxGs81sJGa8EnN9u1UIx0jImIM7NTUIiKiJfrmJ6lFRERLuAU3ESWpRUQEkIEiERHRIklqUasVl5ncSNyH5j226JNawo8/0khcLbt8I3H/vnTvb0297+Zm/h3fMWnQSXtq9/eH728kbjek+TEiIlojNbWIiGiNvnE8/dVItWWarIiIGKM+a8TbokjaRdKNkm6RdMgw5z1P0gJJu3fjPaSmFhERQPduvi4LIn8T2Bm4k2oJrtPLnLgDz/sicE5XApOaWkREFO7TiLdFeD5wi+1bbT8O/Ah4zSDnvZ9qbcnB1qRcLElqEREBVKMfR7pJmiFpVsc2o+NSawN3dDy/s+x7gqS1gdcBR3XzPaT5MSIigNGNfuxc0HgQg11o4A0D/wt8xPYCqXsDVJLUIiICgAV9XWu8uxNYt+P5OsBdA87ZBvhRSWhPB14pab7tn40lcJJaREQAXb35+jJgY0kbAH8B3gS8eeFY3qD/saTjgDPHmtAgSa3rJE2y3cxUBhERYzCSofojYXu+pP2pRjVOAo6xfa2kfcvxrvajdUpSGyVJP6OqVk8Gvm57pqQHga8C/wF8WNJU4ABgWeD3wPtKu/G3gecBywOn2P5kA28hImJQ3VxPzfZZwFkD9g2azGzv3a24Gf04eu+wvTVVe/ABkp4GrAhcY/sFwD+APYAX2Z4GLAD2Kq/9mO1tgC2BHSVt2fPSR0QMYTSjH8er1NRG7wBJryuP1wU2pkpcPy37XgZsTXWzIVS1sv57MN5Yhr0uDawFbAZc3XnxcnwGwOorrM1Kk1ev751ERHTo4kCRxiSpjYKknYCXA9vZfljSBVTNkI929KMJON72oQNeuwFwIPA82/8sHaNPmb68c5js+k/bchx/H4qItulWn1qTJn5a7q1VgX+WhLYpsO0g55wH7C7pGQCSVpe0PrAK8BBwv6Q1gV17VeiIiJHwKLbxKjW10Tkb2FfS1cCNwKUDT7B9naSPA+dKWgqYB+xn+1JJVwLXArcCF/ew3BERi9SGmlqS2ijYfozBa1grDTjvZODkQV6/dz0li4gYu26OfmxKklpERADQ13QBuiBJLSIiAFiQmlpERLRF36DzEE8sSWoREQGAk9QiIqIt0qcWERGtkZpaRES0xvymC9AFSWrj2F8f+mcjcTeZsk7PY+48eb2exwQ4c/phjcT9+9LNTObzjtmf6XnMe171rp7HBHg39zUSd481t2kkbjekphYREa3RN/FzWpJaRERUMqQ/IiJaYzxPVDxSSWoREQFkSH9ERLTIAqX5MSIiWiI1tYiIaI02jH5cole+ljRV0ps7nu8t6cgmyxQR0ZQ+NOJtvFqikxowFXjzok6KiFgSeBTbeDUuk5qkFSX9QtJVkq6RtIek2yX9j6TfSZolabqkcyT9UdK+5XWSdHh5zRxJewy3H/gCsIOk2ZL+q+x7pqSzJd0s6UsdZXpQ0mGlTJdKWrPsX0PSTyVdVrYXlf07luvOlnSlpJUlrSXporLvGkk79OyXGhGxCH0a+TZejcukBuwC3GV7K9ubA2eX/XfY3g74DXAcsDuwLdA/989uwDRgK+DlwOGS1hpm/yHAb2xPs/21co1pwB7AFsAektYt+1cELrW9FXAR8O6y/+vA12w/D3g98N2y/0BgP9vTgB2AR6hqheeUfVsBs8fwO4qI6KoFo9jGq/Ga1OYAL5f0RUk72L6/7D+94/jvbc+1/XfgUUlTgO2BH9peYPse4ELgecPsH8x5tu+3/ShwHbB+2f84cGZ5fDlV0yVUSfJISbNL+VaRtDJwMfBVSQcAU2zPBy4D9pH0KWAL23MHBpc0o9REZy1Y8ODIf2MREWPUzZqapF0k3SjpFkmHDHJ8L0lXl+0SSVt14z2My6Rm+yZga6rk9XlJnyiHHis/+zoe9z9fGobsvRxNZbnzugt4coToPNseZP9SwHaltjfN9tol2X4BeBewPHCppE1tXwS8GPgLcIKktw0Mbnum7W1sbzNp0kqjKHZExNj0jWIbjqRJwDeBXYHNgD0lbTbgtNuAHW1vCXwWmNmN9zAuk5qkZwIP2z4R+DIwfYQvvYiqyXCSpDWoEsgfhtk/F1h5jMU9F9i/o+zTys+NbM+x/UVgFrCppPWBv9k+GvjeKN5XRETtupXUgOcDt9i+1fbjwI+A13SeYPsS2/1LkVwKdGV5kPF6n9oWVP1efcA84L3AKSN43WnAdsBVVAN0Drb9V0lD7f8HMF/SVVR9dIuz1ssBwDclXU31+7wI2Bf4oKSXUNXqrgN+CbwJOEjSPOBB4Ck1tYiIpngUbVqSZgAzOnbNtN1f21obuKPj2J3AC4a53DupPiPHbFwmNdvnAOcM2D214/hxVEmo//nUjvMOKlvn9TzE/nnAywbE6bzuf3Y8Xqnj8SmUJGv7XqqBJQPfw/sH7gOOL1tExLgzmkVCSwIbqslwsPQ46J0A5cv/O6nGPozZuExqERHRe128/+xOYN2O5+sAdw08SdKWVCPGd7X9j24EHpd9ahER0XtdHP14GbCxpA0kLUvV9XJ65wmS1gNOBd5aBgd2RWpqEREBdG9CY9vzJe1P1Y00CTjG9rX9E2XYPgr4BPA04FuqVgeYb3ubscZOUouICKC7s/TbPgs4a8C+ozoev4vqtqeuSlKLiAhgfM/pOFJJahERAcD8cTyn40glqUVEBJCaWtRsQV8z69D+47EHeh7znsmP9zwmwE4vuLeRuPfdPLmRuPe8qutdGIu05i++u+iTajDve59tJO5aDz7USNxu6GtBWktSi4gIoLsDRZqSpBYREUCaHyMiokVSU4uIiNaYr4lfV0tSi4gIIM2PERHRIml+jIiI1mjDkP7M0j8ISVMkva/pckRE9JJHsY1XSWqDmwIkqUXEEmU+HvE2XjWe1CS9TdLVkq6SdIKk9SWdV/adV9bcQdJxkr4t6XxJt0raUdIxkq6XdFzH9R6U9BVJV5TXr1H2v1vSZSXOTyWtUPavKem0sv8qSS8EvgBsJGm2pMMl7STpAkmnSLpB0kkqayVI2lrShZIul3SOpLXK/gMkXVfex4/Kvh3LNWdLulLSyj39ZUdEDCM1tTGS9BzgY8BLbW8FfAA4Evi+7S2Bk4BvdLxkNeClwH8BZwBfA54DbCFpWjlnReAK29OBC4FPlv2n2n5eiXM91fLhlOtfWPZPB64FDgH+aHua7YPKec8FPghsBmwIvEjSMsARwO62twaOAQ4r5x8CPLe8j33LvgOB/WxPA3YAHlmc31tERB36RrGNV03X1F4KnGL7XgDb9wHbAT8ox08Atu84/wzbBuYA99ieY7uPKhFNLef0ASeXxyd2vH5zSb+RNAfYiyoZ9pfh2yX+Atv3D1HWP9i+s8SbXeJtAmwO/ErSbODjVMuWA1wNnCTpLcD8su9i4KuSDgCm2J7PAJJmSJolaVZf38SdQy4iJh6P4r/xqumkJhZdk+08/lj52dfxuP/5UCM5+19/HLC/7S2ATwOjnVG2M96CEk/AtaVGN832FrZfUc55FfBNYGvgcklL2/4C1aJ4ywOXStr0KYW1Z9rexvY2Sy214iiLGBGx+FJTG7vzgDdKehqApNWBS4A3leN7Ab8d5TWXAnYvj9/c8fqVgbtLk+FeA8rw3hJ/kqRVgLnl/EW5EVhD0nbl9ctIeo6kpYB1bZ8PHEw18GQlSRuV2uUXgVnAU5JaRERT+vCIt/Gq0fvUbF8r6TDgQkkLgCuBA4BjJB0E/B3YZ5SXfQh4jqTLgfuBPcr+/wZ+D/yJqvmyP2l9AJgp6Z1UNbD32v6dpIslXQP8EvjFEOV/XNLuwDckrUr1+/xf4CbgxLJPwNds/0vSZyW9pMS5rlw7ImJcWDCOk9VIqeqiag9JD9peqelydMPSy67dyB9nzRWn9Dzmy1dtptL6ta2WrPXUJq88r+cxl7T11NzQemorfvbHY163+t1T3zDiz5yjb//JuFwnOzOKREQEwLgeADJSrUtqbamlRUT02ngeADJSrUtqERGxeFJTi4iI1khNLSIiWmNBCwYONn2fWkREjBPdvE9N0i6SbpR0i6RDBjkuSd8ox6+WNL0b7yFJLSIigO5NkyVpEtWMSrtSzZe7p6TNBpy2K7Bx2WZQpiscqzQ/jmOrLLdCI3E3X2m9nsdctaF/ij+4Yt1G4t4xaUEjcd/NfT2P2dT9Ysu8878bifvwh9/dSNxu6GKf2vOBW2zfClBWKnkN1aQT/V5DNXm9qaYNnCJpLdt3jyVwamoREQGMrvmxc/L1ss3ouNTawB0dz+8s+xjlOaOWmlpERACjmybL9kxg5hCHB5ttZODFR3LOqCWpRUQEAF2cNvFOoLNtfx3grsU4Z9TS/BgREUBXRz9eBmwsaQNJy1KtvHL6gHNOB95WRkFuC9w/1v40SE0tIiKKbg0UsT1f0v7AOcAk4JiyKsu+5fhRwFnAK4FbgIcZ/Yosg0pSi4gIoLvTZNk+iypxde47quOxgf26FrBIUouICIBxvfjnSCWpdZGk1wI32b5uUedGRIw3mSYrBnot1d3zTyEpXyAiYlzr1owiTZrQSU3SipJ+IekqSddI2kPSaR3Hd5Z0ann8oKQvSrpc0q8lPV/SBZJulfTqcs7ekn4m6QxJt0naX9KHJF0p6VJJq5fzNpJ0drnWbyRtKumFwKuBwyXNLudcIOl/JF0IfKxcc5lyjVUk3d7/PCKiad2c+7EpEzqpAbsAd9neyvbmwNnAsyWtUY7vAxxbHq8IXGB7a2Au8DlgZ+B1wGc6rrk58GaqaV4OAx62/Vzgd8DbyjkzgfeXax0IfMv2JVRDVA+yPc32H8u5U2zvaPvTwAXAq8r+NwE/tT2vS7+LiIgxsT3ibbya6EltDvDyUgPbwfb9wAnAWyRNAbYDflnOfZwq6fW/7sKSUOYAUzuueb7tubb/DtwPnNHxmqmSVgJeCPxE0mzgO8Baw5Tx5I7H3+XJYaudCfcJnVPPPDbv/kW9/4iIrmlDTW1C9/PYvknS1lT3Onxe0rlUieMM4FHgJ7bnl9Pn+cmvF33AY+UafQP6ux7reNzX8byP6ve1FPAv29NGWMyHOsp7saSpknYEJtm+ZpD39MTUM6uvvPH4/ZcTEa2zwBN/mdAJXVOT9Eyq5sETgS8D023fRTXVyseB47od0/YDwG2S3lDKIElblcNzgZUXcYnvAz9kkFpaRESTPIptvJrQSQ3YAvhDaQb8GFU/GcBJwB01Dq3fC3inpKuAa6mWUAD4EXBQGViy0RCvPQlYjSqxRUSMG2l+bJjtc6imYRloe+DoAeeu1PH4U4Mds30cHbU721M7Hj9xzPZtVINUBpbnYhYe0r/TEGU7xfa/BjkWEdGY8ZysRmpCJ7XBSLqcqh/rw02XZSBJR1Ct9vrKpssSETHQeB7VOFKtS2plmP24ZPv9TZchImIoqalFRERr9LVg9GOSWkREAKmpRUREi6RPLSIiWiM1tYiIaI3xPPv+SCWpjWNTlltp0SfVYJLU85hPdzP/FA+be0Ujcf/+cDPzeu6x5jY9j7nWgw8t+qQaPPzhdzcSd4WvHL3ok8apvjQ/RkREW7Rh7scktYiIANL8GBERLZLmx4iIaI3U1CIiojVSU4uIiNbo84KmizBmSWoREQG04+brib5IaEREdIntEW9jIWl1Sb+SdHP5udog56wr6XxJ10u6VtIHRnLtRSY1SQeUi560OIXvuM7ekp45gvOOk7T7CK+5k6Qzy+NXSzpkLGVcHJKeKemUXseNiOi2Hq58fQhwnu2NgfPK84HmAx+2/WxgW2A/SZsNct5CRlJTex/wStt79e+QtDjNlnsDi0xqi8v26ba/UNf1h4l7l+0RJeGIiPGsVzU14DXA8eXx8cBrBynL3bavKI/nAtcDay/qwsMmNUlHARsCp0u6X9JMSecC35c0VdJvJF1Rthd2vO5gSXMkXSXpC6XmtQ1wkqTZkpaX9AlJl0m6plx3RHMzSdpF0g2Sfgvs1rF/b0lHlsfHSfp2qbreKmlHSceUGudxHa95haTflfL/RNJKZf/tkj5d9s+RtGnZv2Mp/2xJV0paufwerinHJ0s6trzmSkkv6SjbqZLOLtXtL43kvUZE9FKfPeJN0gxJszq2GaMItabtu6FKXsAzhjtZ0lTgucDvF3XhYWtctveVtAvwEmB/4P8B29t+RNIKwM62H5W0MfBDYBtJu1Jl3RfYfljS6rbvk7Q/cKDtWaWQR9r+THl8AvCfwBmLeGOTgaOBlwK3ACcPc/pq5bxXl+u+CHgXcJmkacCdwMeBl9t+SNJHgA8Bnymvv9f2dEnvAw4srz0Q2M/2xSUBPjog5n7l97ZFSYTnSnpWOTaN6o/yGHCjpCNs3zHc+42I6KXRLBJqeyYwc6jjkn4N/Nsghz42mjKVz9qfAh+0/cCizh9tM+Lpth8pj5cBjiwJYgHQ/+H9cuBY2w8D2L5viGu9RNLBwArA6sC1LCKpAZsCt9m+GUDSicBQ3w7OsG1Jc4B7bM8pr7kWmAqsA2wGXFwqicsCv+t4/anl5+U8WSO8GPhq6V881fadAyqY2wNHlPd9g6Q/8eTv5Tzb95cyXAesDzwlqZVvOzMAnrbiOqwy+emL+JVERHRHN0c/2n75UMck3SNpLdt3S1oL+NsQ5y1DldBOsn3qYOcMNNrRj53Tbf8XcA+wFVXT4rL95YDhfzOlxvUtYHfbW1DVviaPsAwj/a0/Vn72dTzuf750KeevbE8r22a23znI6xeU8yl9du8Clgcu7W+W7DBcE2pnGZ645kC2Z9rexvY2SWgR0Us97FM7HXh7efx24OcDTyhdUt8Drrf91ZFeeCxD+lcF7rbdB7wVmFT2nwu8ozRPImn1sn8usHJ53J/A7i1Vy5EOtLgB2EDSRuX5nmMo/6XAiyT9eynnCh1NhYOStJHtOba/CMyiqjl2ugjYq5z7LGA94MYxlDEiomdG06c2Rl8AdpZ0M7Bzed4/mvyscs6LqHLLSzvGMrxyURcey83X3wJ+KukNwPmUWpzts0uT5CxJjwNnAR8FjgOOkvQIsB1V7WwOcDtw2UgClv67GcAvJN0L/BbYfHEKb/vvkvYGfihpubL748BNw7zsg2XwxwLgOuCXwFodx79F9R7nUA1H3dv2YyMcAxMR0agu1MBGGucfwMsG2X8X8Mry+LcM3/o1KPXqTcTobfj05zbyx9l0hbUWfVKXbfvUey974tv3X9lI3KYWCf1DA4uEbrL3cos+qQbz//yPRuI2tUjoMk/fcMzfnlddaaMRf+bc/+Afx+W39UyTFRERACzoyyKhtZF0GrDBgN0fsX1OE+WJiGi7LD1TI9uva7oMERFLkiw9ExERrdGGMRZJahERAaT5MSIiWqQvA0UiIqItJn49LfeptZakGWXC0cRtUczEbXfcpt5rm2Tl6/YazTIQiTtxYiZuu+M29V5bI0ktIiJaI0ktIiJaI0mtvZpql1+S4i5J7zVx2xuzVTJQJCIiWiM1tYiIaI0ktYiIaI0ktYiIaI0ktYgRkrSUpBc2XY6oh6RJTZchxi4DRVpA0m7DHbd9as3xXwTMtv2QpLcA04Gv2/5TzXG3Bza2faykNYCVbN9Wc8zf2d6uzhjDxN4c2AyY3L/P9vdrjtnzv62kFYFHbPdJehawKfBL2/Pqilni3gacAhxr+7o6Yw0Se21gfTqmLrR9US/L0BZJai0g6djy8BnAC4H/K89fAlxge9ik14X4VwNbAVsCJwDfA3azvWONMT8JbANsYvtZkp4J/MT2i+qKWeJ+GrgaONU9/J+nvN+dqJLaWcCuwG9t715z3Cb+tpcDOwCrAZcCs4CHbe9VV8wSd2XgTcA+VK1YxwA/sv1AzXG/COwBXAcsKLtt+9V1xm0t29lasgFnAmt1PF+L6sO37rhXlJ+fAN7Zua/GmLMBAVd27Lu6B+91LtAHzAMeKM8f6EHcOVQftFeV52sCZ7T0b9sf8/3AweXxlXXGHKQMLwb+AjwEHA/8e42xbgSW6+X7a/OWWfrbZartuzue3wM8qwdx50o6FHgL8OLSN7FMzTEft21JhiearGpne+VexBlEf3PcfEmrAH8DNuxB3Cb+tpK0HbAX8M6yr/bPqvLeXkVVU5sKfAU4iarWeBb1/b90K9Xv9LGarr9ESVJrlwsknQP8kGoViTcB5/cg7h7Am6m+yf9V0nrA4TXH/LGk7wBTJL0beAdwdM0xkSSqD9sNbH9W0rpUteM/1Bx6lqQpVO/xcuBBoO6Y0Mzf9oPAocBptq+VtCG9+Xd8c4lzuO1LOvafIunFNcZ9GJgt6Tw6EpvtA2qM2VrpU2uZMmhkh/L0ItunNVmeOpTEsg7VAIJXUDVDnmP7Vz2I/W2q5seX2n62pNWAc20/r+7YHWWYCqxi++oexFoReNT2gl4O2uiIvxTVAKC6+7UmAR+z/Zk64wwR++2D7bd9fK/L0gZJajFmkuby5PqCy1I1pTxoe9UaY15ue+u6rj9M3CtsT5d0pe3nln1X2d6q5rj9NcQNbX+m1Jj+re4aYhODNiT9ANiXatDE5cCqwFdt11pDlHS+7ZfUGWOY2MvyZPPmjb360tBGuU+tBST9tvycK+mBjm2upFq/4ULVz2R7lbJNBl4PfLPmsJdK6lntqMO88q2+vy9vDaqaW92+BWwH7Fmez6X+3zFUX3wfBnYDjrD9OuA5NcfcrNTMXkvVl7Ue8NaaYwJcIulISTtImt6/1R1U0k5UTZ/fpPo731Rzc2erpU+tBWxvX342NYhhIbZ/JumQmsO8BHiPpD9RjVBTFdpb1hz3G8BpwDMkHQbsDvx3zTEBXtBfQwSw/c/y7b5ugw3aqPsm5WUkLUOV1I60Pa9/QFDN+m+s72yCNPDSmuN+BXiF7RsBSjPvD4Get0S0QZJajNmAm7+Xorp/rO4PoV1rvv6gbJ9UmuReRpVIX2v7+h6EbqqG+EF6P2jjO8DtwFXARZLWp7p9om7vtH1r547yfuu2TH9CA7B9U0nqsRjSpxZj1nHzN8B8qg+ko23/rcaY6w223/af64pZ4p5g+62L2ldD3L2oRiJOp7pvanfg47Z/Umfcjvgr2n6oF7GGiL+07fk1x7jC9vQB+2rvu5V0DNWXlRPKrr2ApW3vU2fctkpNLcasof/5fkH1QSCqaaM2oLqJte7+noWuX2pPdX/oLQXcBhxMj2uIpenxe8BKwHqStgLeY/t9NcZcE/gf4Jm2d5W0GVV/4vdqircp1d911QGtDqvQMSVZjd4L7AccQPW3vYiqby0WQ2pqsdgkHWz7S5KOYJDmxl7eZ1M69N9j+z01Xf9Q4KPA8lT3FakcehyYafvQOuJ2xG9kzklJv6eqFZ7eMdrzGtub1xjzl8CxVEPst5K0NNWMIlvUFO81VP13rwZO7zg0l2qarEsGe12MT6mpxVj01xRmNVoKwPYVdY6GtP154POSPl93AhvCuZJeT4/nnASwfUd1R8ETFgx1bpc83faPyxcJbM+XVFtM2z8Hfi5pO9u/qyvOQJJ+bPuNkuYw+JfCugc9tVKSWiw222eUnz2/SVTShzqeLkXV1/T3HoT+mKrZ6ns9o8iHgBWB+ZIe5cnRnqvUHPcOVcvtuIy2PIAnv8zU5SFJT+PJQTHbAvfXHBPgH2VWjzVtby5pS+DVtj9XU7wPlJ//WdP1l0hpfozFJukMhhnl6BpnGVc1a32//sEpP7X9aF0xS9zGZhSRtDqwMQsvPXNhzTGfDnwdeDlVIj0X+IDtf9QYczpwBLA5cA2wBrB73TOoSLoQOAj4Tq+aWkuMRpbaaavU1GIsvlx+7gb8G3Bieb4nVZKp03UDR/5JegNQ92jARu4Xk/Quqm/261CtULAtcAnVwJHa2L6XajRez5Sm5B2BTagSaa9m2FjB9h8GNLXWOuKyuAjYoXxBOo+qOX8Pevx7b4sktVhs/bUESZ+13TkDwhmS6l7g8FCemsAG29dtTd0v9gHgecCltl9SRux9uu6g5f29m2rW+s4FLN9Rc+jnd8ScLgnXvCAqcK+kjXjyb7s7cPfwL+kK2X5Y0jupZm35Uv+Xphi9JLXohjUkbdh/46qkDaiajLpO0q7AK4G1JX2j49Aq9OZb9WAziny8B3Eftf2oJCQtZ/sGSZv0IO7Pgd8Av6b+ASJAdd8fsBFVjfSJRTOBupPafsBMYFNJf6G6jeItNceEhpbaaav84qIb/otq2Zv+2RimArUMrQfuomqeeTXVZLf95pZy1KrBGUXuVLX0zM+AX0n6J9Xvom4r2P5ID+J02oZq/sdej/K8FXh56eNayvbcHoX+AM0stdNKGSgSXSFpOaoOboAbbNe64KGkdWzfOWDfJp3TDdUYezVgXRZujrui7rgd8Xekmrn+bNuP1xzrc8Alts+qM86AmD8BDvDCC972Iu4U4G08tak165pNIElq0RWSNgc2Y+GRebU1F0m6Efhv2z8uzz9MNXffZnXFLHE+C+wN/JEnR37adt2T3jZC1bJCK1ItXjmPHtxKIOl8YBrVIqidi2bWNpq2xL2EanmdOXT0k9Z9y0oZ8XggT02mrfw3VbcktRizMrx+J6qkdhbVZMO/tb17jTHXour/eBRYk+reqQ/bfrCumCXujcAWddeQlmSlJvoUPbh94SlzP/aCpKuAo6ia05/ot7R9+ZAviiGlTy26YXdgK6qpjPYpc/d9t86Atu+WdDZVX0QfcGjdCa24BpgC1DZZ83gjaW1gfRauRdQ5uvWVA/vxJH0RqDWpASdIejdwJgvXEO+rOe5829+uOcYSI0ktuuHRcuPofEmrUH3g17pkh6RfUQ233pzq3q1jJF1k+8A64wKfB66UdA09bBprSkkmewDXsfBIxDqT2s7AwMEpuw6yr9seBw4HPkZH0zI1/1umugXmfVSjanuZTFspSS3GRNWdqleXTvajqZpQHqTqD6nTN23/rDz+VxkS/dGaY0K17MsXGdDv0mKvBTape+APgKT3Au8DNpLUOXvIylQ3mtftQ8C/lxvOe+nt5edBHft6kUxbKX1qMWbqWHNK0lRglbqnNCqxtgc2tn1smc5pZdu31RzzQtuD9vm0UZkx/w29aNqVtCqwGlVtuHPl9Lm9qLVIOh14k+2H644V9UlSizGT9E3gONuX9TDmJ6nuZ9rE9rMkPRP4ie0X1Rz3q1RNRKezcFNRz4b094KeXE5obar+0vNY+P3WNsy9TGB8bf99YpJWprpv7fd1xSxxTqNaV+18evReS9wVqGqJ69meIWljqn/XZ9YZt62S1GLMJF0HPAv4E/AQTw77rm3pDEmzgecCV3RMPnt13ct1lOHmA7VuSL+ktw9z2DXfrnElML3/5mtVi6TOqntk4lDvuQdD+k+marZ/W1kdYHngd7an1Rm3rdKnFt2wawMxH7dtSf0ffCv2Iqjtl/QiTtP6P8glfcD21zuPSfrA4K/qGnXOJlIGIdX+WVV38hrGRrb3kLRnKccjGjCrcoxcklqMme0/NRD2x5K+A0wpw7DfQTVQpRaS3mL7RC28jtsTbH+1rtgNezvV0jOd9h5kXzfdKukAoH+Y+/uAW4c5vysk/SfwWZ68faFXa9Y9Xmpn/V/QNqKj+TNGJ0ktJqo1gFOAB6iWKPkE1ZpfdemvCa5cY4xxo9Qa3gxsUAZQ9FsFqG0ttWJfqomjP071QX8eMKPmmAD/S7WM0pwezzv5SeBsYF1JJwEvovriEIshfWoxIQ02+0PdfWplyZkDbH+trhjjhaT1gQ0YZCQicLXtXqyI0FOlv/Rltnt+q4aqlb63paodXtrAbQWtkaQWE0rHvUwbUs2/2G9l4GLbtS4VIun8JaVfrV+ZIaZ/Ze8/2K51NhVJk6mWYHkOC88lWusabpKeR9X8eCELj36svWlZ0pY8de7HU+uO20ZpfoyJ5gfAL2noXibgEklHAidTjfQE2jekv5+q1cS/DFxAVYs4QtJBtk+pMewJwA3AfwCfoVpnrBfL+xxGNXHAZKD21cz7SToG2BK4lidv6DeQpLYYUlOLGIUlZUh/vzLZ7s79tTNVK2H/2vZWNca80vZz+5uTJS0DnFP371jSLNvb1BljiLjX1b26xJIkNbWIUVjSmh6pFsvsbG78B7BUzTHnlZ//Kksa/ZWqaa5uv5b0Ctvn9iBWp99J2sz2dT2O20pJahGjUPqX/gd4pu1dJW0GbGf7ew0XrS5nSzoH+GF5vgfV8kJ1mlkWYv1vqplbViqP67YfcLCknq0dVxxPldj+StWXV/vkBW2W5seIUShzIR4LfMz2VuWm4Cttb9Fw0WojaTdge6oP24tsn9ZwkVpF0i1U02QNXJy0ifs/J7zU1CJG5+m2fyzpUADb8yUtWNSLJriLqWoupv7VF/qHt3+K6n4tA78BPmu71vvjJJ0CHAOc3eNh/X+2ffqiT4uRqLttPKJtHiofuv2zP2wL3N9skeoj6Y1UiWx34I3A7yXVtqJ58SOqNfleX+LeSzXatG5HUY20vFnSFyRt2oOYADdI+oGkPSXt1r/1KHbrpPkxYhQkTQeOoLqH6lqqmU1278VSO01oaPTjE0sZdezr2cjEsgTOnlSLhd5BNf3aibbnDfvCxY937CC7Xfd9eW2V5seI0bmOaoXih6lm1/gZcFOTBapZE6Mfz5f0JuDH5fnuwC9qjgk80fT5FuCtwJXASVT9iW8Hdqojpu196rjukio1tYhRkPRjqvkmTyq79gRWs/2G5kpVH0mHU90Y3Dn6cY7tg2uMOZdqrs3+fq2lePJG99pGI0o6FdiU6ubv42zf3XGs6zVFSQfb/lLH2nULqXsdt7ZKTS1idDYZ0PR2fmmiayXbB0l6PdWgDQEz6x79aLupSaN/RDVI5AFJHy9NzZ+zfUVNTZ/9s6TMquHaS6zU1CJGQdJxwFG2Ly3PXwC83fb7Gi1YzSStwsLzEtY6JVkTcyF2zGCyPdU0bF8GPmr7BXXGje5KUosYBUnXUy118+eyaz2qb9x9tPCGWUnvoZp/8RGq99h/Y/CGNcYcdC7EHkxo3D891+epmlh/0L+vpnhnMEizYz/br64jbtul+TFidHZpugA9diDwnB4vhbJtQ3Mh/qUsPPty4IuSlqPeQTFfLj93A/4NOLE83xO4vca4rZaaWkQMSdLZwG62H+5hzO8BX+n1XIiSVqD60jLH9s2S1gK2qHsuSEkX2X7xovbFyCSpRcSQJD2Xalqw37PwGmO1jcyT9GLgDKqJjFs/F2Jp0n6V7VvL8w2As2w/u9mSTUxpfoyI4XwH+D8GzEtYs2Oo7hPrZcwm/RdwgaRby/OpwIzmijOxpaYWEUOSdIntF/Y45v+1dX26oZT+u/5puW6w/VjHsZ1t/6qZkk08SWoRMSRJhwF/omoO7Gx+rG1Iv6RvAVMGiblErgQt6Qrb05sux0SRpBYRQ5J0W8fTJz4sah7Sn7kQO9R5W0EbpU8tIobzEZ6cZeO/genAZ+sMmLkQnyI1j1HI0jMRMZyPl4S2PbAzcBzw7ToDSlpH0mmS/ibpHkk/lbROnTGjPZLUImI4/QugvopqerCfA8vWHPNY4HTgmcDaVH1rgzVJLilub7oAE0n61CJiSJLOBP5CNcvG1lTTZf2h5vXUZtuetqh9E92iFgJdUgfGjFX61CJiOG+kmmXjy7b/VWbZOKjmmPdKegtPLnezJ9U6bm3z/4Y5ZiBJbTGkphYR44qk9YAjge2oPtwvAQ6w/edhXxhBklpEjDOSjgc+aPuf5fnqVDXF1g7pl/Qq4DnA5P59tj/TXIkmrgwUiYjxZsv+hAZP3Ojd2vu0JB1FtaL4+6nmuXwDsH6jhZrAktQiYrxZStJq/U9KTa3N/f8vtP024J+2P03V7Lpuw2WasNr8DyUiJqavAJdIOoWqT+2NwGHNFqlWj5SfD0t6JtWgmA0aLM+ElqQWEeOK7e9LmgW8lKo5brder63WY2dKmgIcDlxBlci/22iJJrAMFImIaJCk5fpn5S+z9U8GHu2cqT9GLn1qERHN+l3/A9uP2b6/c1+MTpofIyIaIOnfqKYBW76sMK5yaBVghcYKNsElqUVENOM/gL2BdagGx/QntQeAjzZUpgkvfWoREQ2S9HrbP226HG2RPrWIiGZtXUY/AiBpNUmfa7A8E1qSWkREs3a1/a/+J2U2lVc2V5yJLUktIqJZk8pQfgAkLQ8sN8z5MYwMFImIaNaJwHmSjqW68fodwPHNFmniykCRiIiGSdoVeBnVCMhzbZ/TcJEmrCS1iIhojfSpRUQ0SNK2ki6T9KCkxyUtkPRA0+WaqJLUIiKadSSwJ3AzsDzwLuCIRks0gWWgSEREw2zfImmS7QXAsZIuabpME1WSWkREsx6WtCwwW9KXgLuBFRsu04SV5seIiGa9leqzeH/gIapVr1/faIkmsIx+jIhoiKRJwPG239J0WdoiNbWIiIaUPrQ1SvNjdEH61CIimnU7cLGk06maHwGw/dXGSjSBpaYWEdEASSeUh3sAZ1J9Hq/cscViSE0tIqIZW0taH/gzuS+ta5LUIiKacRRwNrABMKtjv6gmNt6wiUJNdBn9GBHRIEnftv3epsvRFklqERHRGhkoEhERrZGkFhERrZGkFhERrZGkFhERrfH/AaA2Q2q2t4UJAAAAAElFTkSuQmCC\n",
      "text/plain": [
       "<Figure size 432x288 with 2 Axes>"
      ]
     },
     "metadata": {
      "needs_background": "light"
     },
     "output_type": "display_data"
    }
   ],
   "source": [
    "corelations = data.corr()\n",
    "sns.heatmap(corelations)\n",
    "print(corelations)"
   ]
  },
  {
   "cell_type": "markdown",
   "metadata": {},
   "source": [
    "#### Data Visualization\n",
    "Terms like \"malignant\" and \"benign\" are used to describe how tumor cells behave in prostate cancer. Because they are cancerous, malignant tumors have the ability to infect nearby tissues and metastasize to other areas of the body. These tumors may be aggressive, thus immediate treatment is necessary to stop the cancer from spreading. Malignant tumors can form in the prostate gland and its surrounding tissues, which can lead to symptoms like pain in the back, hips, or pelvis, inability to urinate, blood in the urine or semen, and trouble urinating.\n",
    "\n",
    "On the other hand, benign tumors are not malignant, do not infect nearby tissues, and do not disseminate to other areas of the body. These tumors may exhibit symptoms resembling those of malignant tumors, such as pain in the lower back or pelvis or trouble urinating, but they do not present the same danger of spreading and may exhibit less aggressive development patterns. Benign tumors can form in the prostate gland and be found via normal screenings or assessments for other medical issues in prostate cancer.\n",
    "\n",
    "It's crucial to remember that not all tumors are 100 percent benign or 100 percent malignant. Tumors can behave in a variety of ways; some may have more aggressive growth patterns and a higher risk of metastasis, while others may be less aggressive and less likely to spread. Tumors may occasionally be labeled as \"borderline\" or \"atypical,\" indicating that they contain some malignancy-related characteristics but are not definitely malignant."
   ]
  },
  {
   "cell_type": "code",
   "execution_count": 25,
   "metadata": {
    "scrolled": true
   },
   "outputs": [
    {
     "data": {
      "application/vnd.plotly.v1+json": {
       "config": {
        "plotlyServerURL": "https://plot.ly"
       },
       "data": [
        {
         "domain": {
          "x": [
           0,
           1
          ],
          "y": [
           0,
           1
          ]
         },
         "hovertemplate": "label=%{label}<br>value=%{value}<extra></extra>",
         "labels": [
          "Malignant",
          "Begnin"
         ],
         "legendgroup": "",
         "name": "",
         "showlegend": true,
         "type": "pie",
         "values": [
          62,
          38
         ]
        }
       ],
       "layout": {
        "legend": {
         "tracegroupgap": 0
        },
        "template": {
         "data": {
          "bar": [
           {
            "error_x": {
             "color": "#2a3f5f"
            },
            "error_y": {
             "color": "#2a3f5f"
            },
            "marker": {
             "line": {
              "color": "#E5ECF6",
              "width": 0.5
             },
             "pattern": {
              "fillmode": "overlay",
              "size": 10,
              "solidity": 0.2
             }
            },
            "type": "bar"
           }
          ],
          "barpolar": [
           {
            "marker": {
             "line": {
              "color": "#E5ECF6",
              "width": 0.5
             },
             "pattern": {
              "fillmode": "overlay",
              "size": 10,
              "solidity": 0.2
             }
            },
            "type": "barpolar"
           }
          ],
          "carpet": [
           {
            "aaxis": {
             "endlinecolor": "#2a3f5f",
             "gridcolor": "white",
             "linecolor": "white",
             "minorgridcolor": "white",
             "startlinecolor": "#2a3f5f"
            },
            "baxis": {
             "endlinecolor": "#2a3f5f",
             "gridcolor": "white",
             "linecolor": "white",
             "minorgridcolor": "white",
             "startlinecolor": "#2a3f5f"
            },
            "type": "carpet"
           }
          ],
          "choropleth": [
           {
            "colorbar": {
             "outlinewidth": 0,
             "ticks": ""
            },
            "type": "choropleth"
           }
          ],
          "contour": [
           {
            "colorbar": {
             "outlinewidth": 0,
             "ticks": ""
            },
            "colorscale": [
             [
              0,
              "#0d0887"
             ],
             [
              0.1111111111111111,
              "#46039f"
             ],
             [
              0.2222222222222222,
              "#7201a8"
             ],
             [
              0.3333333333333333,
              "#9c179e"
             ],
             [
              0.4444444444444444,
              "#bd3786"
             ],
             [
              0.5555555555555556,
              "#d8576b"
             ],
             [
              0.6666666666666666,
              "#ed7953"
             ],
             [
              0.7777777777777778,
              "#fb9f3a"
             ],
             [
              0.8888888888888888,
              "#fdca26"
             ],
             [
              1,
              "#f0f921"
             ]
            ],
            "type": "contour"
           }
          ],
          "contourcarpet": [
           {
            "colorbar": {
             "outlinewidth": 0,
             "ticks": ""
            },
            "type": "contourcarpet"
           }
          ],
          "heatmap": [
           {
            "colorbar": {
             "outlinewidth": 0,
             "ticks": ""
            },
            "colorscale": [
             [
              0,
              "#0d0887"
             ],
             [
              0.1111111111111111,
              "#46039f"
             ],
             [
              0.2222222222222222,
              "#7201a8"
             ],
             [
              0.3333333333333333,
              "#9c179e"
             ],
             [
              0.4444444444444444,
              "#bd3786"
             ],
             [
              0.5555555555555556,
              "#d8576b"
             ],
             [
              0.6666666666666666,
              "#ed7953"
             ],
             [
              0.7777777777777778,
              "#fb9f3a"
             ],
             [
              0.8888888888888888,
              "#fdca26"
             ],
             [
              1,
              "#f0f921"
             ]
            ],
            "type": "heatmap"
           }
          ],
          "heatmapgl": [
           {
            "colorbar": {
             "outlinewidth": 0,
             "ticks": ""
            },
            "colorscale": [
             [
              0,
              "#0d0887"
             ],
             [
              0.1111111111111111,
              "#46039f"
             ],
             [
              0.2222222222222222,
              "#7201a8"
             ],
             [
              0.3333333333333333,
              "#9c179e"
             ],
             [
              0.4444444444444444,
              "#bd3786"
             ],
             [
              0.5555555555555556,
              "#d8576b"
             ],
             [
              0.6666666666666666,
              "#ed7953"
             ],
             [
              0.7777777777777778,
              "#fb9f3a"
             ],
             [
              0.8888888888888888,
              "#fdca26"
             ],
             [
              1,
              "#f0f921"
             ]
            ],
            "type": "heatmapgl"
           }
          ],
          "histogram": [
           {
            "marker": {
             "pattern": {
              "fillmode": "overlay",
              "size": 10,
              "solidity": 0.2
             }
            },
            "type": "histogram"
           }
          ],
          "histogram2d": [
           {
            "colorbar": {
             "outlinewidth": 0,
             "ticks": ""
            },
            "colorscale": [
             [
              0,
              "#0d0887"
             ],
             [
              0.1111111111111111,
              "#46039f"
             ],
             [
              0.2222222222222222,
              "#7201a8"
             ],
             [
              0.3333333333333333,
              "#9c179e"
             ],
             [
              0.4444444444444444,
              "#bd3786"
             ],
             [
              0.5555555555555556,
              "#d8576b"
             ],
             [
              0.6666666666666666,
              "#ed7953"
             ],
             [
              0.7777777777777778,
              "#fb9f3a"
             ],
             [
              0.8888888888888888,
              "#fdca26"
             ],
             [
              1,
              "#f0f921"
             ]
            ],
            "type": "histogram2d"
           }
          ],
          "histogram2dcontour": [
           {
            "colorbar": {
             "outlinewidth": 0,
             "ticks": ""
            },
            "colorscale": [
             [
              0,
              "#0d0887"
             ],
             [
              0.1111111111111111,
              "#46039f"
             ],
             [
              0.2222222222222222,
              "#7201a8"
             ],
             [
              0.3333333333333333,
              "#9c179e"
             ],
             [
              0.4444444444444444,
              "#bd3786"
             ],
             [
              0.5555555555555556,
              "#d8576b"
             ],
             [
              0.6666666666666666,
              "#ed7953"
             ],
             [
              0.7777777777777778,
              "#fb9f3a"
             ],
             [
              0.8888888888888888,
              "#fdca26"
             ],
             [
              1,
              "#f0f921"
             ]
            ],
            "type": "histogram2dcontour"
           }
          ],
          "mesh3d": [
           {
            "colorbar": {
             "outlinewidth": 0,
             "ticks": ""
            },
            "type": "mesh3d"
           }
          ],
          "parcoords": [
           {
            "line": {
             "colorbar": {
              "outlinewidth": 0,
              "ticks": ""
             }
            },
            "type": "parcoords"
           }
          ],
          "pie": [
           {
            "automargin": true,
            "type": "pie"
           }
          ],
          "scatter": [
           {
            "fillpattern": {
             "fillmode": "overlay",
             "size": 10,
             "solidity": 0.2
            },
            "type": "scatter"
           }
          ],
          "scatter3d": [
           {
            "line": {
             "colorbar": {
              "outlinewidth": 0,
              "ticks": ""
             }
            },
            "marker": {
             "colorbar": {
              "outlinewidth": 0,
              "ticks": ""
             }
            },
            "type": "scatter3d"
           }
          ],
          "scattercarpet": [
           {
            "marker": {
             "colorbar": {
              "outlinewidth": 0,
              "ticks": ""
             }
            },
            "type": "scattercarpet"
           }
          ],
          "scattergeo": [
           {
            "marker": {
             "colorbar": {
              "outlinewidth": 0,
              "ticks": ""
             }
            },
            "type": "scattergeo"
           }
          ],
          "scattergl": [
           {
            "marker": {
             "colorbar": {
              "outlinewidth": 0,
              "ticks": ""
             }
            },
            "type": "scattergl"
           }
          ],
          "scattermapbox": [
           {
            "marker": {
             "colorbar": {
              "outlinewidth": 0,
              "ticks": ""
             }
            },
            "type": "scattermapbox"
           }
          ],
          "scatterpolar": [
           {
            "marker": {
             "colorbar": {
              "outlinewidth": 0,
              "ticks": ""
             }
            },
            "type": "scatterpolar"
           }
          ],
          "scatterpolargl": [
           {
            "marker": {
             "colorbar": {
              "outlinewidth": 0,
              "ticks": ""
             }
            },
            "type": "scatterpolargl"
           }
          ],
          "scatterternary": [
           {
            "marker": {
             "colorbar": {
              "outlinewidth": 0,
              "ticks": ""
             }
            },
            "type": "scatterternary"
           }
          ],
          "surface": [
           {
            "colorbar": {
             "outlinewidth": 0,
             "ticks": ""
            },
            "colorscale": [
             [
              0,
              "#0d0887"
             ],
             [
              0.1111111111111111,
              "#46039f"
             ],
             [
              0.2222222222222222,
              "#7201a8"
             ],
             [
              0.3333333333333333,
              "#9c179e"
             ],
             [
              0.4444444444444444,
              "#bd3786"
             ],
             [
              0.5555555555555556,
              "#d8576b"
             ],
             [
              0.6666666666666666,
              "#ed7953"
             ],
             [
              0.7777777777777778,
              "#fb9f3a"
             ],
             [
              0.8888888888888888,
              "#fdca26"
             ],
             [
              1,
              "#f0f921"
             ]
            ],
            "type": "surface"
           }
          ],
          "table": [
           {
            "cells": {
             "fill": {
              "color": "#EBF0F8"
             },
             "line": {
              "color": "white"
             }
            },
            "header": {
             "fill": {
              "color": "#C8D4E3"
             },
             "line": {
              "color": "white"
             }
            },
            "type": "table"
           }
          ]
         },
         "layout": {
          "annotationdefaults": {
           "arrowcolor": "#2a3f5f",
           "arrowhead": 0,
           "arrowwidth": 1
          },
          "autotypenumbers": "strict",
          "coloraxis": {
           "colorbar": {
            "outlinewidth": 0,
            "ticks": ""
           }
          },
          "colorscale": {
           "diverging": [
            [
             0,
             "#8e0152"
            ],
            [
             0.1,
             "#c51b7d"
            ],
            [
             0.2,
             "#de77ae"
            ],
            [
             0.3,
             "#f1b6da"
            ],
            [
             0.4,
             "#fde0ef"
            ],
            [
             0.5,
             "#f7f7f7"
            ],
            [
             0.6,
             "#e6f5d0"
            ],
            [
             0.7,
             "#b8e186"
            ],
            [
             0.8,
             "#7fbc41"
            ],
            [
             0.9,
             "#4d9221"
            ],
            [
             1,
             "#276419"
            ]
           ],
           "sequential": [
            [
             0,
             "#0d0887"
            ],
            [
             0.1111111111111111,
             "#46039f"
            ],
            [
             0.2222222222222222,
             "#7201a8"
            ],
            [
             0.3333333333333333,
             "#9c179e"
            ],
            [
             0.4444444444444444,
             "#bd3786"
            ],
            [
             0.5555555555555556,
             "#d8576b"
            ],
            [
             0.6666666666666666,
             "#ed7953"
            ],
            [
             0.7777777777777778,
             "#fb9f3a"
            ],
            [
             0.8888888888888888,
             "#fdca26"
            ],
            [
             1,
             "#f0f921"
            ]
           ],
           "sequentialminus": [
            [
             0,
             "#0d0887"
            ],
            [
             0.1111111111111111,
             "#46039f"
            ],
            [
             0.2222222222222222,
             "#7201a8"
            ],
            [
             0.3333333333333333,
             "#9c179e"
            ],
            [
             0.4444444444444444,
             "#bd3786"
            ],
            [
             0.5555555555555556,
             "#d8576b"
            ],
            [
             0.6666666666666666,
             "#ed7953"
            ],
            [
             0.7777777777777778,
             "#fb9f3a"
            ],
            [
             0.8888888888888888,
             "#fdca26"
            ],
            [
             1,
             "#f0f921"
            ]
           ]
          },
          "colorway": [
           "#636efa",
           "#EF553B",
           "#00cc96",
           "#ab63fa",
           "#FFA15A",
           "#19d3f3",
           "#FF6692",
           "#B6E880",
           "#FF97FF",
           "#FECB52"
          ],
          "font": {
           "color": "#2a3f5f"
          },
          "geo": {
           "bgcolor": "white",
           "lakecolor": "white",
           "landcolor": "#E5ECF6",
           "showlakes": true,
           "showland": true,
           "subunitcolor": "white"
          },
          "hoverlabel": {
           "align": "left"
          },
          "hovermode": "closest",
          "mapbox": {
           "style": "light"
          },
          "paper_bgcolor": "white",
          "plot_bgcolor": "#E5ECF6",
          "polar": {
           "angularaxis": {
            "gridcolor": "white",
            "linecolor": "white",
            "ticks": ""
           },
           "bgcolor": "#E5ECF6",
           "radialaxis": {
            "gridcolor": "white",
            "linecolor": "white",
            "ticks": ""
           }
          },
          "scene": {
           "xaxis": {
            "backgroundcolor": "#E5ECF6",
            "gridcolor": "white",
            "gridwidth": 2,
            "linecolor": "white",
            "showbackground": true,
            "ticks": "",
            "zerolinecolor": "white"
           },
           "yaxis": {
            "backgroundcolor": "#E5ECF6",
            "gridcolor": "white",
            "gridwidth": 2,
            "linecolor": "white",
            "showbackground": true,
            "ticks": "",
            "zerolinecolor": "white"
           },
           "zaxis": {
            "backgroundcolor": "#E5ECF6",
            "gridcolor": "white",
            "gridwidth": 2,
            "linecolor": "white",
            "showbackground": true,
            "ticks": "",
            "zerolinecolor": "white"
           }
          },
          "shapedefaults": {
           "line": {
            "color": "#2a3f5f"
           }
          },
          "ternary": {
           "aaxis": {
            "gridcolor": "white",
            "linecolor": "white",
            "ticks": ""
           },
           "baxis": {
            "gridcolor": "white",
            "linecolor": "white",
            "ticks": ""
           },
           "bgcolor": "#E5ECF6",
           "caxis": {
            "gridcolor": "white",
            "linecolor": "white",
            "ticks": ""
           }
          },
          "title": {
           "x": 0.05
          },
          "xaxis": {
           "automargin": true,
           "gridcolor": "white",
           "linecolor": "white",
           "ticks": "",
           "title": {
            "standoff": 15
           },
           "zerolinecolor": "white",
           "zerolinewidth": 2
          },
          "yaxis": {
           "automargin": true,
           "gridcolor": "white",
           "linecolor": "white",
           "ticks": "",
           "title": {
            "standoff": 15
           },
           "zerolinecolor": "white",
           "zerolinewidth": 2
          }
         }
        },
        "title": {
         "text": "Types Of Cancer Result"
        }
       }
      },
      "text/html": [
       "<div>                            <div id=\"454ea332-5aa2-493e-bc89-58900a247e43\" class=\"plotly-graph-div\" style=\"height:525px; width:100%;\"></div>            <script type=\"text/javascript\">                require([\"plotly\"], function(Plotly) {                    window.PLOTLYENV=window.PLOTLYENV || {};                                    if (document.getElementById(\"454ea332-5aa2-493e-bc89-58900a247e43\")) {                    Plotly.newPlot(                        \"454ea332-5aa2-493e-bc89-58900a247e43\",                        [{\"domain\":{\"x\":[0.0,1.0],\"y\":[0.0,1.0]},\"hovertemplate\":\"label=%{label}<br>value=%{value}<extra></extra>\",\"labels\":[\"Malignant\",\"Begnin\"],\"legendgroup\":\"\",\"name\":\"\",\"showlegend\":true,\"values\":[62,38],\"type\":\"pie\"}],                        {\"template\":{\"data\":{\"histogram2dcontour\":[{\"type\":\"histogram2dcontour\",\"colorbar\":{\"outlinewidth\":0,\"ticks\":\"\"},\"colorscale\":[[0.0,\"#0d0887\"],[0.1111111111111111,\"#46039f\"],[0.2222222222222222,\"#7201a8\"],[0.3333333333333333,\"#9c179e\"],[0.4444444444444444,\"#bd3786\"],[0.5555555555555556,\"#d8576b\"],[0.6666666666666666,\"#ed7953\"],[0.7777777777777778,\"#fb9f3a\"],[0.8888888888888888,\"#fdca26\"],[1.0,\"#f0f921\"]]}],\"choropleth\":[{\"type\":\"choropleth\",\"colorbar\":{\"outlinewidth\":0,\"ticks\":\"\"}}],\"histogram2d\":[{\"type\":\"histogram2d\",\"colorbar\":{\"outlinewidth\":0,\"ticks\":\"\"},\"colorscale\":[[0.0,\"#0d0887\"],[0.1111111111111111,\"#46039f\"],[0.2222222222222222,\"#7201a8\"],[0.3333333333333333,\"#9c179e\"],[0.4444444444444444,\"#bd3786\"],[0.5555555555555556,\"#d8576b\"],[0.6666666666666666,\"#ed7953\"],[0.7777777777777778,\"#fb9f3a\"],[0.8888888888888888,\"#fdca26\"],[1.0,\"#f0f921\"]]}],\"heatmap\":[{\"type\":\"heatmap\",\"colorbar\":{\"outlinewidth\":0,\"ticks\":\"\"},\"colorscale\":[[0.0,\"#0d0887\"],[0.1111111111111111,\"#46039f\"],[0.2222222222222222,\"#7201a8\"],[0.3333333333333333,\"#9c179e\"],[0.4444444444444444,\"#bd3786\"],[0.5555555555555556,\"#d8576b\"],[0.6666666666666666,\"#ed7953\"],[0.7777777777777778,\"#fb9f3a\"],[0.8888888888888888,\"#fdca26\"],[1.0,\"#f0f921\"]]}],\"heatmapgl\":[{\"type\":\"heatmapgl\",\"colorbar\":{\"outlinewidth\":0,\"ticks\":\"\"},\"colorscale\":[[0.0,\"#0d0887\"],[0.1111111111111111,\"#46039f\"],[0.2222222222222222,\"#7201a8\"],[0.3333333333333333,\"#9c179e\"],[0.4444444444444444,\"#bd3786\"],[0.5555555555555556,\"#d8576b\"],[0.6666666666666666,\"#ed7953\"],[0.7777777777777778,\"#fb9f3a\"],[0.8888888888888888,\"#fdca26\"],[1.0,\"#f0f921\"]]}],\"contourcarpet\":[{\"type\":\"contourcarpet\",\"colorbar\":{\"outlinewidth\":0,\"ticks\":\"\"}}],\"contour\":[{\"type\":\"contour\",\"colorbar\":{\"outlinewidth\":0,\"ticks\":\"\"},\"colorscale\":[[0.0,\"#0d0887\"],[0.1111111111111111,\"#46039f\"],[0.2222222222222222,\"#7201a8\"],[0.3333333333333333,\"#9c179e\"],[0.4444444444444444,\"#bd3786\"],[0.5555555555555556,\"#d8576b\"],[0.6666666666666666,\"#ed7953\"],[0.7777777777777778,\"#fb9f3a\"],[0.8888888888888888,\"#fdca26\"],[1.0,\"#f0f921\"]]}],\"surface\":[{\"type\":\"surface\",\"colorbar\":{\"outlinewidth\":0,\"ticks\":\"\"},\"colorscale\":[[0.0,\"#0d0887\"],[0.1111111111111111,\"#46039f\"],[0.2222222222222222,\"#7201a8\"],[0.3333333333333333,\"#9c179e\"],[0.4444444444444444,\"#bd3786\"],[0.5555555555555556,\"#d8576b\"],[0.6666666666666666,\"#ed7953\"],[0.7777777777777778,\"#fb9f3a\"],[0.8888888888888888,\"#fdca26\"],[1.0,\"#f0f921\"]]}],\"mesh3d\":[{\"type\":\"mesh3d\",\"colorbar\":{\"outlinewidth\":0,\"ticks\":\"\"}}],\"scatter\":[{\"fillpattern\":{\"fillmode\":\"overlay\",\"size\":10,\"solidity\":0.2},\"type\":\"scatter\"}],\"parcoords\":[{\"type\":\"parcoords\",\"line\":{\"colorbar\":{\"outlinewidth\":0,\"ticks\":\"\"}}}],\"scatterpolargl\":[{\"type\":\"scatterpolargl\",\"marker\":{\"colorbar\":{\"outlinewidth\":0,\"ticks\":\"\"}}}],\"bar\":[{\"error_x\":{\"color\":\"#2a3f5f\"},\"error_y\":{\"color\":\"#2a3f5f\"},\"marker\":{\"line\":{\"color\":\"#E5ECF6\",\"width\":0.5},\"pattern\":{\"fillmode\":\"overlay\",\"size\":10,\"solidity\":0.2}},\"type\":\"bar\"}],\"scattergeo\":[{\"type\":\"scattergeo\",\"marker\":{\"colorbar\":{\"outlinewidth\":0,\"ticks\":\"\"}}}],\"scatterpolar\":[{\"type\":\"scatterpolar\",\"marker\":{\"colorbar\":{\"outlinewidth\":0,\"ticks\":\"\"}}}],\"histogram\":[{\"marker\":{\"pattern\":{\"fillmode\":\"overlay\",\"size\":10,\"solidity\":0.2}},\"type\":\"histogram\"}],\"scattergl\":[{\"type\":\"scattergl\",\"marker\":{\"colorbar\":{\"outlinewidth\":0,\"ticks\":\"\"}}}],\"scatter3d\":[{\"type\":\"scatter3d\",\"line\":{\"colorbar\":{\"outlinewidth\":0,\"ticks\":\"\"}},\"marker\":{\"colorbar\":{\"outlinewidth\":0,\"ticks\":\"\"}}}],\"scattermapbox\":[{\"type\":\"scattermapbox\",\"marker\":{\"colorbar\":{\"outlinewidth\":0,\"ticks\":\"\"}}}],\"scatterternary\":[{\"type\":\"scatterternary\",\"marker\":{\"colorbar\":{\"outlinewidth\":0,\"ticks\":\"\"}}}],\"scattercarpet\":[{\"type\":\"scattercarpet\",\"marker\":{\"colorbar\":{\"outlinewidth\":0,\"ticks\":\"\"}}}],\"carpet\":[{\"aaxis\":{\"endlinecolor\":\"#2a3f5f\",\"gridcolor\":\"white\",\"linecolor\":\"white\",\"minorgridcolor\":\"white\",\"startlinecolor\":\"#2a3f5f\"},\"baxis\":{\"endlinecolor\":\"#2a3f5f\",\"gridcolor\":\"white\",\"linecolor\":\"white\",\"minorgridcolor\":\"white\",\"startlinecolor\":\"#2a3f5f\"},\"type\":\"carpet\"}],\"table\":[{\"cells\":{\"fill\":{\"color\":\"#EBF0F8\"},\"line\":{\"color\":\"white\"}},\"header\":{\"fill\":{\"color\":\"#C8D4E3\"},\"line\":{\"color\":\"white\"}},\"type\":\"table\"}],\"barpolar\":[{\"marker\":{\"line\":{\"color\":\"#E5ECF6\",\"width\":0.5},\"pattern\":{\"fillmode\":\"overlay\",\"size\":10,\"solidity\":0.2}},\"type\":\"barpolar\"}],\"pie\":[{\"automargin\":true,\"type\":\"pie\"}]},\"layout\":{\"autotypenumbers\":\"strict\",\"colorway\":[\"#636efa\",\"#EF553B\",\"#00cc96\",\"#ab63fa\",\"#FFA15A\",\"#19d3f3\",\"#FF6692\",\"#B6E880\",\"#FF97FF\",\"#FECB52\"],\"font\":{\"color\":\"#2a3f5f\"},\"hovermode\":\"closest\",\"hoverlabel\":{\"align\":\"left\"},\"paper_bgcolor\":\"white\",\"plot_bgcolor\":\"#E5ECF6\",\"polar\":{\"bgcolor\":\"#E5ECF6\",\"angularaxis\":{\"gridcolor\":\"white\",\"linecolor\":\"white\",\"ticks\":\"\"},\"radialaxis\":{\"gridcolor\":\"white\",\"linecolor\":\"white\",\"ticks\":\"\"}},\"ternary\":{\"bgcolor\":\"#E5ECF6\",\"aaxis\":{\"gridcolor\":\"white\",\"linecolor\":\"white\",\"ticks\":\"\"},\"baxis\":{\"gridcolor\":\"white\",\"linecolor\":\"white\",\"ticks\":\"\"},\"caxis\":{\"gridcolor\":\"white\",\"linecolor\":\"white\",\"ticks\":\"\"}},\"coloraxis\":{\"colorbar\":{\"outlinewidth\":0,\"ticks\":\"\"}},\"colorscale\":{\"sequential\":[[0.0,\"#0d0887\"],[0.1111111111111111,\"#46039f\"],[0.2222222222222222,\"#7201a8\"],[0.3333333333333333,\"#9c179e\"],[0.4444444444444444,\"#bd3786\"],[0.5555555555555556,\"#d8576b\"],[0.6666666666666666,\"#ed7953\"],[0.7777777777777778,\"#fb9f3a\"],[0.8888888888888888,\"#fdca26\"],[1.0,\"#f0f921\"]],\"sequentialminus\":[[0.0,\"#0d0887\"],[0.1111111111111111,\"#46039f\"],[0.2222222222222222,\"#7201a8\"],[0.3333333333333333,\"#9c179e\"],[0.4444444444444444,\"#bd3786\"],[0.5555555555555556,\"#d8576b\"],[0.6666666666666666,\"#ed7953\"],[0.7777777777777778,\"#fb9f3a\"],[0.8888888888888888,\"#fdca26\"],[1.0,\"#f0f921\"]],\"diverging\":[[0,\"#8e0152\"],[0.1,\"#c51b7d\"],[0.2,\"#de77ae\"],[0.3,\"#f1b6da\"],[0.4,\"#fde0ef\"],[0.5,\"#f7f7f7\"],[0.6,\"#e6f5d0\"],[0.7,\"#b8e186\"],[0.8,\"#7fbc41\"],[0.9,\"#4d9221\"],[1,\"#276419\"]]},\"xaxis\":{\"gridcolor\":\"white\",\"linecolor\":\"white\",\"ticks\":\"\",\"title\":{\"standoff\":15},\"zerolinecolor\":\"white\",\"automargin\":true,\"zerolinewidth\":2},\"yaxis\":{\"gridcolor\":\"white\",\"linecolor\":\"white\",\"ticks\":\"\",\"title\":{\"standoff\":15},\"zerolinecolor\":\"white\",\"automargin\":true,\"zerolinewidth\":2},\"scene\":{\"xaxis\":{\"backgroundcolor\":\"#E5ECF6\",\"gridcolor\":\"white\",\"linecolor\":\"white\",\"showbackground\":true,\"ticks\":\"\",\"zerolinecolor\":\"white\",\"gridwidth\":2},\"yaxis\":{\"backgroundcolor\":\"#E5ECF6\",\"gridcolor\":\"white\",\"linecolor\":\"white\",\"showbackground\":true,\"ticks\":\"\",\"zerolinecolor\":\"white\",\"gridwidth\":2},\"zaxis\":{\"backgroundcolor\":\"#E5ECF6\",\"gridcolor\":\"white\",\"linecolor\":\"white\",\"showbackground\":true,\"ticks\":\"\",\"zerolinecolor\":\"white\",\"gridwidth\":2}},\"shapedefaults\":{\"line\":{\"color\":\"#2a3f5f\"}},\"annotationdefaults\":{\"arrowcolor\":\"#2a3f5f\",\"arrowhead\":0,\"arrowwidth\":1},\"geo\":{\"bgcolor\":\"white\",\"landcolor\":\"#E5ECF6\",\"subunitcolor\":\"white\",\"showland\":true,\"showlakes\":true,\"lakecolor\":\"white\"},\"title\":{\"x\":0.05},\"mapbox\":{\"style\":\"light\"}}},\"legend\":{\"tracegroupgap\":0},\"title\":{\"text\":\"Types Of Cancer Result\"}},                        {\"responsive\": true}                    ).then(function(){\n",
       "                            \n",
       "var gd = document.getElementById('454ea332-5aa2-493e-bc89-58900a247e43');\n",
       "var x = new MutationObserver(function (mutations, observer) {{\n",
       "        var display = window.getComputedStyle(gd).display;\n",
       "        if (!display || display === 'none') {{\n",
       "            console.log([gd, 'removed!']);\n",
       "            Plotly.purge(gd);\n",
       "            observer.disconnect();\n",
       "        }}\n",
       "}});\n",
       "\n",
       "// Listen for the removal of the full notebook cells\n",
       "var notebookContainer = gd.closest('#notebook-container');\n",
       "if (notebookContainer) {{\n",
       "    x.observe(notebookContainer, {childList: true});\n",
       "}}\n",
       "\n",
       "// Listen for the clearing of the current output cell\n",
       "var outputEl = gd.closest('.output');\n",
       "if (outputEl) {{\n",
       "    x.observe(outputEl, {childList: true});\n",
       "}}\n",
       "\n",
       "                        })                };                });            </script>        </div>"
      ]
     },
     "metadata": {},
     "output_type": "display_data"
    }
   ],
   "source": [
    "array = [(data['diagnosis_result']=='M').sum(),(data['diagnosis_result']=='B').sum()]\n",
    "labels = ['Malignant','Begnin']\n",
				"color = sns.color_palette('bright')\n",
				"plt.figure(figsize=(10,10))\n"
    "plt.pie(array,labels=labels, colors = color')\n",
				"plt.title("Types Of Cancer Result")\n",
				"plt.legend(title='Types')\n",
    "plt.show()"
   ]
  },
  {
   "cell_type": "markdown",
   "metadata": {},
   "source": [
    "Although malignant tumors may need more harsh interventions like surgery, radiation therapy, or chemotherapy, the behavior of a tumor in prostate cancer is ultimately a key component in deciding the best course of treatment. Depending on their size and location, benign tumors may be handled with surveillance or less intrusive procedures. The outcomes for men with prostate cancer can be improved by routine screening and assessment by a healthcare professional, which can aid in the detection and management of malignancies in the prostate gland and surrounding tissues."
   ]
  },
  {
   "cell_type": "code",
   "execution_count": 107,
   "metadata": {},
   "outputs": [
    {
     "data": {
      "application/vnd.jupyter.widget-view+json": {
       "model_id": "c6e8d334fc664c99b55cd8547812f896",
       "version_major": 2,
       "version_minor": 0
      },
      "text/plain": [
       "interactive(children=(Dropdown(description='x', options=('radius', 'texture', 'perimeter', 'area', 'smoothness…"
      ]
     },
     "metadata": {},
     "output_type": "display_data"
    },
    {
     "data": {
      "text/plain": [
       "<function __main__.scatter_plot_int(x='Birth_Rate', y='Year', hue='Region')>"
      ]
     },
     "execution_count": 107,
     "metadata": {},
     "output_type": "execute_result"
    }
   ],
   "source": [
    "def scatter_plot_int(x='Birth_Rate',y='Year', hue='Region'):\n",
    "    plt.figure(dpi=120)\n",
    "    sns.set_style('whitegrid')\n",
    "    return sns.scatterplot(data = data, x=x,y=y, alpha =0.6, hue = hue, cmap='Set3')\n",
    "\n",
    "interact(scatter_plot_int,\n",
    "        x = widgets.Dropdown(options = ['radius','texture','perimeter','area','smoothness','compactness','symmetry','fractal_dimension']),\n",
    "        y = widgets.Dropdown(options = ['radius','texture','perimeter','area','smoothness','compactness','symmetry','fractal_dimension']),\n",
    "        hue = widgets.Dropdown(options = ['diagnosis_result']))"
   ]
  },
  {
   "cell_type": "markdown",
   "metadata": {},
   "source": [
    "### Data Preprocessing\n",
    "By guaranteeing that variables are on a same scale and that the data has a normal distribution, the StandardScaler() preprocessing technique helps to scale and normalize data, which enhances the performance and accuracy of machine learning models."
   ]
  },
  {
   "cell_type": "code",
   "execution_count": 74,
   "metadata": {},
   "outputs": [],
   "source": [
    "x = data[['radius','texture','perimeter','area','smoothness','compactness','symmetry','fractal_dimension']]\n",
    "y = data[['diagnosis_result']]\n",
    "xtrain,xtest,ytrain,ytest=train_test_split(x,y,test_size=0.3,random_state =125)"
   ]
  },
  {
   "cell_type": "code",
   "execution_count": 75,
   "metadata": {},
   "outputs": [],
   "source": [
    "std_sclr = StandardScaler()\n",
    "x_train = std_sclr.fit_transform(xtrain)\n",
    "x_test = std_sclr.fit_transform(xtest)"
   ]
  },
  {
   "cell_type": "markdown",
   "metadata": {},
   "source": [
    "### Data Modeling\n",
    "#### 1) Logestic Regression "
   ]
  },
  {
   "cell_type": "code",
   "execution_count": 82,
   "metadata": {},
   "outputs": [
    {
     "name": "stdout",
     "output_type": "stream",
     "text": [
      "Predicted value= \n",
      " ['M' 'M' 'B' 'M' 'M' 'M' 'M' 'M' 'M' 'B' 'B' 'M' 'M' 'B' 'B' 'M' 'B' 'B'\n",
      " 'M' 'M' 'M' 'M' 'M' 'B' 'M' 'M' 'B' 'M' 'M' 'M']\n",
      "\n",
      " Confusion Matrix =\n",
      " [[ 8  3]\n",
      " [ 1 18]]\n",
      "\n",
      "Accurecy= 86.667\n"
     ]
    }
   ],
   "source": [
    "model1= LogisticRegression(solver='liblinear',C=10.0)\n",
    "model1.fit(x_train,ytrain)\n",
    "ypred1=model1.predict(x_test)\n",
    "print(\"Predicted value= \\n\",ypred1)\n",
    "cm_m1 = confusion_matrix(ytest,ypred1)\n",
    "print(\"\\n Confusion Matrix =\\n\",cm_m1)\n",
    "Ac1 = accuracy_score(ytest,ypred1)*100\n",
    "print(\"\\nAccurecy=\",round(Ac1,3))"
   ]
  },
  {
   "cell_type": "markdown",
   "metadata": {},
   "source": [
    "#### 2) DecisionTreeClassifier"
   ]
  },
  {
   "cell_type": "code",
   "execution_count": 77,
   "metadata": {},
   "outputs": [
    {
     "name": "stdout",
     "output_type": "stream",
     "text": [
      "Predicted value= \n",
      " ['M' 'M' 'B' 'M' 'M' 'M' 'M' 'B' 'M' 'B' 'B' 'M' 'M' 'B' 'B' 'B' 'B' 'B'\n",
      " 'M' 'B' 'M' 'M' 'M' 'B' 'M' 'M' 'B' 'M' 'M' 'B']\n",
      "\n",
      " Confusion Matrix =\n",
      " [[ 9  2]\n",
      " [ 4 15]]\n",
      "\n",
      "Accurecy= 80.0\n"
     ]
    }
   ],
   "source": [
    "model2= DecisionTreeClassifier()\n",
    "model2.fit(x_train,ytrain)\n",
    "ypred2=model2.predict(x_test)\n",
    "print(\"Predicted value= \\n\",ypred2)\n",
    "cm_m2 = confusion_matrix(ytest,ypred2)\n",
    "print(\"\\n Confusion Matrix =\\n\",cm_m2)\n",
    "Ac2 = accuracy_score(ytest,ypred2)*100\n",
    "print(\"\\nAccurecy=\",round(Ac2,3))"
   ]
  },
  {
   "cell_type": "markdown",
   "metadata": {},
   "source": [
    "#### 3) support vector machines"
   ]
  },
  {
   "cell_type": "code",
   "execution_count": 78,
   "metadata": {},
   "outputs": [
    {
     "name": "stdout",
     "output_type": "stream",
     "text": [
      "Predicted value= \n",
      " ['M' 'M' 'B' 'M' 'M' 'M' 'M' 'B' 'M' 'B' 'B' 'M' 'M' 'B' 'B' 'B' 'B' 'B'\n",
      " 'M' 'B' 'M' 'M' 'M' 'B' 'M' 'M' 'B' 'M' 'M' 'B']\n",
      "\n",
      " Confusion Matrix =\n",
      " [[ 9  2]\n",
      " [ 4 15]]\n",
      "\n",
      "Accurecy= 80.0\n"
     ]
    }
   ],
   "source": [
    "model3= svm.SVC()\n",
    "model3.fit(x_train,ytrain)\n",
    "ypred3=model3.predict(x_test)\n",
    "print(\"Predicted value= \\n\",ypred2)\n",
    "cm_m3 = confusion_matrix(ytest,ypred2)\n",
    "print(\"\\n Confusion Matrix =\\n\",cm_m2)\n",
    "Ac3 = accuracy_score(ytest,ypred2)*100\n",
    "print(\"\\nAccurecy=\",round(Ac3,3))"
   ]
  },
  {
   "cell_type": "markdown",
   "metadata": {},
   "source": [
    "### Conclusion\n",
    "In the above data modeling analysis we have conducted three types of modeling namely linear decision tree and SVM out of which linear modeling gives the maximum accuracy of 86.667% .\n",
    "\n",
    "Moreover is challenging to pinpoint which tumor characteristic most strongly influences prostate cancer in men because all of these characteristics might offer valuable insight into the diagnosis and management of the condition. The radius, perimeter, and area of the tumor can be used to estimate the stage and extent of the cancer, and the smoothness, compactness, and texture of the tumor cells can reveal information about how aggressive the cancer is. The stage and aggressiveness of the tumour can also be determined by its symmetry and fractal dimension..\n",
    "\n",
    "In the end, prostate cancer diagnosis and treatment involve a thorough assessment of all available data, including imaging investigations, laboratory testing, and physical exams. Radius, texture, perimeter, area, smoothness, compactness, symmetry, and fractal dimension of the tumor can all be used to make this assessment, which can then be used to inform treatment choices and enhance outcomes for men with prostate cancer. Men should regularly get screened for prostate cancer and talk to their doctor about their risk factors, as early diagnosis and treatment are essential for a better prognosis."
   ]
  }
 ],
 "metadata": {
  "kernelspec": {
   "display_name": "Python 3",
   "language": "python",
   "name": "python3"
  },
  "language_info": {
   "codemirror_mode": {
    "name": "ipython",
    "version": 3
   },
   "file_extension": ".py",
   "mimetype": "text/x-python",
   "name": "python",
   "nbconvert_exporter": "python",
   "pygments_lexer": "ipython3",
   "version": "3.8.5"
  }
 },
 "nbformat": 4,
 "nbformat_minor": 4
}
