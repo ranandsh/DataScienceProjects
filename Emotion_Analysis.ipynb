{
 "cells": [
  {
   "cell_type": "markdown",
   "metadata": {},
   "source": [
    "# Emotions"
   ]
  },
  {
   "cell_type": "markdown",
   "metadata": {},
   "source": [
    "### OBJECTIVE:-\n",
    "#### The objective of this project is to extract the story line of a story and analyse its genric emotion. By replacing conventional super long  reveiws and saving human effort for selecting a story , depending on our current mood."
   ]
  },
  {
   "cell_type": "code",
   "execution_count": 45,
   "metadata": {
    "scrolled": true
   },
   "outputs": [
    {
     "name": "stderr",
     "output_type": "stream",
     "text": [
      "[nltk_data] Downloading package punkt to\n",
      "[nltk_data]     C:\\Users\\19282\\AppData\\Roaming\\nltk_data...\n",
      "[nltk_data]   Package punkt is already up-to-date!\n"
     ]
    }
   ],
   "source": [
    "import numpy as np\n",
    "import re\n",
    "import matplotlib.pyplot as plt\n",
    "from textblob import TextBlob\n",
    "import nltk\n",
    "nltk.download('punkt')\n",
    "import sys\n",
    "from importlib import reload\n",
    "reload(sys)\n",
    "import warnings\n",
    "warnings.filterwarnings(\"ignore\")"
   ]
  },
  {
   "cell_type": "markdown",
   "metadata": {},
   "source": [
    "### DATA ACCESS:-\n",
    "#### WE AHVE USED A TEXT FILE AS THE INPUT AND BASIC FILE OPERATIONS HAS BEEN PERFORMED TO ACCES IT."
   ]
  },
  {
   "cell_type": "code",
   "execution_count": 30,
   "metadata": {},
   "outputs": [
    {
     "data": {
      "text/plain": [
       "'Once upon a time there lived a king and queen. \\nThey had no children, so they prayed years for which  they finally got a a child. \\nThis child was a special one! It had supernatural powers powers with which it could have burn anything in its path.\\n\\nWorrying for the future of this \"child\" the parents take it to the local witch.\\nthey ask the her to take the child’s power away.\\nOn noticing how powerful the child was, the witch advises the parents to leave the child in the nearby \"magical forest\".\\nAnd also warns them about the grave danger that they will face, if they let their child to live among commoners!\\n\\nFor in their love for their Child the parents decide to keep their child, Not giving away to superstitions.\\n'"
      ]
     },
     "execution_count": 30,
     "metadata": {},
     "output_type": "execute_result"
    }
   ],
   "source": [
    "storyfile = open(\"text.txt\",encoding=\"utf-8-sig\")                  # Open the text file\n",
    "storytext = storyfile.read()                                       # Read the text file\n",
    "storytext                                                          # display it!"
   ]
  },
  {
   "cell_type": "markdown",
   "metadata": {},
   "source": [
    "### DATA CLEANING:-\n",
    "#### REMOVING FEW CHARECTORES, SPACES  & REPLACING THEM AS TO NOT CAUSE ISSUES WITH TEXTBLOB FUNCTION"
   ]
  },
  {
   "cell_type": "code",
   "execution_count": 31,
   "metadata": {},
   "outputs": [],
   "source": [
    "cds_finder = re.findall('Chapter '+'\\d{1,2}\\s', storytext)        # finds charector , numbers and spsaces \n",
    "for match in cds_finder: \n",
    "    storytext = re.sub(match, match.replace('\\n','.'), storytext) # replace those\n",
    "storytext = storytext.replace('\\n', ' ')                          # replace new lines with space"
   ]
  },
  {
   "cell_type": "markdown",
   "metadata": {},
   "source": [
    "### SENTEMENT ANALYSIS:-"
   ]
  },
  {
   "cell_type": "code",
   "execution_count": 50,
   "metadata": {},
   "outputs": [
    {
     "data": {
      "text/plain": [
       "TextBlob(\"Once upon a time there lived a king and queen.  They had no children, so they prayed years for which  they finally got a a child.  This child was a special one! It had supernatural powers powers with which it could have burn anything in its path.  Worrying for the future of this \"child\" the parents take it to the local witch. they ask the her to take the child’s power away. On noticing how powerful the child was, the witch advises the parents to leave the child in the nearby \"magical forest\". And also warns them about the grave danger that they will face, if they let their child to live among commoners!  For in their love for their Child the parents decide to keep their child, Not giving away to superstitions. \")"
      ]
     },
     "execution_count": 50,
     "metadata": {},
     "output_type": "execute_result"
    }
   ],
   "source": [
    "processed_story =TextBlob(storytext)\n",
    "processed_story"
   ]
  },
  {
   "cell_type": "code",
   "execution_count": 51,
   "metadata": {},
   "outputs": [
    {
     "data": {
      "text/plain": [
       "['Neutral Emotion',\n",
       " 'Neutral Emotion',\n",
       " 'Pleasant Emotion ',\n",
       " 'Pleasant Emotion ',\n",
       " 'Neutral Emotion',\n",
       " 'Neutral Emotion',\n",
       " 'Pleasant Emotion ',\n",
       " 'Pleasant Emotion ',\n",
       " 'Pleasant Emotion ']"
      ]
     },
     "execution_count": 51,
     "metadata": {},
     "output_type": "execute_result"
    }
   ],
   "source": [
    "results=[]                                       # open a list\n",
    "for sentence in processed_story.sentences:       # for loop\n",
    "    if sentence.sentiment.polarity > 0.09 :      # if condition for Pleasant\n",
    "        results.append(\"Pleasant Emotion \")      # append list with output\n",
    "    elif sentence.sentiment.polarity >=(-0.09):  # else-if condition for Neutral\n",
    "        results.append(\"Neutral Emotion\")        # append list with output\n",
    "    else :                                       # if condition for Sad\n",
    "         results.append(\"Sad Emotion\")           # append list with output\n",
    "results"
   ]
  },
  {
   "cell_type": "markdown",
   "metadata": {},
   "source": [
    "### Observations :-\n",
    "#### 1) OUT OF 9 SENTENCES 5 OF THEM ARE IN Plesent Emotion. 4 OF THEM ARE IN NEUTRAL MOOD WHICH CAN TELL US THE GENRIC THEME OF STORY IS  NOT SAD ONE.\n",
    "#### 2) IN GENRAL WE CAN MAXIMIZE ACCURENCY OF A EMOTION AND CAN COME TO THE CONCLUSION ABOUT THE GENRAL SET  OF A STORY.\n",
    "#### 3) AS THIS IS AN IN PROCESS PROJECT , I WISH TO IMPROVE THE METHODOLOGIES TO CAPTURE MORE SENTEMENTS ."
   ]
  }
 ],
 "metadata": {
  "kernelspec": {
   "display_name": "Python 3",
   "language": "python",
   "name": "python3"
  },
  "language_info": {
   "codemirror_mode": {
    "name": "ipython",
    "version": 3
   },
   "file_extension": ".py",
   "mimetype": "text/x-python",
   "name": "python",
   "nbconvert_exporter": "python",
   "pygments_lexer": "ipython3",
   "version": "3.8.5"
  }
 },
 "nbformat": 4,
 "nbformat_minor": 4
}
