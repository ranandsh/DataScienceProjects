{
 "cells": [
  {
   "cell_type": "markdown",
   "metadata": {},
   "source": [
    "# Car Sale Analysis\n",
    "### By : Rohan Anand Shetty"
   ]
  },
  {
   "cell_type": "code",
   "execution_count": 197,
   "metadata": {},
   "outputs": [],
   "source": [
    "import numpy as np\n",
    "import pandas as pd\n",
    "import plotly.express as px\n",
    "import seaborn as sns\n",
    "from sklearn.model_selection import train_test_split\n",
    "from sklearn.preprocessing import StandardScaler\n",
    "from sklearn.metrics import mean_squared_error,mean_absolute_error\n",
    "from sklearn.inspection import permutation_importance\n",
    "from sklearn.tree import DecisionTreeRegressor\n",
    "from sklearn.ensemble import GradientBoostingRegressor\n",
    "from sklearn.ensemble import AdaBoostRegressor\n",
    "from sklearn.preprocessing import OneHotEncoder, OrdinalEncoder\n",
    "from sklearn.impute import KNNImputer\n",
    "from scipy import stats\n",
    "import matplotlib.pyplot as plt\n",
    "from matplotlib.pyplot import figure\n",
    "import warnings\n",
    "warnings.filterwarnings('ignore')"
   ]
  },
  {
   "cell_type": "markdown",
   "metadata": {},
   "source": [
    "#### The Data  Set\n",
    "* This car sales data is from Kaggle and explains the type of manufacturers different types of models what are the specifications of the cars such as engine size about its horsepower about its wheelbase about the length and width and other important features that affect the price of the vehicle.\n",
    "* One of the important features among this data Sales and resale value with respect to ear which depicts unique aspects of modern car industry where pricing of each individual car can be ordered accordingly to the above features."
   ]
  },
  {
   "cell_type": "code",
   "execution_count": 158,
   "metadata": {},
   "outputs": [
    {
     "data": {
      "text/html": [
       "<div>\n",
       "<style scoped>\n",
       "    .dataframe tbody tr th:only-of-type {\n",
       "        vertical-align: middle;\n",
       "    }\n",
       "\n",
       "    .dataframe tbody tr th {\n",
       "        vertical-align: top;\n",
       "    }\n",
       "\n",
       "    .dataframe thead th {\n",
       "        text-align: right;\n",
       "    }\n",
       "</style>\n",
       "<table border=\"1\" class=\"dataframe\">\n",
       "  <thead>\n",
       "    <tr style=\"text-align: right;\">\n",
       "      <th></th>\n",
       "      <th>Manufacturer</th>\n",
       "      <th>Model</th>\n",
       "      <th>Sales_in_thousands</th>\n",
       "      <th>__year_resale_value</th>\n",
       "      <th>Vehicle_type</th>\n",
       "      <th>Price_in_thousands</th>\n",
       "      <th>Engine_size</th>\n",
       "      <th>Horsepower</th>\n",
       "      <th>Wheelbase</th>\n",
       "      <th>Width</th>\n",
       "      <th>Length</th>\n",
       "      <th>Curb_weight</th>\n",
       "      <th>Fuel_capacity</th>\n",
       "      <th>Fuel_efficiency</th>\n",
       "      <th>Latest_Launch</th>\n",
       "      <th>Power_perf_factor</th>\n",
       "    </tr>\n",
       "  </thead>\n",
       "  <tbody>\n",
       "    <tr>\n",
       "      <th>0</th>\n",
       "      <td>Acura</td>\n",
       "      <td>Integra</td>\n",
       "      <td>16.919</td>\n",
       "      <td>16.360</td>\n",
       "      <td>Passenger</td>\n",
       "      <td>21.50</td>\n",
       "      <td>1.8</td>\n",
       "      <td>140.0</td>\n",
       "      <td>101.2</td>\n",
       "      <td>67.3</td>\n",
       "      <td>172.4</td>\n",
       "      <td>2.639</td>\n",
       "      <td>13.2</td>\n",
       "      <td>28.0</td>\n",
       "      <td>2/2/2012</td>\n",
       "      <td>58.280150</td>\n",
       "    </tr>\n",
       "    <tr>\n",
       "      <th>1</th>\n",
       "      <td>Acura</td>\n",
       "      <td>TL</td>\n",
       "      <td>39.384</td>\n",
       "      <td>19.875</td>\n",
       "      <td>Passenger</td>\n",
       "      <td>28.40</td>\n",
       "      <td>3.2</td>\n",
       "      <td>225.0</td>\n",
       "      <td>108.1</td>\n",
       "      <td>70.3</td>\n",
       "      <td>192.9</td>\n",
       "      <td>3.517</td>\n",
       "      <td>17.2</td>\n",
       "      <td>25.0</td>\n",
       "      <td>6/3/2011</td>\n",
       "      <td>91.370778</td>\n",
       "    </tr>\n",
       "    <tr>\n",
       "      <th>2</th>\n",
       "      <td>Acura</td>\n",
       "      <td>CL</td>\n",
       "      <td>14.114</td>\n",
       "      <td>18.225</td>\n",
       "      <td>Passenger</td>\n",
       "      <td>NaN</td>\n",
       "      <td>3.2</td>\n",
       "      <td>225.0</td>\n",
       "      <td>106.9</td>\n",
       "      <td>70.6</td>\n",
       "      <td>192.0</td>\n",
       "      <td>3.470</td>\n",
       "      <td>17.2</td>\n",
       "      <td>26.0</td>\n",
       "      <td>1/4/2012</td>\n",
       "      <td>NaN</td>\n",
       "    </tr>\n",
       "    <tr>\n",
       "      <th>3</th>\n",
       "      <td>Acura</td>\n",
       "      <td>RL</td>\n",
       "      <td>8.588</td>\n",
       "      <td>29.725</td>\n",
       "      <td>Passenger</td>\n",
       "      <td>42.00</td>\n",
       "      <td>3.5</td>\n",
       "      <td>210.0</td>\n",
       "      <td>114.6</td>\n",
       "      <td>71.4</td>\n",
       "      <td>196.6</td>\n",
       "      <td>3.850</td>\n",
       "      <td>18.0</td>\n",
       "      <td>22.0</td>\n",
       "      <td>3/10/2011</td>\n",
       "      <td>91.389779</td>\n",
       "    </tr>\n",
       "    <tr>\n",
       "      <th>4</th>\n",
       "      <td>Audi</td>\n",
       "      <td>A4</td>\n",
       "      <td>20.397</td>\n",
       "      <td>22.255</td>\n",
       "      <td>Passenger</td>\n",
       "      <td>23.99</td>\n",
       "      <td>1.8</td>\n",
       "      <td>150.0</td>\n",
       "      <td>102.6</td>\n",
       "      <td>68.2</td>\n",
       "      <td>178.0</td>\n",
       "      <td>2.998</td>\n",
       "      <td>16.4</td>\n",
       "      <td>27.0</td>\n",
       "      <td>10/8/2011</td>\n",
       "      <td>62.777639</td>\n",
       "    </tr>\n",
       "  </tbody>\n",
       "</table>\n",
       "</div>"
      ],
      "text/plain": [
       "  Manufacturer    Model  Sales_in_thousands  __year_resale_value Vehicle_type  \\\n",
       "0        Acura  Integra              16.919               16.360    Passenger   \n",
       "1        Acura       TL              39.384               19.875    Passenger   \n",
       "2        Acura       CL              14.114               18.225    Passenger   \n",
       "3        Acura       RL               8.588               29.725    Passenger   \n",
       "4         Audi       A4              20.397               22.255    Passenger   \n",
       "\n",
       "   Price_in_thousands  Engine_size  Horsepower  Wheelbase  Width  Length  \\\n",
       "0               21.50          1.8       140.0      101.2   67.3   172.4   \n",
       "1               28.40          3.2       225.0      108.1   70.3   192.9   \n",
       "2                 NaN          3.2       225.0      106.9   70.6   192.0   \n",
       "3               42.00          3.5       210.0      114.6   71.4   196.6   \n",
       "4               23.99          1.8       150.0      102.6   68.2   178.0   \n",
       "\n",
       "   Curb_weight  Fuel_capacity  Fuel_efficiency Latest_Launch  \\\n",
       "0        2.639           13.2             28.0      2/2/2012   \n",
       "1        3.517           17.2             25.0      6/3/2011   \n",
       "2        3.470           17.2             26.0      1/4/2012   \n",
       "3        3.850           18.0             22.0     3/10/2011   \n",
       "4        2.998           16.4             27.0     10/8/2011   \n",
       "\n",
       "   Power_perf_factor  \n",
       "0          58.280150  \n",
       "1          91.370778  \n",
       "2                NaN  \n",
       "3          91.389779  \n",
       "4          62.777639  "
      ]
     },
     "execution_count": 158,
     "metadata": {},
     "output_type": "execute_result"
    }
   ],
   "source": [
    "data = pd.read_csv(\"Car_sales.csv\")\n",
    "data.head(5)"
   ]
  },
  {
   "cell_type": "markdown",
   "metadata": {},
   "source": [
    "### Data Preprocessing "
   ]
  },
  {
   "cell_type": "markdown",
   "metadata": {},
   "source": [
    "#### 1) Check for Missing Values\n",
    "* Handling missing values it's in key preprocessing step for modeling purposes and analysis of the data."
   ]
  },
  {
   "cell_type": "code",
   "execution_count": 159,
   "metadata": {},
   "outputs": [
    {
     "data": {
      "text/plain": [
       "Manufacturer            0\n",
       "Model                   0\n",
       "Sales_in_thousands      0\n",
       "__year_resale_value    36\n",
       "Vehicle_type            0\n",
       "Price_in_thousands      2\n",
       "Engine_size             1\n",
       "Horsepower              1\n",
       "Wheelbase               1\n",
       "Width                   1\n",
       "Length                  1\n",
       "Curb_weight             2\n",
       "Fuel_capacity           1\n",
       "Fuel_efficiency         3\n",
       "Latest_Launch           0\n",
       "Power_perf_factor       2\n",
       "dtype: int64"
      ]
     },
     "execution_count": 159,
     "metadata": {},
     "output_type": "execute_result"
    }
   ],
   "source": [
    "data.isnull().sum()"
   ]
  },
  {
   "cell_type": "markdown",
   "metadata": {},
   "source": [
    "* Impute missing values using kNN Imputer With number of neighbor equal to 3"
   ]
  },
  {
   "cell_type": "code",
   "execution_count": 160,
   "metadata": {},
   "outputs": [],
   "source": [
    "data[['__year_resale_value']]= KNNImputer(n_neighbors=3).fit_transform(data[['__year_resale_value']])\n",
    "data[['Price_in_thousands']]= KNNImputer(n_neighbors=3).fit_transform(data[['Price_in_thousands']])\n",
    "data[['Engine_size']]= KNNImputer(n_neighbors=3).fit_transform(data[['Engine_size']])\n",
    "data[['Horsepower']]= KNNImputer(n_neighbors=3).fit_transform(data[['Horsepower']])\n",
    "data[['Wheelbase']]= KNNImputer(n_neighbors=3).fit_transform(data[['Wheelbase']])\n",
    "data[['Width']]= KNNImputer(n_neighbors=3).fit_transform(data[['Width']])\n",
    "data[['Length']]= KNNImputer(n_neighbors=3).fit_transform(data[['Length']])\n",
    "data[['Curb_weight']]= KNNImputer(n_neighbors=3).fit_transform(data[['Curb_weight']])\n",
    "data[['Fuel_capacity']]= KNNImputer(n_neighbors=3).fit_transform(data[['Fuel_capacity']])\n",
    "data[['Fuel_efficiency']]= KNNImputer(n_neighbors=3).fit_transform(data[['Fuel_efficiency']])\n",
    "data[['Power_perf_factor']]= KNNImputer(n_neighbors=3).fit_transform(data[['Power_perf_factor']])"
   ]
  },
  {
   "cell_type": "markdown",
   "metadata": {},
   "source": [
    "* Cleaned data"
   ]
  },
  {
   "cell_type": "code",
   "execution_count": 161,
   "metadata": {},
   "outputs": [
    {
     "data": {
      "text/plain": [
       "Manufacturer           0\n",
       "Model                  0\n",
       "Sales_in_thousands     0\n",
       "__year_resale_value    0\n",
       "Vehicle_type           0\n",
       "Price_in_thousands     0\n",
       "Engine_size            0\n",
       "Horsepower             0\n",
       "Wheelbase              0\n",
       "Width                  0\n",
       "Length                 0\n",
       "Curb_weight            0\n",
       "Fuel_capacity          0\n",
       "Fuel_efficiency        0\n",
       "Latest_Launch          0\n",
       "Power_perf_factor      0\n",
       "dtype: int64"
      ]
     },
     "execution_count": 161,
     "metadata": {},
     "output_type": "execute_result"
    }
   ],
   "source": [
    "data.isnull().sum()"
   ]
  },
  {
   "cell_type": "markdown",
   "metadata": {},
   "source": [
    "#### 2) Type verifications\n",
    "* Firstly, Handling Miss Classified features in a data through appropriate conversion is crucial. \n",
    "* Secondly converting categorical features into numerics provides easy processing of data."
   ]
  },
  {
   "cell_type": "code",
   "execution_count": 162,
   "metadata": {},
   "outputs": [
    {
     "name": "stdout",
     "output_type": "stream",
     "text": [
      "<class 'pandas.core.frame.DataFrame'>\n",
      "RangeIndex: 157 entries, 0 to 156\n",
      "Data columns (total 16 columns):\n",
      " #   Column               Non-Null Count  Dtype  \n",
      "---  ------               --------------  -----  \n",
      " 0   Manufacturer         157 non-null    object \n",
      " 1   Model                157 non-null    object \n",
      " 2   Sales_in_thousands   157 non-null    float64\n",
      " 3   __year_resale_value  157 non-null    float64\n",
      " 4   Vehicle_type         157 non-null    object \n",
      " 5   Price_in_thousands   157 non-null    float64\n",
      " 6   Engine_size          157 non-null    float64\n",
      " 7   Horsepower           157 non-null    float64\n",
      " 8   Wheelbase            157 non-null    float64\n",
      " 9   Width                157 non-null    float64\n",
      " 10  Length               157 non-null    float64\n",
      " 11  Curb_weight          157 non-null    float64\n",
      " 12  Fuel_capacity        157 non-null    float64\n",
      " 13  Fuel_efficiency      157 non-null    float64\n",
      " 14  Latest_Launch        157 non-null    object \n",
      " 15  Power_perf_factor    157 non-null    float64\n",
      "dtypes: float64(12), object(4)\n",
      "memory usage: 19.8+ KB\n"
     ]
    }
   ],
   "source": [
    "data.info(verbose=True)"
   ]
  },
  {
   "cell_type": "code",
   "execution_count": 163,
   "metadata": {},
   "outputs": [],
   "source": [
    "encoder = OneHotEncoder(handle_unknown='ignore')"
   ]
  },
  {
   "cell_type": "code",
   "execution_count": 164,
   "metadata": {},
   "outputs": [],
   "source": [
    "data =data.join(pd.DataFrame(encoder.fit_transform(data[['Vehicle_type']]).toarray(), columns =['Passenger','Car']))"
   ]
  },
  {
   "cell_type": "code",
   "execution_count": 165,
   "metadata": {},
   "outputs": [],
   "source": [
    "data[['Manufacturer','Model']] = OrdinalEncoder().fit_transform(data[['Manufacturer','Model']])"
   ]
  },
  {
   "cell_type": "code",
   "execution_count": 166,
   "metadata": {},
   "outputs": [],
   "source": [
    "data['Latest_Launch']=data['Latest_Launch'].astype('datetime64[ns]')\n",
    "data['Latest_Launch']= pd.to_numeric(data['Latest_Launch'])"
   ]
  },
  {
   "cell_type": "code",
   "execution_count": 167,
   "metadata": {},
   "outputs": [
    {
     "name": "stdout",
     "output_type": "stream",
     "text": [
      "<class 'pandas.core.frame.DataFrame'>\n",
      "RangeIndex: 157 entries, 0 to 156\n",
      "Data columns (total 18 columns):\n",
      " #   Column               Non-Null Count  Dtype  \n",
      "---  ------               --------------  -----  \n",
      " 0   Manufacturer         157 non-null    float64\n",
      " 1   Model                157 non-null    float64\n",
      " 2   Sales_in_thousands   157 non-null    float64\n",
      " 3   __year_resale_value  157 non-null    float64\n",
      " 4   Vehicle_type         157 non-null    object \n",
      " 5   Price_in_thousands   157 non-null    float64\n",
      " 6   Engine_size          157 non-null    float64\n",
      " 7   Horsepower           157 non-null    float64\n",
      " 8   Wheelbase            157 non-null    float64\n",
      " 9   Width                157 non-null    float64\n",
      " 10  Length               157 non-null    float64\n",
      " 11  Curb_weight          157 non-null    float64\n",
      " 12  Fuel_capacity        157 non-null    float64\n",
      " 13  Fuel_efficiency      157 non-null    float64\n",
      " 14  Latest_Launch        157 non-null    int64  \n",
      " 15  Power_perf_factor    157 non-null    float64\n",
      " 16  Passenger            157 non-null    float64\n",
      " 17  Car                  157 non-null    float64\n",
      "dtypes: float64(16), int64(1), object(1)\n",
      "memory usage: 22.2+ KB\n"
     ]
    }
   ],
   "source": [
    "data.info(verbose=True)"
   ]
  },
  {
   "cell_type": "markdown",
   "metadata": {},
   "source": [
    "#### 3) Corelation Analysis"
   ]
  },
  {
   "cell_type": "code",
   "execution_count": 168,
   "metadata": {},
   "outputs": [
    {
     "data": {
      "text/plain": [
       "<AxesSubplot:>"
      ]
     },
     "execution_count": 168,
     "metadata": {},
     "output_type": "execute_result"
    },
    {
     "data": {
      "image/png": "[encoded data removed]",
      "text/plain": [
       "<Figure size 432x288 with 2 Axes>"
      ]
     },
     "metadata": {
      "needs_background": "light"
     },
     "output_type": "display_data"
    }
   ],
   "source": [
    "corelations = data.corr()\n",
    "sns.heatmap(corelations)"
   ]
  },
  {
   "cell_type": "code",
   "execution_count": 169,
   "metadata": {},
   "outputs": [
    {
     "data": {
      "text/html": [
       "<div>\n",
       "<style scoped>\n",
       "    .dataframe tbody tr th:only-of-type {\n",
       "        vertical-align: middle;\n",
       "    }\n",
       "\n",
       "    .dataframe tbody tr th {\n",
       "        vertical-align: top;\n",
       "    }\n",
       "\n",
       "    .dataframe thead th {\n",
       "        text-align: right;\n",
       "    }\n",
       "</style>\n",
       "<table border=\"1\" class=\"dataframe\">\n",
       "  <thead>\n",
       "    <tr style=\"text-align: right;\">\n",
       "      <th></th>\n",
       "      <th>Manufacturer</th>\n",
       "      <th>Model</th>\n",
       "      <th>Sales_in_thousands</th>\n",
       "      <th>__year_resale_value</th>\n",
       "      <th>Price_in_thousands</th>\n",
       "      <th>Engine_size</th>\n",
       "      <th>Horsepower</th>\n",
       "      <th>Wheelbase</th>\n",
       "      <th>Width</th>\n",
       "      <th>Length</th>\n",
       "      <th>Curb_weight</th>\n",
       "      <th>Fuel_capacity</th>\n",
       "      <th>Fuel_efficiency</th>\n",
       "      <th>Latest_Launch</th>\n",
       "      <th>Power_perf_factor</th>\n",
       "      <th>Passenger</th>\n",
       "      <th>Car</th>\n",
       "    </tr>\n",
       "  </thead>\n",
       "  <tbody>\n",
       "    <tr>\n",
       "      <th>Manufacturer</th>\n",
       "      <td>1.000000</td>\n",
       "      <td>0.078708</td>\n",
       "      <td>-0.155837</td>\n",
       "      <td>0.000934</td>\n",
       "      <td>-0.052681</td>\n",
       "      <td>-0.272530</td>\n",
       "      <td>-0.214353</td>\n",
       "      <td>-0.288292</td>\n",
       "      <td>-0.300424</td>\n",
       "      <td>-0.313672</td>\n",
       "      <td>-0.178225</td>\n",
       "      <td>-0.155206</td>\n",
       "      <td>0.104276</td>\n",
       "      <td>-0.110933</td>\n",
       "      <td>-0.180026</td>\n",
       "      <td>0.020050</td>\n",
       "      <td>-0.020050</td>\n",
       "    </tr>\n",
       "    <tr>\n",
       "      <th>Model</th>\n",
       "      <td>0.078708</td>\n",
       "      <td>1.000000</td>\n",
       "      <td>-0.015833</td>\n",
       "      <td>-0.102023</td>\n",
       "      <td>-0.056462</td>\n",
       "      <td>0.065054</td>\n",
       "      <td>-0.030975</td>\n",
       "      <td>0.089875</td>\n",
       "      <td>0.109569</td>\n",
       "      <td>0.027559</td>\n",
       "      <td>0.081115</td>\n",
       "      <td>0.091433</td>\n",
       "      <td>-0.087718</td>\n",
       "      <td>-0.058248</td>\n",
       "      <td>-0.032370</td>\n",
       "      <td>0.235416</td>\n",
       "      <td>-0.235416</td>\n",
       "    </tr>\n",
       "    <tr>\n",
       "      <th>Sales_in_thousands</th>\n",
       "      <td>-0.155837</td>\n",
       "      <td>-0.015833</td>\n",
       "      <td>1.000000</td>\n",
       "      <td>-0.266436</td>\n",
       "      <td>-0.304413</td>\n",
       "      <td>0.019983</td>\n",
       "      <td>-0.197756</td>\n",
       "      <td>0.358179</td>\n",
       "      <td>0.140918</td>\n",
       "      <td>0.254979</td>\n",
       "      <td>0.008620</td>\n",
       "      <td>0.086540</td>\n",
       "      <td>-0.016747</td>\n",
       "      <td>0.104658</td>\n",
       "      <td>-0.223017</td>\n",
       "      <td>0.242183</td>\n",
       "      <td>-0.242183</td>\n",
       "    </tr>\n",
       "    <tr>\n",
       "      <th>__year_resale_value</th>\n",
       "      <td>0.000934</td>\n",
       "      <td>-0.102023</td>\n",
       "      <td>-0.266436</td>\n",
       "      <td>1.000000</td>\n",
       "      <td>0.822395</td>\n",
       "      <td>0.468781</td>\n",
       "      <td>0.696888</td>\n",
       "      <td>-0.047803</td>\n",
       "      <td>0.159580</td>\n",
       "      <td>0.023867</td>\n",
       "      <td>0.297130</td>\n",
       "      <td>0.275026</td>\n",
       "      <td>-0.358137</td>\n",
       "      <td>-0.064487</td>\n",
       "      <td>0.743783</td>\n",
       "      <td>-0.077119</td>\n",
       "      <td>0.077119</td>\n",
       "    </tr>\n",
       "    <tr>\n",
       "      <th>Price_in_thousands</th>\n",
       "      <td>-0.052681</td>\n",
       "      <td>-0.056462</td>\n",
       "      <td>-0.304413</td>\n",
       "      <td>0.822395</td>\n",
       "      <td>1.000000</td>\n",
       "      <td>0.626839</td>\n",
       "      <td>0.838450</td>\n",
       "      <td>0.110511</td>\n",
       "      <td>0.329109</td>\n",
       "      <td>0.156874</td>\n",
       "      <td>0.523753</td>\n",
       "      <td>0.423230</td>\n",
       "      <td>-0.491489</td>\n",
       "      <td>-0.023226</td>\n",
       "      <td>0.897945</td>\n",
       "      <td>-0.043695</td>\n",
       "      <td>0.043695</td>\n",
       "    </tr>\n",
       "    <tr>\n",
       "      <th>Engine_size</th>\n",
       "      <td>-0.272530</td>\n",
       "      <td>0.065054</td>\n",
       "      <td>0.019983</td>\n",
       "      <td>0.468781</td>\n",
       "      <td>0.626839</td>\n",
       "      <td>1.000000</td>\n",
       "      <td>0.837360</td>\n",
       "      <td>0.472130</td>\n",
       "      <td>0.690398</td>\n",
       "      <td>0.541424</td>\n",
       "      <td>0.754668</td>\n",
       "      <td>0.663022</td>\n",
       "      <td>-0.733920</td>\n",
       "      <td>0.068493</td>\n",
       "      <td>0.818481</td>\n",
       "      <td>0.256543</td>\n",
       "      <td>-0.256543</td>\n",
       "    </tr>\n",
       "    <tr>\n",
       "      <th>Horsepower</th>\n",
       "      <td>-0.214353</td>\n",
       "      <td>-0.030975</td>\n",
       "      <td>-0.197756</td>\n",
       "      <td>0.696888</td>\n",
       "      <td>0.838450</td>\n",
       "      <td>0.837360</td>\n",
       "      <td>1.000000</td>\n",
       "      <td>0.286308</td>\n",
       "      <td>0.539158</td>\n",
       "      <td>0.393364</td>\n",
       "      <td>0.605226</td>\n",
       "      <td>0.499907</td>\n",
       "      <td>-0.610648</td>\n",
       "      <td>0.060795</td>\n",
       "      <td>0.991464</td>\n",
       "      <td>0.004646</td>\n",
       "      <td>-0.004646</td>\n",
       "    </tr>\n",
       "    <tr>\n",
       "      <th>Wheelbase</th>\n",
       "      <td>-0.288292</td>\n",
       "      <td>0.089875</td>\n",
       "      <td>0.358179</td>\n",
       "      <td>-0.047803</td>\n",
       "      <td>0.110511</td>\n",
       "      <td>0.472130</td>\n",
       "      <td>0.286308</td>\n",
       "      <td>1.000000</td>\n",
       "      <td>0.683135</td>\n",
       "      <td>0.839639</td>\n",
       "      <td>0.650211</td>\n",
       "      <td>0.654044</td>\n",
       "      <td>-0.497023</td>\n",
       "      <td>0.083672</td>\n",
       "      <td>0.258847</td>\n",
       "      <td>0.384474</td>\n",
       "      <td>-0.384474</td>\n",
       "    </tr>\n",
       "    <tr>\n",
       "      <th>Width</th>\n",
       "      <td>-0.300424</td>\n",
       "      <td>0.109569</td>\n",
       "      <td>0.140918</td>\n",
       "      <td>0.159580</td>\n",
       "      <td>0.329109</td>\n",
       "      <td>0.690398</td>\n",
       "      <td>0.539158</td>\n",
       "      <td>0.683135</td>\n",
       "      <td>1.000000</td>\n",
       "      <td>0.710435</td>\n",
       "      <td>0.718010</td>\n",
       "      <td>0.656302</td>\n",
       "      <td>-0.599465</td>\n",
       "      <td>0.116186</td>\n",
       "      <td>0.511982</td>\n",
       "      <td>0.243941</td>\n",
       "      <td>-0.243941</td>\n",
       "    </tr>\n",
       "    <tr>\n",
       "      <th>Length</th>\n",
       "      <td>-0.313672</td>\n",
       "      <td>0.027559</td>\n",
       "      <td>0.254979</td>\n",
       "      <td>0.023867</td>\n",
       "      <td>0.156874</td>\n",
       "      <td>0.541424</td>\n",
       "      <td>0.393364</td>\n",
       "      <td>0.839639</td>\n",
       "      <td>0.710435</td>\n",
       "      <td>1.000000</td>\n",
       "      <td>0.625055</td>\n",
       "      <td>0.563540</td>\n",
       "      <td>-0.443993</td>\n",
       "      <td>0.104166</td>\n",
       "      <td>0.353956</td>\n",
       "      <td>0.134027</td>\n",
       "      <td>-0.134027</td>\n",
       "    </tr>\n",
       "    <tr>\n",
       "      <th>Curb_weight</th>\n",
       "      <td>-0.178225</td>\n",
       "      <td>0.081115</td>\n",
       "      <td>0.008620</td>\n",
       "      <td>0.297130</td>\n",
       "      <td>0.523753</td>\n",
       "      <td>0.754668</td>\n",
       "      <td>0.605226</td>\n",
       "      <td>0.650211</td>\n",
       "      <td>0.718010</td>\n",
       "      <td>0.625055</td>\n",
       "      <td>1.000000</td>\n",
       "      <td>0.863912</td>\n",
       "      <td>-0.817784</td>\n",
       "      <td>0.032778</td>\n",
       "      <td>0.607312</td>\n",
       "      <td>0.517434</td>\n",
       "      <td>-0.517434</td>\n",
       "    </tr>\n",
       "    <tr>\n",
       "      <th>Fuel_capacity</th>\n",
       "      <td>-0.155206</td>\n",
       "      <td>0.091433</td>\n",
       "      <td>0.086540</td>\n",
       "      <td>0.275026</td>\n",
       "      <td>0.423230</td>\n",
       "      <td>0.663022</td>\n",
       "      <td>0.499907</td>\n",
       "      <td>0.654044</td>\n",
       "      <td>0.656302</td>\n",
       "      <td>0.563540</td>\n",
       "      <td>0.863912</td>\n",
       "      <td>1.000000</td>\n",
       "      <td>-0.801355</td>\n",
       "      <td>0.096898</td>\n",
       "      <td>0.501123</td>\n",
       "      <td>0.592026</td>\n",
       "      <td>-0.592026</td>\n",
       "    </tr>\n",
       "    <tr>\n",
       "      <th>Fuel_efficiency</th>\n",
       "      <td>0.104276</td>\n",
       "      <td>-0.087718</td>\n",
       "      <td>-0.016747</td>\n",
       "      <td>-0.358137</td>\n",
       "      <td>-0.491489</td>\n",
       "      <td>-0.733920</td>\n",
       "      <td>-0.610648</td>\n",
       "      <td>-0.497023</td>\n",
       "      <td>-0.599465</td>\n",
       "      <td>-0.443993</td>\n",
       "      <td>-0.817784</td>\n",
       "      <td>-0.801355</td>\n",
       "      <td>1.000000</td>\n",
       "      <td>-0.050286</td>\n",
       "      <td>-0.606664</td>\n",
       "      <td>-0.568540</td>\n",
       "      <td>0.568540</td>\n",
       "    </tr>\n",
       "    <tr>\n",
       "      <th>Latest_Launch</th>\n",
       "      <td>-0.110933</td>\n",
       "      <td>-0.058248</td>\n",
       "      <td>0.104658</td>\n",
       "      <td>-0.064487</td>\n",
       "      <td>-0.023226</td>\n",
       "      <td>0.068493</td>\n",
       "      <td>0.060795</td>\n",
       "      <td>0.083672</td>\n",
       "      <td>0.116186</td>\n",
       "      <td>0.104166</td>\n",
       "      <td>0.032778</td>\n",
       "      <td>0.096898</td>\n",
       "      <td>-0.050286</td>\n",
       "      <td>1.000000</td>\n",
       "      <td>0.043834</td>\n",
       "      <td>-0.025173</td>\n",
       "      <td>0.025173</td>\n",
       "    </tr>\n",
       "    <tr>\n",
       "      <th>Power_perf_factor</th>\n",
       "      <td>-0.180026</td>\n",
       "      <td>-0.032370</td>\n",
       "      <td>-0.223017</td>\n",
       "      <td>0.743783</td>\n",
       "      <td>0.897945</td>\n",
       "      <td>0.818481</td>\n",
       "      <td>0.991464</td>\n",
       "      <td>0.258847</td>\n",
       "      <td>0.511982</td>\n",
       "      <td>0.353956</td>\n",
       "      <td>0.607312</td>\n",
       "      <td>0.501123</td>\n",
       "      <td>-0.606664</td>\n",
       "      <td>0.043834</td>\n",
       "      <td>1.000000</td>\n",
       "      <td>-0.001036</td>\n",
       "      <td>0.001036</td>\n",
       "    </tr>\n",
       "    <tr>\n",
       "      <th>Passenger</th>\n",
       "      <td>0.020050</td>\n",
       "      <td>0.235416</td>\n",
       "      <td>0.242183</td>\n",
       "      <td>-0.077119</td>\n",
       "      <td>-0.043695</td>\n",
       "      <td>0.256543</td>\n",
       "      <td>0.004646</td>\n",
       "      <td>0.384474</td>\n",
       "      <td>0.243941</td>\n",
       "      <td>0.134027</td>\n",
       "      <td>0.517434</td>\n",
       "      <td>0.592026</td>\n",
       "      <td>-0.568540</td>\n",
       "      <td>-0.025173</td>\n",
       "      <td>-0.001036</td>\n",
       "      <td>1.000000</td>\n",
       "      <td>-1.000000</td>\n",
       "    </tr>\n",
       "    <tr>\n",
       "      <th>Car</th>\n",
       "      <td>-0.020050</td>\n",
       "      <td>-0.235416</td>\n",
       "      <td>-0.242183</td>\n",
       "      <td>0.077119</td>\n",
       "      <td>0.043695</td>\n",
       "      <td>-0.256543</td>\n",
       "      <td>-0.004646</td>\n",
       "      <td>-0.384474</td>\n",
       "      <td>-0.243941</td>\n",
       "      <td>-0.134027</td>\n",
       "      <td>-0.517434</td>\n",
       "      <td>-0.592026</td>\n",
       "      <td>0.568540</td>\n",
       "      <td>0.025173</td>\n",
       "      <td>0.001036</td>\n",
       "      <td>-1.000000</td>\n",
       "      <td>1.000000</td>\n",
       "    </tr>\n",
       "  </tbody>\n",
       "</table>\n",
       "</div>"
      ],
      "text/plain": [
       "                     Manufacturer     Model  Sales_in_thousands  \\\n",
       "Manufacturer             1.000000  0.078708           -0.155837   \n",
       "Model                    0.078708  1.000000           -0.015833   \n",
       "Sales_in_thousands      -0.155837 -0.015833            1.000000   \n",
       "__year_resale_value      0.000934 -0.102023           -0.266436   \n",
       "Price_in_thousands      -0.052681 -0.056462           -0.304413   \n",
       "Engine_size             -0.272530  0.065054            0.019983   \n",
       "Horsepower              -0.214353 -0.030975           -0.197756   \n",
       "Wheelbase               -0.288292  0.089875            0.358179   \n",
       "Width                   -0.300424  0.109569            0.140918   \n",
       "Length                  -0.313672  0.027559            0.254979   \n",
       "Curb_weight             -0.178225  0.081115            0.008620   \n",
       "Fuel_capacity           -0.155206  0.091433            0.086540   \n",
       "Fuel_efficiency          0.104276 -0.087718           -0.016747   \n",
       "Latest_Launch           -0.110933 -0.058248            0.104658   \n",
       "Power_perf_factor       -0.180026 -0.032370           -0.223017   \n",
       "Passenger                0.020050  0.235416            0.242183   \n",
       "Car                     -0.020050 -0.235416           -0.242183   \n",
       "\n",
       "                     __year_resale_value  Price_in_thousands  Engine_size  \\\n",
       "Manufacturer                    0.000934           -0.052681    -0.272530   \n",
       "Model                          -0.102023           -0.056462     0.065054   \n",
       "Sales_in_thousands             -0.266436           -0.304413     0.019983   \n",
       "__year_resale_value             1.000000            0.822395     0.468781   \n",
       "Price_in_thousands              0.822395            1.000000     0.626839   \n",
       "Engine_size                     0.468781            0.626839     1.000000   \n",
       "Horsepower                      0.696888            0.838450     0.837360   \n",
       "Wheelbase                      -0.047803            0.110511     0.472130   \n",
       "Width                           0.159580            0.329109     0.690398   \n",
       "Length                          0.023867            0.156874     0.541424   \n",
       "Curb_weight                     0.297130            0.523753     0.754668   \n",
       "Fuel_capacity                   0.275026            0.423230     0.663022   \n",
       "Fuel_efficiency                -0.358137           -0.491489    -0.733920   \n",
       "Latest_Launch                  -0.064487           -0.023226     0.068493   \n",
       "Power_perf_factor               0.743783            0.897945     0.818481   \n",
       "Passenger                      -0.077119           -0.043695     0.256543   \n",
       "Car                             0.077119            0.043695    -0.256543   \n",
       "\n",
       "                     Horsepower  Wheelbase     Width    Length  Curb_weight  \\\n",
       "Manufacturer          -0.214353  -0.288292 -0.300424 -0.313672    -0.178225   \n",
       "Model                 -0.030975   0.089875  0.109569  0.027559     0.081115   \n",
       "Sales_in_thousands    -0.197756   0.358179  0.140918  0.254979     0.008620   \n",
       "__year_resale_value    0.696888  -0.047803  0.159580  0.023867     0.297130   \n",
       "Price_in_thousands     0.838450   0.110511  0.329109  0.156874     0.523753   \n",
       "Engine_size            0.837360   0.472130  0.690398  0.541424     0.754668   \n",
       "Horsepower             1.000000   0.286308  0.539158  0.393364     0.605226   \n",
       "Wheelbase              0.286308   1.000000  0.683135  0.839639     0.650211   \n",
       "Width                  0.539158   0.683135  1.000000  0.710435     0.718010   \n",
       "Length                 0.393364   0.839639  0.710435  1.000000     0.625055   \n",
       "Curb_weight            0.605226   0.650211  0.718010  0.625055     1.000000   \n",
       "Fuel_capacity          0.499907   0.654044  0.656302  0.563540     0.863912   \n",
       "Fuel_efficiency       -0.610648  -0.497023 -0.599465 -0.443993    -0.817784   \n",
       "Latest_Launch          0.060795   0.083672  0.116186  0.104166     0.032778   \n",
       "Power_perf_factor      0.991464   0.258847  0.511982  0.353956     0.607312   \n",
       "Passenger              0.004646   0.384474  0.243941  0.134027     0.517434   \n",
       "Car                   -0.004646  -0.384474 -0.243941 -0.134027    -0.517434   \n",
       "\n",
       "                     Fuel_capacity  Fuel_efficiency  Latest_Launch  \\\n",
       "Manufacturer             -0.155206         0.104276      -0.110933   \n",
       "Model                     0.091433        -0.087718      -0.058248   \n",
       "Sales_in_thousands        0.086540        -0.016747       0.104658   \n",
       "__year_resale_value       0.275026        -0.358137      -0.064487   \n",
       "Price_in_thousands        0.423230        -0.491489      -0.023226   \n",
       "Engine_size               0.663022        -0.733920       0.068493   \n",
       "Horsepower                0.499907        -0.610648       0.060795   \n",
       "Wheelbase                 0.654044        -0.497023       0.083672   \n",
       "Width                     0.656302        -0.599465       0.116186   \n",
       "Length                    0.563540        -0.443993       0.104166   \n",
       "Curb_weight               0.863912        -0.817784       0.032778   \n",
       "Fuel_capacity             1.000000        -0.801355       0.096898   \n",
       "Fuel_efficiency          -0.801355         1.000000      -0.050286   \n",
       "Latest_Launch             0.096898        -0.050286       1.000000   \n",
       "Power_perf_factor         0.501123        -0.606664       0.043834   \n",
       "Passenger                 0.592026        -0.568540      -0.025173   \n",
       "Car                      -0.592026         0.568540       0.025173   \n",
       "\n",
       "                     Power_perf_factor  Passenger       Car  \n",
       "Manufacturer                 -0.180026   0.020050 -0.020050  \n",
       "Model                        -0.032370   0.235416 -0.235416  \n",
       "Sales_in_thousands           -0.223017   0.242183 -0.242183  \n",
       "__year_resale_value           0.743783  -0.077119  0.077119  \n",
       "Price_in_thousands            0.897945  -0.043695  0.043695  \n",
       "Engine_size                   0.818481   0.256543 -0.256543  \n",
       "Horsepower                    0.991464   0.004646 -0.004646  \n",
       "Wheelbase                     0.258847   0.384474 -0.384474  \n",
       "Width                         0.511982   0.243941 -0.243941  \n",
       "Length                        0.353956   0.134027 -0.134027  \n",
       "Curb_weight                   0.607312   0.517434 -0.517434  \n",
       "Fuel_capacity                 0.501123   0.592026 -0.592026  \n",
       "Fuel_efficiency              -0.606664  -0.568540  0.568540  \n",
       "Latest_Launch                 0.043834  -0.025173  0.025173  \n",
       "Power_perf_factor             1.000000  -0.001036  0.001036  \n",
       "Passenger                    -0.001036   1.000000 -1.000000  \n",
       "Car                           0.001036  -1.000000  1.000000  "
      ]
     },
     "execution_count": 169,
     "metadata": {},
     "output_type": "execute_result"
    }
   ],
   "source": [
    "data.corr()"
   ]
  },
  {
   "cell_type": "markdown",
   "metadata": {},
   "source": [
    "#### 4) Outlier Removal\n",
    "* for Better Model Performance"
   ]
  },
  {
   "cell_type": "code",
   "execution_count": 185,
   "metadata": {},
   "outputs": [],
   "source": [
    "data = data[(np.abs(stats.zscore(data.loc[:,~data.columns.isin(['Vehicle_type'])]))<3).all(axis=1)]"
   ]
  },
  {
   "cell_type": "markdown",
   "metadata": {},
   "source": [
    "#### 5) Train Test Split\n",
    "By guaranteeing that variables are on a same scale and that the data has a normal distribution, the StandardScaler() preprocessing technique helps to scale and normalize data, which enhances the performance and accuracy of machine learning models."
   ]
  },
  {
   "cell_type": "code",
   "execution_count": 186,
   "metadata": {},
   "outputs": [],
   "source": [
    "x = data.loc[:,~data.columns.isin(['Vehicle_type','Sales_in_thousands'])]\n",
    "y = data[['Sales_in_thousands']]\n",
    "xtrain,xtest,ytrain,ytest=train_test_split(x,y,test_size=0.3,random_state =125)"
   ]
  },
  {
   "cell_type": "code",
   "execution_count": 187,
   "metadata": {},
   "outputs": [],
   "source": [
    "std_sclr = StandardScaler()\n",
    "x_train = std_sclr.fit_transform(xtrain)\n",
    "x_test = std_sclr.fit_transform(xtest)"
   ]
  },
  {
   "cell_type": "markdown",
   "metadata": {},
   "source": [
    "### Data Modeling\n",
    "#### 1) AdaBoost Regressor "
   ]
  },
  {
   "cell_type": "code",
   "execution_count": 188,
   "metadata": {},
   "outputs": [
    {
     "name": "stdout",
     "output_type": "stream",
     "text": [
      "\n",
      " Mean Absolute Error 35.60156247593824\n",
      "\n",
      " Root Mean Absolute Error 5.966704490414976\n"
     ]
    }
   ],
   "source": [
    "model1= AdaBoostRegressor()\n",
    "model1.fit(x_train,ytrain)\n",
    "ypred1=model1.predict(x_test)\n",
    "print('\\n Mean Absolute Error',mean_absolute_error(ytest,ypred1))\n",
    "print('\\n Root Mean Absolute Error',np.sqrt(mean_absolute_error(ytest,ypred1)))"
   ]
  },
  {
   "cell_type": "code",
   "execution_count": 189,
   "metadata": {},
   "outputs": [
    {
     "data": {
      "image/png": "[encoded data removed]",
      "text/plain": [
       "<Figure size 432x288 with 1 Axes>"
      ]
     },
     "metadata": {
      "needs_background": "light"
     },
     "output_type": "display_data"
    }
   ],
   "source": [
    "# Plotting Actual values vs prediction\n",
    "plot = sns.regplot(ytest,ypred1,scatter_kws={\"color\": \"red\"}, line_kws={\"color\": \"blue\"},\n",
    "            fit_reg = True)\n",
    "plot.set(xlabel='Actual', ylabel='Predicted')\n",
    "plt.show()"
   ]
  },
  {
   "cell_type": "code",
   "execution_count": 190,
   "metadata": {},
   "outputs": [
    {
     "data": {
      "image/png": "[encoded data removed]",
      "text/plain": [
       "<Figure size 432x288 with 1 Axes>"
      ]
     },
     "metadata": {
      "needs_background": "light"
     },
     "output_type": "display_data"
    }
   ],
   "source": [
    "imp_features = pd.Series(model1.feature_importances_, index = x.columns)\n",
    "imp_features = imp_features.sort_values(ascending = True)\n",
    "imp_features.plot(kind = 'barh', color = 'red')\n",
    "plt.ylabel(\"Feature\")\n",
    "plt.xlabel(\"Score\")\n",
    "plt.show()"
   ]
  },
  {
   "cell_type": "markdown",
   "metadata": {},
   "source": [
    "#### 2) Decision Tree Regressor"
   ]
  },
  {
   "cell_type": "code",
   "execution_count": 191,
   "metadata": {},
   "outputs": [
    {
     "name": "stdout",
     "output_type": "stream",
     "text": [
      "\n",
      " Mean Absolute Error 46.58192857142857\n",
      "\n",
      " Root Mean Absolute Error 6.82509549907022\n"
     ]
    }
   ],
   "source": [
    "model2= DecisionTreeRegressor()\n",
    "model2.fit(x_train,ytrain)\n",
    "ypred2=model2.predict(x_test)\n",
    "print('\\n Mean Absolute Error',mean_absolute_error(ytest,ypred2))\n",
    "print('\\n Root Mean Absolute Error',np.sqrt(mean_absolute_error(ytest,ypred2)))"
   ]
  },
  {
   "cell_type": "code",
   "execution_count": 192,
   "metadata": {},
   "outputs": [
    {
     "data": {
      "image/png": "[encoded data removed]",
      "text/plain": [
       "<Figure size 432x288 with 1 Axes>"
      ]
     },
     "metadata": {
      "needs_background": "light"
     },
     "output_type": "display_data"
    }
   ],
   "source": [
    "plot = sns.regplot(ytest,ypred2,scatter_kws={\"color\": \"orange\"}, line_kws={\"color\": \"blue\"},\n",
    "                   fit_reg = True)\n",
    "plot.set(xlabel='Actual', ylabel='Predicted')\n",
    "plt.show()"
   ]
  },
  {
   "cell_type": "code",
   "execution_count": 193,
   "metadata": {},
   "outputs": [
    {
     "data": {
      "image/png": "[encoded data removed]",
      "text/plain": [
       "<Figure size 432x288 with 1 Axes>"
      ]
     },
     "metadata": {
      "needs_background": "light"
     },
     "output_type": "display_data"
    }
   ],
   "source": [
    "imp_features = pd.Series(model2.feature_importances_, index = x.columns)\n",
    "imp_features = imp_features.sort_values(ascending = True)\n",
    "imp_features.plot(kind = 'barh', color = 'orange')\n",
    "plt.ylabel(\"Feature\")\n",
    "plt.xlabel(\"Score\")\n",
    "plt.show()"
   ]
  },
  {
   "cell_type": "markdown",
   "metadata": {},
   "source": [
    "#### 3) Gradient Boosting Regressor"
   ]
  },
  {
   "cell_type": "code",
   "execution_count": 194,
   "metadata": {},
   "outputs": [
    {
     "name": "stdout",
     "output_type": "stream",
     "text": [
      "\n",
      " Mean Absolute Error 36.74192286572342\n",
      "\n",
      " Root Mean Absolute Error 6.061511599075219\n"
     ]
    }
   ],
   "source": [
    "model3= GradientBoostingRegressor()\n",
    "model3.fit(x_train,ytrain)\n",
    "ypred3=model3.predict(x_test)\n",
    "print('\\n Mean Absolute Error',mean_absolute_error(ytest,ypred3))\n",
    "print('\\n Root Mean Absolute Error',np.sqrt(mean_absolute_error(ytest,ypred3)))"
   ]
  },
  {
   "cell_type": "code",
   "execution_count": 195,
   "metadata": {},
   "outputs": [
    {
     "data": {
      "image/png": "[encoded data removed]",
      "text/plain": [
       "<Figure size 432x288 with 1 Axes>"
      ]
     },
     "metadata": {
      "needs_background": "light"
     },
     "output_type": "display_data"
    }
   ],
   "source": [
    "plot = sns.regplot(ytest,ypred3,scatter_kws={\"color\": \"orange\"}, line_kws={\"color\": \"green\"},\n",
    "                   fit_reg = True)\n",
    "plot.set(xlabel='Actual', ylabel='Predicted')\n",
    "plt.show()"
   ]
  },
  {
   "cell_type": "code",
   "execution_count": 196,
   "metadata": {},
   "outputs": [
    {
     "data": {
      "image/png": "[encoded data removed]",
      "text/plain": [
       "<Figure size 432x288 with 1 Axes>"
      ]
     },
     "metadata": {
      "needs_background": "light"
     },
     "output_type": "display_data"
    }
   ],
   "source": [
    "imp_features = pd.Series(model3.feature_importances_, index = x.columns)\n",
    "imp_features = imp_features.sort_values(ascending = True)\n",
    "imp_features.plot(kind = 'barh', color = 'green')\n",
    "plt.ylabel(\"Feature\")\n",
    "plt.xlabel(\"Score\")\n",
    "plt.show()"
   ]
  },
  {
   "cell_type": "markdown",
   "metadata": {},
   "source": [
    "### Conclusion\n",
    "In the above models I have used various machine learning techniques to determine what are the features that affect the sales of a car and here are the following conclusions made:- \n",
    "\n",
    "* We have used ADA boosters decision tree and gradient booster algorithms, out of which, ADA booster algorithm gives the highest accuracy in the form of root mean absolute error of 5.96  \n",
    "\n",
    "* With respect target variable sales, features like length, wheelbase, price, the resale value with respect to year, its model, fuel capacity, curb weight, manufacturer are few features that highly influent . \n",
    "\n",
    "* Thus we conclude with the belief that improvement and adjustments in these highly influential features can increase or develop the price of a car."
   ]
  }
 ],
 "metadata": {
  "kernelspec": {
   "display_name": "Python 3",
   "language": "python",
   "name": "python3"
  },
  "language_info": {
   "codemirror_mode": {
    "name": "ipython",
    "version": 3
   },
   "file_extension": ".py",
   "mimetype": "text/x-python",
   "name": "python",
   "nbconvert_exporter": "python",
   "pygments_lexer": "ipython3",
   "version": "3.8.5"
  }
 },
 "nbformat": 4,
 "nbformat_minor": 4
}
