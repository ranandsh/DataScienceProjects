{
 "cells": [
  {
   "cell_type": "markdown",
   "metadata": {},
   "source": [
    "## They are late\n",
    "This is a financial analytics project with deals with  a data set containing customer ID it and payment amount and other important features defining a clear picture on every individuals transaction with respect to my the payment"
   ]
  },
  {
   "cell_type": "code",
   "execution_count": 11,
   "metadata": {},
   "outputs": [],
   "source": [
    "import pandas as pd\n",
    "import numpy as np\n",
    "import sklearn\n",
    "from sklearn.model_selection import train_test_split\n",
    "from sklearn.metrics import confusion_matrix,accuracy_score \n",
    "from sklearn.preprocessing import StandardScaler\n",
    "from sklearn.tree import DecisionTreeClassifier\n",
    "import warnings\n",
    "warnings.filterwarnings('ignore')"
   ]
  },
  {
   "cell_type": "markdown",
   "metadata": {},
   "source": [
    "### Data Set\n",
    "The data set that we haveis resourced from kegel with the title finance factoring of IBM late payment histories"
   ]
  },
  {
   "cell_type": "code",
   "execution_count": 2,
   "metadata": {},
   "outputs": [
    {
     "data": {
      "text/html": [
       "<div>\n",
       "<style scoped>\n",
       "    .dataframe tbody tr th:only-of-type {\n",
       "        vertical-align: middle;\n",
       "    }\n",
       "\n",
       "    .dataframe tbody tr th {\n",
       "        vertical-align: top;\n",
       "    }\n",
       "\n",
       "    .dataframe thead th {\n",
       "        text-align: right;\n",
       "    }\n",
       "</style>\n",
       "<table border=\"1\" class=\"dataframe\">\n",
       "  <thead>\n",
       "    <tr style=\"text-align: right;\">\n",
       "      <th></th>\n",
       "      <th>countryCode</th>\n",
       "      <th>customerID</th>\n",
       "      <th>PaperlessDate</th>\n",
       "      <th>invoiceNumber</th>\n",
       "      <th>InvoiceDate</th>\n",
       "      <th>DueDate</th>\n",
       "      <th>InvoiceAmount</th>\n",
       "      <th>Disputed</th>\n",
       "      <th>SettledDate</th>\n",
       "      <th>PaperlessBill</th>\n",
       "      <th>DaysToSettle</th>\n",
       "      <th>DaysLate</th>\n",
       "    </tr>\n",
       "  </thead>\n",
       "  <tbody>\n",
       "    <tr>\n",
       "      <th>0</th>\n",
       "      <td>391</td>\n",
       "      <td>0379-NEVHP</td>\n",
       "      <td>4/6/2013</td>\n",
       "      <td>611365</td>\n",
       "      <td>1/2/2013</td>\n",
       "      <td>2/1/2013</td>\n",
       "      <td>55.94</td>\n",
       "      <td>No</td>\n",
       "      <td>1/15/2013</td>\n",
       "      <td>Paper</td>\n",
       "      <td>13</td>\n",
       "      <td>0</td>\n",
       "    </tr>\n",
       "    <tr>\n",
       "      <th>1</th>\n",
       "      <td>406</td>\n",
       "      <td>8976-AMJEO</td>\n",
       "      <td>3/3/2012</td>\n",
       "      <td>7900770</td>\n",
       "      <td>1/26/2013</td>\n",
       "      <td>2/25/2013</td>\n",
       "      <td>61.74</td>\n",
       "      <td>Yes</td>\n",
       "      <td>3/3/2013</td>\n",
       "      <td>Electronic</td>\n",
       "      <td>36</td>\n",
       "      <td>6</td>\n",
       "    </tr>\n",
       "    <tr>\n",
       "      <th>2</th>\n",
       "      <td>391</td>\n",
       "      <td>2820-XGXSB</td>\n",
       "      <td>1/26/2012</td>\n",
       "      <td>9231909</td>\n",
       "      <td>7/3/2013</td>\n",
       "      <td>8/2/2013</td>\n",
       "      <td>65.88</td>\n",
       "      <td>No</td>\n",
       "      <td>7/8/2013</td>\n",
       "      <td>Electronic</td>\n",
       "      <td>5</td>\n",
       "      <td>0</td>\n",
       "    </tr>\n",
       "    <tr>\n",
       "      <th>3</th>\n",
       "      <td>406</td>\n",
       "      <td>9322-YCTQO</td>\n",
       "      <td>4/6/2012</td>\n",
       "      <td>9888306</td>\n",
       "      <td>2/10/2013</td>\n",
       "      <td>3/12/2013</td>\n",
       "      <td>105.92</td>\n",
       "      <td>No</td>\n",
       "      <td>3/17/2013</td>\n",
       "      <td>Electronic</td>\n",
       "      <td>35</td>\n",
       "      <td>5</td>\n",
       "    </tr>\n",
       "    <tr>\n",
       "      <th>4</th>\n",
       "      <td>818</td>\n",
       "      <td>6627-ELFBK</td>\n",
       "      <td>11/26/2012</td>\n",
       "      <td>15752855</td>\n",
       "      <td>10/25/2012</td>\n",
       "      <td>11/24/2012</td>\n",
       "      <td>72.27</td>\n",
       "      <td>Yes</td>\n",
       "      <td>11/28/2012</td>\n",
       "      <td>Paper</td>\n",
       "      <td>34</td>\n",
       "      <td>4</td>\n",
       "    </tr>\n",
       "  </tbody>\n",
       "</table>\n",
       "</div>"
      ],
      "text/plain": [
       "   countryCode  customerID PaperlessDate  invoiceNumber InvoiceDate  \\\n",
       "0          391  0379-NEVHP      4/6/2013         611365    1/2/2013   \n",
       "1          406  8976-AMJEO      3/3/2012        7900770   1/26/2013   \n",
       "2          391  2820-XGXSB     1/26/2012        9231909    7/3/2013   \n",
       "3          406  9322-YCTQO      4/6/2012        9888306   2/10/2013   \n",
       "4          818  6627-ELFBK    11/26/2012       15752855  10/25/2012   \n",
       "\n",
       "      DueDate  InvoiceAmount Disputed SettledDate PaperlessBill  DaysToSettle  \\\n",
       "0    2/1/2013          55.94       No   1/15/2013         Paper            13   \n",
       "1   2/25/2013          61.74      Yes    3/3/2013    Electronic            36   \n",
       "2    8/2/2013          65.88       No    7/8/2013    Electronic             5   \n",
       "3   3/12/2013         105.92       No   3/17/2013    Electronic            35   \n",
       "4  11/24/2012          72.27      Yes  11/28/2012         Paper            34   \n",
       "\n",
       "   DaysLate  \n",
       "0         0  \n",
       "1         6  \n",
       "2         0  \n",
       "3         5  \n",
       "4         4  "
      ]
     },
     "execution_count": 2,
     "metadata": {},
     "output_type": "execute_result"
    }
   ],
   "source": [
    "ds = pd.read_csv('data.csv')\n",
    "ds.head(5)"
   ]
  },
  {
   "cell_type": "markdown",
   "metadata": {},
   "source": [
    "### Data Cleaning\n",
    "in this stage we are describing the given data set and we further any null values in every in every feature if found we will replace it with the average of that feature."
   ]
  },
  {
   "cell_type": "code",
   "execution_count": 3,
   "metadata": {},
   "outputs": [
    {
     "data": {
      "text/html": [
       "<div>\n",
       "<style scoped>\n",
       "    .dataframe tbody tr th:only-of-type {\n",
       "        vertical-align: middle;\n",
       "    }\n",
       "\n",
       "    .dataframe tbody tr th {\n",
       "        vertical-align: top;\n",
       "    }\n",
       "\n",
       "    .dataframe thead th {\n",
       "        text-align: right;\n",
       "    }\n",
       "</style>\n",
       "<table border=\"1\" class=\"dataframe\">\n",
       "  <thead>\n",
       "    <tr style=\"text-align: right;\">\n",
       "      <th></th>\n",
       "      <th>countryCode</th>\n",
       "      <th>invoiceNumber</th>\n",
       "      <th>InvoiceAmount</th>\n",
       "      <th>DaysToSettle</th>\n",
       "      <th>DaysLate</th>\n",
       "    </tr>\n",
       "  </thead>\n",
       "  <tbody>\n",
       "    <tr>\n",
       "      <th>count</th>\n",
       "      <td>2466.000000</td>\n",
       "      <td>2.466000e+03</td>\n",
       "      <td>2466.000000</td>\n",
       "      <td>2466.00000</td>\n",
       "      <td>2466.000000</td>\n",
       "    </tr>\n",
       "    <tr>\n",
       "      <th>mean</th>\n",
       "      <td>620.446067</td>\n",
       "      <td>4.978431e+09</td>\n",
       "      <td>59.895856</td>\n",
       "      <td>26.44485</td>\n",
       "      <td>3.442417</td>\n",
       "    </tr>\n",
       "    <tr>\n",
       "      <th>std</th>\n",
       "      <td>215.933610</td>\n",
       "      <td>2.884272e+09</td>\n",
       "      <td>20.435838</td>\n",
       "      <td>12.33493</td>\n",
       "      <td>6.290607</td>\n",
       "    </tr>\n",
       "    <tr>\n",
       "      <th>min</th>\n",
       "      <td>391.000000</td>\n",
       "      <td>6.113650e+05</td>\n",
       "      <td>5.260000</td>\n",
       "      <td>0.00000</td>\n",
       "      <td>0.000000</td>\n",
       "    </tr>\n",
       "    <tr>\n",
       "      <th>25%</th>\n",
       "      <td>406.000000</td>\n",
       "      <td>2.528854e+09</td>\n",
       "      <td>46.400000</td>\n",
       "      <td>18.00000</td>\n",
       "      <td>0.000000</td>\n",
       "    </tr>\n",
       "    <tr>\n",
       "      <th>50%</th>\n",
       "      <td>770.000000</td>\n",
       "      <td>4.964228e+09</td>\n",
       "      <td>60.560000</td>\n",
       "      <td>26.00000</td>\n",
       "      <td>0.000000</td>\n",
       "    </tr>\n",
       "    <tr>\n",
       "      <th>75%</th>\n",
       "      <td>818.000000</td>\n",
       "      <td>7.494512e+09</td>\n",
       "      <td>73.765000</td>\n",
       "      <td>35.00000</td>\n",
       "      <td>5.000000</td>\n",
       "    </tr>\n",
       "    <tr>\n",
       "      <th>max</th>\n",
       "      <td>897.000000</td>\n",
       "      <td>9.990244e+09</td>\n",
       "      <td>128.280000</td>\n",
       "      <td>75.00000</td>\n",
       "      <td>45.000000</td>\n",
       "    </tr>\n",
       "  </tbody>\n",
       "</table>\n",
       "</div>"
      ],
      "text/plain": [
       "       countryCode  invoiceNumber  InvoiceAmount  DaysToSettle     DaysLate\n",
       "count  2466.000000   2.466000e+03    2466.000000    2466.00000  2466.000000\n",
       "mean    620.446067   4.978431e+09      59.895856      26.44485     3.442417\n",
       "std     215.933610   2.884272e+09      20.435838      12.33493     6.290607\n",
       "min     391.000000   6.113650e+05       5.260000       0.00000     0.000000\n",
       "25%     406.000000   2.528854e+09      46.400000      18.00000     0.000000\n",
       "50%     770.000000   4.964228e+09      60.560000      26.00000     0.000000\n",
       "75%     818.000000   7.494512e+09      73.765000      35.00000     5.000000\n",
       "max     897.000000   9.990244e+09     128.280000      75.00000    45.000000"
      ]
     },
     "execution_count": 3,
     "metadata": {},
     "output_type": "execute_result"
    }
   ],
   "source": [
    "ds.describe()"
   ]
  },
  {
   "cell_type": "code",
   "execution_count": 4,
   "metadata": {},
   "outputs": [
    {
     "name": "stdout",
     "output_type": "stream",
     "text": [
      "<class 'pandas.core.frame.DataFrame'>\n",
      "RangeIndex: 2466 entries, 0 to 2465\n",
      "Data columns (total 12 columns):\n",
      " #   Column         Non-Null Count  Dtype  \n",
      "---  ------         --------------  -----  \n",
      " 0   countryCode    2466 non-null   int64  \n",
      " 1   customerID     2466 non-null   object \n",
      " 2   PaperlessDate  2466 non-null   object \n",
      " 3   invoiceNumber  2466 non-null   int64  \n",
      " 4   InvoiceDate    2466 non-null   object \n",
      " 5   DueDate        2466 non-null   object \n",
      " 6   InvoiceAmount  2466 non-null   float64\n",
      " 7   Disputed       2466 non-null   object \n",
      " 8   SettledDate    2466 non-null   object \n",
      " 9   PaperlessBill  2466 non-null   object \n",
      " 10  DaysToSettle   2466 non-null   int64  \n",
      " 11  DaysLate       2466 non-null   int64  \n",
      "dtypes: float64(1), int64(4), object(7)\n",
      "memory usage: 231.3+ KB\n"
     ]
    }
   ],
   "source": [
    "ds.info()"
   ]
  },
  {
   "cell_type": "markdown",
   "metadata": {},
   "source": [
    "### Data Preprocessing\n",
    "* As a part of data preprocessing we are going to find out the correlations between the features affecting the the late number of days of payment and furthermore we are going to input X&Y features to train the models in the further steps.\n",
    "* I have also split the data into train and test set and further normalized using scalar function for optimal model making"
   ]
  },
  {
   "cell_type": "code",
   "execution_count": 5,
   "metadata": {},
   "outputs": [
    {
     "data": {
      "image/png": "[encoded data removed]",
      "text/plain": [
       "<Figure size 432x288 with 2 Axes>"
      ]
     },
     "metadata": {
      "needs_background": "light"
     },
     "output_type": "display_data"
    }
   ],
   "source": [
    "corelation_map = sb.heatmap(ds.corr(), annot=False)"
   ]
  },
  {
   "cell_type": "code",
   "execution_count": 6,
   "metadata": {
    "scrolled": true
   },
   "outputs": [
    {
     "data": {
      "text/html": [
       "<div>\n",
       "<style scoped>\n",
       "    .dataframe tbody tr th:only-of-type {\n",
       "        vertical-align: middle;\n",
       "    }\n",
       "\n",
       "    .dataframe tbody tr th {\n",
       "        vertical-align: top;\n",
       "    }\n",
       "\n",
       "    .dataframe thead th {\n",
       "        text-align: right;\n",
       "    }\n",
       "</style>\n",
       "<table border=\"1\" class=\"dataframe\">\n",
       "  <thead>\n",
       "    <tr style=\"text-align: right;\">\n",
       "      <th></th>\n",
       "      <th>countryCode</th>\n",
       "      <th>invoiceNumber</th>\n",
       "      <th>InvoiceAmount</th>\n",
       "      <th>DaysToSettle</th>\n",
       "      <th>DaysLate</th>\n",
       "    </tr>\n",
       "  </thead>\n",
       "  <tbody>\n",
       "    <tr>\n",
       "      <th>countryCode</th>\n",
       "      <td>1.000000</td>\n",
       "      <td>0.015996</td>\n",
       "      <td>-0.384881</td>\n",
       "      <td>0.066341</td>\n",
       "      <td>0.090462</td>\n",
       "    </tr>\n",
       "    <tr>\n",
       "      <th>invoiceNumber</th>\n",
       "      <td>0.015996</td>\n",
       "      <td>1.000000</td>\n",
       "      <td>-0.032699</td>\n",
       "      <td>-0.005921</td>\n",
       "      <td>0.004402</td>\n",
       "    </tr>\n",
       "    <tr>\n",
       "      <th>InvoiceAmount</th>\n",
       "      <td>-0.384881</td>\n",
       "      <td>-0.032699</td>\n",
       "      <td>1.000000</td>\n",
       "      <td>0.060786</td>\n",
       "      <td>0.059980</td>\n",
       "    </tr>\n",
       "    <tr>\n",
       "      <th>DaysToSettle</th>\n",
       "      <td>0.066341</td>\n",
       "      <td>-0.005921</td>\n",
       "      <td>0.060786</td>\n",
       "      <td>1.000000</td>\n",
       "      <td>0.820552</td>\n",
       "    </tr>\n",
       "    <tr>\n",
       "      <th>DaysLate</th>\n",
       "      <td>0.090462</td>\n",
       "      <td>0.004402</td>\n",
       "      <td>0.059980</td>\n",
       "      <td>0.820552</td>\n",
       "      <td>1.000000</td>\n",
       "    </tr>\n",
       "  </tbody>\n",
       "</table>\n",
       "</div>"
      ],
      "text/plain": [
       "               countryCode  invoiceNumber  InvoiceAmount  DaysToSettle  \\\n",
       "countryCode       1.000000       0.015996      -0.384881      0.066341   \n",
       "invoiceNumber     0.015996       1.000000      -0.032699     -0.005921   \n",
       "InvoiceAmount    -0.384881      -0.032699       1.000000      0.060786   \n",
       "DaysToSettle      0.066341      -0.005921       0.060786      1.000000   \n",
       "DaysLate          0.090462       0.004402       0.059980      0.820552   \n",
       "\n",
       "               DaysLate  \n",
       "countryCode    0.090462  \n",
       "invoiceNumber  0.004402  \n",
       "InvoiceAmount  0.059980  \n",
       "DaysToSettle   0.820552  \n",
       "DaysLate       1.000000  "
      ]
     },
     "execution_count": 6,
     "metadata": {},
     "output_type": "execute_result"
    }
   ],
   "source": [
    "ds.corr()"
   ]
  },
  {
   "cell_type": "code",
   "execution_count": 7,
   "metadata": {},
   "outputs": [],
   "source": [
    "x = ds[['InvoiceAmount','DaysToSettle']]\n",
    "y = ds[['DaysLate']]"
   ]
  },
  {
   "cell_type": "code",
   "execution_count": 8,
   "metadata": {},
   "outputs": [],
   "source": [
    "x=x.astype('int')\n",
    "y=y.astype('int')\n",
    "xtrain,xtest,ytrain,ytest=train_test_split(x,y,test_size=1/3,random_state = 0)"
   ]
  },
  {
   "cell_type": "code",
   "execution_count": 9,
   "metadata": {},
   "outputs": [],
   "source": [
    "std_sclr = StandardScaler()\n",
    "x_train = std_sclr.fit_transform(xtrain)\n",
    "x_test = std_sclr.fit_transform(xtest)"
   ]
  },
  {
   "cell_type": "markdown",
   "metadata": {},
   "source": [
    "### Data Modeling\n",
    "for the analysis of man's related data I have use decision reclassifier due to high performance in classificationication"
   ]
  },
  {
   "cell_type": "code",
   "execution_count": 10,
   "metadata": {},
   "outputs": [
    {
     "name": "stdout",
     "output_type": "stream",
     "text": [
      "Predicted value= \n",
      " [ 0 17  0  5 16  0  0  0  0  0 11  0  0  0  0  0  5  0  0  0  0  0  7  5\n",
      " 11  0 22  9  6 14  5  0  0 22  0  9  0  0  0  2  0  0  0  8  0 11  0  0\n",
      "  0  8 22 26  6  0  6 14 18 26  0 11  0  0  8  2  0  0  0  0  0  0 16  4\n",
      "  1  0 17  0  0  2  0  0  4  0 12  2  2  4  0  0  0  9  0  0  0 20  0  0\n",
      "  0  0 14  5  7  0 24  0  0  7  0  0  0  0  0  0  8  4  0  0  0  2  0  0\n",
      "  0  0  0  0  0  8  0  0  0  0  0  4  0  0  2 14  0  0  0  0  0  0  0  0\n",
      "  0  1  0  0  0  0  0  0  0  7  0  6  2  0 10  0  0  0 22  0  0 13  0  5\n",
      "  0 11  0  0  0  7 11 18  0  0  0 14  0  0  0  0 30  2  0  0  0  0  9  0\n",
      "  0 15 20 14  8  2 14  5 13  0  0  0  0  0  0  0  1  5  7 10  0  0  0  0\n",
      " 15  0  0  5  0  0  0  1  0  2  0 12  0 20 14  0  4  0  9  5  0  0  1  4\n",
      "  5 15  0  0 14  0  0  0  0  0  0  0  9  0  0  3  6  8  0  5  7  0  8 13\n",
      "  5  0  0  0 15  0  0 18  0  1  0  0  0  0 17  0  0  3 14  0  0  2  0  0\n",
      "  0  0  0  0 21  0  0 14  4 11 22  4  0  0 17  0  0  0 22  0  1  3  0 15\n",
      "  0  0  0  1  0  2  0  2  0  0 10  0  0 12  0  0  2  0  4  0  0  0  0  8\n",
      "  0  0  0  0  0 12  0  8  0  0  0  0  0 12  0  0  0  7  0 13  3 14  0  1\n",
      "  0 17  0  1  0 10  0  6  0  0  0  0  9  2  0  0 14  1  0 16  4  7  0  0\n",
      "  0  0 21  0  0  0  5  0 22  0  2  0  0 16 18  0  0  0  3  0 11  5  0  0\n",
      "  0  7 28 12  0  4  7  0  0  0  0  0  7  0 13  0  4  0  7  0  0  0  4  0\n",
      "  0  0  0  0  0  0  1 17  7  0  0  0  5 12  0  0  0  0 16  0  0  0 11  0\n",
      " 10 19 17  0 23  0 14  0  0  0  0  0 11  0  0  0  0  0  0  0  0  0 15  3\n",
      "  5  0  0  8  0  0  0 22  0  0  0 27  0  0  0  0  2 14  0  0  0  0  3  0\n",
      "  0  4  5  0  0  8  0  0  7  2  0  3  0 16  0  0  6  5 10  0  0  7  0  0\n",
      "  0  1  0  0  0  0  0  0  0  0  0  0  0  0  8  0  3  0  0  0  0 12  0  2\n",
      "  0  0  0  3  0  0 13  0  0 14 11 13 10  0  0 26  8  0  0  2  0  2  0  0\n",
      "  0  0  0  0  0  0  0 14  0  0  5  0  0  0  0  0 13  0  0  0 13  0 14  0\n",
      "  0  3  4 14  7  4  0  0  0  0  0  0  0  0  0 14  0  2  8 18  0  0  0  0\n",
      "  0  0  2  3  0  0  0  0  0 11  0  0  0  4  8 17  0  0  0  0  0  1  0  0\n",
      "  9  3  7  0  4  0  0  0  0  0  1  0  0  0  0  0  0  0  0  0  0  6  0 10\n",
      "  0  0  5  0  9  0  0  0  0 23  0 30  0  0  0  0  2  0 18  7  6  0  2  0\n",
      " 37 16  0  0  0  0  0  0  0  0  0  0  1  0  0  0  4  0  0  0  0  0  2  0\n",
      "  0 12 19  0  0  0  0  0  4  0 11  0  0  0  0  0  0  0  0  1  0  1  0  0\n",
      " 13  5 12 13  0  0  3  0  0  5  0  0  0  0 13  0  0 12  0  0  4  0  0  0\n",
      "  0  0 14  0  0 23  0  8  0  0 29  0 33  0 19  0 17  9  0  0  0  0  0  1\n",
      "  0  8  0  1  0 15 15  5  0  0  4  0 14  0  0  0 10  0  0  0  0 11  0  0\n",
      "  0  0  9 10  3  0]\n",
      "\n",
      " Confusion Matrix =\n",
      " [[527   0   0 ...   0   0   0]\n",
      " [  0  20   0 ...   0   0   0]\n",
      " [  0   0  27 ...   0   0   0]\n",
      " ...\n",
      " [  0   0   0 ...   0   0   0]\n",
      " [  0   0   0 ...   0   0   0]\n",
      " [  0   0   0 ...   0   1   0]]\n",
      "\n",
      "Accurecy= 91.363\n"
     ]
    }
   ],
   "source": [
    "model2= DecisionTreeClassifier()\n",
    "model2.fit(x_train,ytrain)\n",
    "ypred2=model2.predict(x_test)\n",
    "print(\"Predicted value= \\n\",ypred2)\n",
    "cm_m2 = confusion_matrix(ytest,ypred2)\n",
    "print(\"\\n Confusion Matrix =\\n\",cm_m2)\n",
    "Ac2 = accuracy_score(ytest,ypred2)*100\n",
    "print(\"\\nAccurecy=\",round(Ac2,3))"
   ]
  },
  {
   "cell_type": "markdown",
   "metadata": {},
   "source": [
    "### Summary:-\n",
    "* from the above state we can see a clear correlation between between number of payment days to the total amount of the payment and the of to pay it off.\n",
    "* By the above analysis firstly we can understand the customers are charged an excessive amount.\n",
    "* secondly we can observe that the number of days given for customers to complete the payment that is to pay the bill is proportionally less which causes increase in the delayed payment days."
   ]
  },
  {
   "cell_type": "markdown",
   "metadata": {},
   "source": [
    "Note: to get the clear picture of the data visualization please refer to the adjoining tableau dashboard"
   ]
  }
 ],
 "metadata": {
  "kernelspec": {
   "display_name": "Python 3",
   "language": "python",
   "name": "python3"
  },
  "language_info": {
   "codemirror_mode": {
    "name": "ipython",
    "version": 3
   },
   "file_extension": ".py",
   "mimetype": "text/x-python",
   "name": "python",
   "nbconvert_exporter": "python",
   "pygments_lexer": "ipython3",
   "version": "3.8.5"
  }
 },
 "nbformat": 4,
 "nbformat_minor": 4
}
