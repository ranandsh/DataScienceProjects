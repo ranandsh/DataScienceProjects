{
 "cells": [
  {
   "cell_type": "markdown",
   "metadata": {},
   "source": [
    "## Media  Analytics\n",
    "* The impact of social media on businesses in the recent days. \n",
    "* Its quite substantial analyzing the steps taken into a successful media strategy. \n",
    "* In the below given data set acquired from kaggle Which explains media .marketing spending data for numerous campaigns with respect to division levels in the channel week"
   ]
  },
  {
   "cell_type": "code",
   "execution_count": 336,
   "metadata": {},
   "outputs": [],
   "source": [
    "import numpy as np\n",
    "import pandas as pd\n",
    "import seaborn as sns\n",
    "import plotly.express as px\n",
    "import matplotlib.pyplot as plt\n",
    "from sklearn.preprocessing import OrdinalEncoder, StandardScaler\n",
    "from  sklearn.impute import SimpleImputer, KNNImputer\n",
    "from sklearn.model_selection import train_test_split\n",
    "from sklearn.tree import DecisionTreeRegressor\n",
    "from sklearn.ensemble import RandomForestRegressor, GradientBoostingRegressor\n",
    "from sklearn.utils import shuffle\n",
    "from sklearn import metrics\n",
    "from xgboost import XGBRegressor\n",
    "from sklearn.metrics import mean_squared_error,mean_absolute_error\n",
    "import ipywidgets as widgets\n",
    "from ipywidgets import interact, interactive, fixed, interact_manual\n",
    "import warnings\n",
    "from PIL import Image\n",
    "warnings.filterwarnings('ignore')"
   ]
  },
  {
   "cell_type": "markdown",
   "metadata": {},
   "source": [
    "### Data Set\n",
    "* The data set contains 3051 rows and nine columns.\n",
    "* The timeline of the data set starts from 2018 January till 2020 February.\n",
    "* The features of this data set give the glimpse of Media channel spending information through applications such as Facebook, Google search, email impressions, youtube and others."
   ]
  },
  {
   "cell_type": "code",
   "execution_count": 337,
   "metadata": {},
   "outputs": [
    {
     "data": {
      "text/html": [
       "<div>\n",
       "<style scoped>\n",
       "    .dataframe tbody tr th:only-of-type {\n",
       "        vertical-align: middle;\n",
       "    }\n",
       "\n",
       "    .dataframe tbody tr th {\n",
       "        vertical-align: top;\n",
       "    }\n",
       "\n",
       "    .dataframe thead th {\n",
       "        text-align: right;\n",
       "    }\n",
       "</style>\n",
       "<table border=\"1\" class=\"dataframe\">\n",
       "  <thead>\n",
       "    <tr style=\"text-align: right;\">\n",
       "      <th></th>\n",
       "      <th>Division</th>\n",
       "      <th>Calendar_Week</th>\n",
       "      <th>Paid_Views</th>\n",
       "      <th>Organic_Views</th>\n",
       "      <th>Google_Impressions</th>\n",
       "      <th>Email_Impressions</th>\n",
       "      <th>Facebook_Impressions</th>\n",
       "      <th>Affiliate_Impressions</th>\n",
       "      <th>Overall_Views</th>\n",
       "      <th>Sales</th>\n",
       "    </tr>\n",
       "  </thead>\n",
       "  <tbody>\n",
       "    <tr>\n",
       "      <th>0</th>\n",
       "      <td>A</td>\n",
       "      <td>1/6/2018</td>\n",
       "      <td>392</td>\n",
       "      <td>422</td>\n",
       "      <td>408</td>\n",
       "      <td>3.498950e+05</td>\n",
       "      <td>73580</td>\n",
       "      <td>12072</td>\n",
       "      <td>682</td>\n",
       "      <td>59417</td>\n",
       "    </tr>\n",
       "    <tr>\n",
       "      <th>1</th>\n",
       "      <td>A</td>\n",
       "      <td>1/13/2018</td>\n",
       "      <td>787</td>\n",
       "      <td>904</td>\n",
       "      <td>110</td>\n",
       "      <td>5.062702e+05</td>\n",
       "      <td>11804</td>\n",
       "      <td>9499</td>\n",
       "      <td>853</td>\n",
       "      <td>56806</td>\n",
       "    </tr>\n",
       "    <tr>\n",
       "      <th>2</th>\n",
       "      <td>A</td>\n",
       "      <td>1/20/2018</td>\n",
       "      <td>81</td>\n",
       "      <td>970</td>\n",
       "      <td>742</td>\n",
       "      <td>4.300422e+05</td>\n",
       "      <td>52232</td>\n",
       "      <td>17048</td>\n",
       "      <td>759</td>\n",
       "      <td>48715</td>\n",
       "    </tr>\n",
       "    <tr>\n",
       "      <th>3</th>\n",
       "      <td>A</td>\n",
       "      <td>1/27/2018</td>\n",
       "      <td>25</td>\n",
       "      <td>575</td>\n",
       "      <td>65</td>\n",
       "      <td>4.177457e+05</td>\n",
       "      <td>78640</td>\n",
       "      <td>10207</td>\n",
       "      <td>942</td>\n",
       "      <td>72047</td>\n",
       "    </tr>\n",
       "    <tr>\n",
       "      <th>4</th>\n",
       "      <td>A</td>\n",
       "      <td>2/3/2018</td>\n",
       "      <td>565</td>\n",
       "      <td>284</td>\n",
       "      <td>295</td>\n",
       "      <td>4.085058e+05</td>\n",
       "      <td>40561</td>\n",
       "      <td>5834</td>\n",
       "      <td>658</td>\n",
       "      <td>56235</td>\n",
       "    </tr>\n",
       "    <tr>\n",
       "      <th>...</th>\n",
       "      <td>...</td>\n",
       "      <td>...</td>\n",
       "      <td>...</td>\n",
       "      <td>...</td>\n",
       "      <td>...</td>\n",
       "      <td>...</td>\n",
       "      <td>...</td>\n",
       "      <td>...</td>\n",
       "      <td>...</td>\n",
       "      <td>...</td>\n",
       "    </tr>\n",
       "    <tr>\n",
       "      <th>3046</th>\n",
       "      <td>Z</td>\n",
       "      <td>2/1/2020</td>\n",
       "      <td>29239</td>\n",
       "      <td>25311</td>\n",
       "      <td>622406</td>\n",
       "      <td>1.459071e+06</td>\n",
       "      <td>45026</td>\n",
       "      <td>12098</td>\n",
       "      <td>53667</td>\n",
       "      <td>82707</td>\n",
       "    </tr>\n",
       "    <tr>\n",
       "      <th>3047</th>\n",
       "      <td>Z</td>\n",
       "      <td>2/8/2020</td>\n",
       "      <td>26230</td>\n",
       "      <td>28031</td>\n",
       "      <td>624409</td>\n",
       "      <td>5.342505e+05</td>\n",
       "      <td>227070</td>\n",
       "      <td>9548</td>\n",
       "      <td>53665</td>\n",
       "      <td>84503</td>\n",
       "    </tr>\n",
       "    <tr>\n",
       "      <th>3048</th>\n",
       "      <td>Z</td>\n",
       "      <td>2/15/2020</td>\n",
       "      <td>24749</td>\n",
       "      <td>31281</td>\n",
       "      <td>439362</td>\n",
       "      <td>4.227182e+05</td>\n",
       "      <td>393685</td>\n",
       "      <td>9861</td>\n",
       "      <td>55561</td>\n",
       "      <td>147325</td>\n",
       "    </tr>\n",
       "    <tr>\n",
       "      <th>3049</th>\n",
       "      <td>Z</td>\n",
       "      <td>2/22/2020</td>\n",
       "      <td>20713</td>\n",
       "      <td>30356</td>\n",
       "      <td>464178</td>\n",
       "      <td>6.085799e+05</td>\n",
       "      <td>424676</td>\n",
       "      <td>10221</td>\n",
       "      <td>49221</td>\n",
       "      <td>111525</td>\n",
       "    </tr>\n",
       "    <tr>\n",
       "      <th>3050</th>\n",
       "      <td>Z</td>\n",
       "      <td>2/29/2020</td>\n",
       "      <td>15990</td>\n",
       "      <td>26993</td>\n",
       "      <td>449032</td>\n",
       "      <td>4.390165e+05</td>\n",
       "      <td>161439</td>\n",
       "      <td>10294</td>\n",
       "      <td>42994</td>\n",
       "      <td>98187</td>\n",
       "    </tr>\n",
       "  </tbody>\n",
       "</table>\n",
       "<p>3051 rows × 10 columns</p>\n",
       "</div>"
      ],
      "text/plain": [
       "     Division Calendar_Week  Paid_Views  Organic_Views  Google_Impressions  \\\n",
       "0           A      1/6/2018         392            422                 408   \n",
       "1           A     1/13/2018         787            904                 110   \n",
       "2           A     1/20/2018          81            970                 742   \n",
       "3           A     1/27/2018          25            575                  65   \n",
       "4           A      2/3/2018         565            284                 295   \n",
       "...       ...           ...         ...            ...                 ...   \n",
       "3046        Z      2/1/2020       29239          25311              622406   \n",
       "3047        Z      2/8/2020       26230          28031              624409   \n",
       "3048        Z     2/15/2020       24749          31281              439362   \n",
       "3049        Z     2/22/2020       20713          30356              464178   \n",
       "3050        Z     2/29/2020       15990          26993              449032   \n",
       "\n",
       "      Email_Impressions  Facebook_Impressions  Affiliate_Impressions  \\\n",
       "0          3.498950e+05                 73580                  12072   \n",
       "1          5.062702e+05                 11804                   9499   \n",
       "2          4.300422e+05                 52232                  17048   \n",
       "3          4.177457e+05                 78640                  10207   \n",
       "4          4.085058e+05                 40561                   5834   \n",
       "...                 ...                   ...                    ...   \n",
       "3046       1.459071e+06                 45026                  12098   \n",
       "3047       5.342505e+05                227070                   9548   \n",
       "3048       4.227182e+05                393685                   9861   \n",
       "3049       6.085799e+05                424676                  10221   \n",
       "3050       4.390165e+05                161439                  10294   \n",
       "\n",
       "      Overall_Views   Sales  \n",
       "0               682   59417  \n",
       "1               853   56806  \n",
       "2               759   48715  \n",
       "3               942   72047  \n",
       "4               658   56235  \n",
       "...             ...     ...  \n",
       "3046          53667   82707  \n",
       "3047          53665   84503  \n",
       "3048          55561  147325  \n",
       "3049          49221  111525  \n",
       "3050          42994   98187  \n",
       "\n",
       "[3051 rows x 10 columns]"
      ]
     },
     "execution_count": 337,
     "metadata": {},
     "output_type": "execute_result"
    }
   ],
   "source": [
    "ds = pd.read_csv('Sample Media Spend Data.csv')\n",
    "ds"
   ]
  },
  {
   "cell_type": "code",
   "execution_count": 338,
   "metadata": {},
   "outputs": [
    {
     "name": "stdout",
     "output_type": "stream",
     "text": [
      "<class 'pandas.core.frame.DataFrame'>\n",
      "RangeIndex: 3051 entries, 0 to 3050\n",
      "Data columns (total 10 columns):\n",
      " #   Column                 Non-Null Count  Dtype  \n",
      "---  ------                 --------------  -----  \n",
      " 0   Division               3051 non-null   object \n",
      " 1   Calendar_Week          3051 non-null   object \n",
      " 2   Paid_Views             3051 non-null   int64  \n",
      " 3   Organic_Views          3051 non-null   int64  \n",
      " 4   Google_Impressions     3051 non-null   int64  \n",
      " 5   Email_Impressions      3051 non-null   float64\n",
      " 6   Facebook_Impressions   3051 non-null   int64  \n",
      " 7   Affiliate_Impressions  3051 non-null   int64  \n",
      " 8   Overall_Views          3051 non-null   int64  \n",
      " 9   Sales                  3051 non-null   int64  \n",
      "dtypes: float64(1), int64(7), object(2)\n",
      "memory usage: 238.5+ KB\n"
     ]
    }
   ],
   "source": [
    "ds.info(verbose=True)"
   ]
  },
  {
   "cell_type": "markdown",
   "metadata": {},
   "source": [
    "### Data Preprocessing \n",
    "#### 1) Check for Missing Values\n",
    "* Handling missing values it's in key preprocessing step for modeling purposes and analysis of the data.\n"
   ]
  },
  {
   "cell_type": "code",
   "execution_count": 339,
   "metadata": {},
   "outputs": [
    {
     "data": {
      "text/plain": [
       "Division                 0\n",
       "Calendar_Week            0\n",
       "Paid_Views               0\n",
       "Organic_Views            0\n",
       "Google_Impressions       0\n",
       "Email_Impressions        0\n",
       "Facebook_Impressions     0\n",
       "Affiliate_Impressions    0\n",
       "Overall_Views            0\n",
       "Sales                    0\n",
       "dtype: int64"
      ]
     },
     "execution_count": 339,
     "metadata": {},
     "output_type": "execute_result"
    }
   ],
   "source": [
    "ds.isnull().sum()"
   ]
  },
  {
   "cell_type": "markdown",
   "metadata": {},
   "source": [
    "#### 2) Type verifications\n",
    "* Firstly, Handling Miss Classified features in a data through appropriate conversion is crucial. \n",
    "* Secondly converting categorical features into numerics provides easy processing of data."
   ]
  },
  {
   "cell_type": "code",
   "execution_count": 340,
   "metadata": {},
   "outputs": [],
   "source": [
    "ds['Calendar_Week']=ds['Calendar_Week'].astype('datetime64[ns]')\n",
    "ds['Calendar_Week']= pd.to_numeric(ds['Calendar_Week'])"
   ]
  },
  {
   "cell_type": "code",
   "execution_count": 341,
   "metadata": {},
   "outputs": [],
   "source": [
    "ds['Division'] = OrdinalEncoder().fit_transform(ds[['Division']])"
   ]
  },
  {
   "cell_type": "code",
   "execution_count": 342,
   "metadata": {},
   "outputs": [
    {
     "name": "stdout",
     "output_type": "stream",
     "text": [
      "<class 'pandas.core.frame.DataFrame'>\n",
      "RangeIndex: 3051 entries, 0 to 3050\n",
      "Data columns (total 10 columns):\n",
      " #   Column                 Non-Null Count  Dtype  \n",
      "---  ------                 --------------  -----  \n",
      " 0   Division               3051 non-null   float64\n",
      " 1   Calendar_Week          3051 non-null   int64  \n",
      " 2   Paid_Views             3051 non-null   int64  \n",
      " 3   Organic_Views          3051 non-null   int64  \n",
      " 4   Google_Impressions     3051 non-null   int64  \n",
      " 5   Email_Impressions      3051 non-null   float64\n",
      " 6   Facebook_Impressions   3051 non-null   int64  \n",
      " 7   Affiliate_Impressions  3051 non-null   int64  \n",
      " 8   Overall_Views          3051 non-null   int64  \n",
      " 9   Sales                  3051 non-null   int64  \n",
      "dtypes: float64(2), int64(8)\n",
      "memory usage: 238.5 KB\n"
     ]
    }
   ],
   "source": [
    "ds.info(verbose=True)"
   ]
  },
  {
   "cell_type": "markdown",
   "metadata": {},
   "source": [
    "#### 3) Corelation Analysis"
   ]
  },
  {
   "cell_type": "code",
   "execution_count": 343,
   "metadata": {},
   "outputs": [
    {
     "data": {
      "text/plain": [
       "<AxesSubplot:>"
      ]
     },
     "execution_count": 343,
     "metadata": {},
     "output_type": "execute_result"
    },
    {
     "data": {
      "image/png": "[encoded data removed]",
      "text/plain": [
       "<Figure size 432x288 with 2 Axes>"
      ]
     },
     "metadata": {
      "needs_background": "light"
     },
     "output_type": "display_data"
    }
   ],
   "source": [
    "corelations = ds.corr()\n",
    "sns.heatmap(corelations)"
   ]
  },
  {
   "cell_type": "code",
   "execution_count": 344,
   "metadata": {},
   "outputs": [
    {
     "name": "stdout",
     "output_type": "stream",
     "text": [
      "                           Division  Calendar_Week  Paid_Views  Organic_Views  \\\n",
      "Division               1.000000e+00   6.530754e-14   -0.101387      -0.106128   \n",
      "Calendar_Week          6.530754e-14   1.000000e+00    0.402456       0.510170   \n",
      "Paid_Views            -1.013868e-01   4.024563e-01    1.000000       0.798104   \n",
      "Organic_Views         -1.061280e-01   5.101698e-01    0.798104       1.000000   \n",
      "Google_Impressions    -1.267227e-01   2.277622e-01    0.305230       0.429167   \n",
      "Email_Impressions     -2.139016e-01  -2.904163e-02    0.290203       0.342697   \n",
      "Facebook_Impressions  -1.463921e-01   2.892512e-01    0.318325       0.410265   \n",
      "Affiliate_Impressions -2.598442e-01  -2.220451e-01    0.215768       0.231719   \n",
      "Overall_Views         -1.092182e-01   4.741381e-01    0.960312       0.934390   \n",
      "Sales                 -2.322848e-01   1.648479e-01    0.289688       0.390960   \n",
      "\n",
      "                       Google_Impressions  Email_Impressions  \\\n",
      "Division                        -0.126723          -0.213902   \n",
      "Calendar_Week                    0.227762          -0.029042   \n",
      "Paid_Views                       0.305230           0.290203   \n",
      "Organic_Views                    0.429167           0.342697   \n",
      "Google_Impressions               1.000000           0.636719   \n",
      "Email_Impressions                0.636719           1.000000   \n",
      "Facebook_Impressions             0.728787           0.515894   \n",
      "Affiliate_Impressions            0.353054           0.697002   \n",
      "Overall_Views                    0.379076           0.330243   \n",
      "Sales                            0.783338           0.746729   \n",
      "\n",
      "                       Facebook_Impressions  Affiliate_Impressions  \\\n",
      "Division                          -0.146392              -0.259844   \n",
      "Calendar_Week                      0.289251              -0.222045   \n",
      "Paid_Views                         0.318325               0.215768   \n",
      "Organic_Views                      0.410265               0.231719   \n",
      "Google_Impressions                 0.728787               0.353054   \n",
      "Email_Impressions                  0.515894               0.697002   \n",
      "Facebook_Impressions               1.000000               0.290033   \n",
      "Affiliate_Impressions              0.290033               1.000000   \n",
      "Overall_Views                      0.378120               0.234696   \n",
      "Sales                              0.749133               0.440282   \n",
      "\n",
      "                       Overall_Views     Sales  \n",
      "Division                   -0.109218 -0.232285  \n",
      "Calendar_Week               0.474138  0.164848  \n",
      "Paid_Views                  0.960312  0.289688  \n",
      "Organic_Views               0.934390  0.390960  \n",
      "Google_Impressions          0.379076  0.783338  \n",
      "Email_Impressions           0.330243  0.746729  \n",
      "Facebook_Impressions        0.378120  0.749133  \n",
      "Affiliate_Impressions       0.234696  0.440282  \n",
      "Overall_Views               1.000000  0.352200  \n",
      "Sales                       0.352200  1.000000  \n"
     ]
    }
   ],
   "source": [
    "print(corelations)"
   ]
  },
  {
   "cell_type": "code",
   "execution_count": 363,
   "metadata": {},
   "outputs": [],
   "source": [
    "x = ds.loc[:,~ds.columns.isin(['Division','Sales'])]\n",
    "y = ds[['Sales']]"
   ]
  },
  {
   "cell_type": "markdown",
   "metadata": {},
   "source": [
    "#### 4) Split Data into test & Train"
   ]
  },
  {
   "cell_type": "code",
   "execution_count": 364,
   "metadata": {},
   "outputs": [],
   "source": [
    "xtrain,xtest,ytrain,ytest=train_test_split(x,y,test_size=1/3,random_state = 125)"
   ]
  },
  {
   "cell_type": "markdown",
   "metadata": {},
   "source": [
    "#### 5) Scale Data for better Modeling Process"
   ]
  },
  {
   "cell_type": "code",
   "execution_count": 365,
   "metadata": {},
   "outputs": [],
   "source": [
    "std_sclr = StandardScaler()\n",
    "x_train = std_sclr.fit_transform(xtrain)\n",
    "x_test = std_sclr.fit_transform(xtest)"
   ]
  },
  {
   "cell_type": "markdown",
   "metadata": {},
   "source": [
    "### Data Modeling"
   ]
  },
  {
   "cell_type": "markdown",
   "metadata": {},
   "source": [
    "#### 1) Random Forest"
   ]
  },
  {
   "cell_type": "code",
   "execution_count": 370,
   "metadata": {},
   "outputs": [
    {
     "name": "stdout",
     "output_type": "stream",
     "text": [
      "\n",
      " Mean Absolute Error 42134.86458210423\n",
      "\n",
      " Root Mean Absolute Error 205.2677874925928\n"
     ]
    }
   ],
   "source": [
    "model2= RandomForestRegressor()\n",
    "model2.fit(x_train,ytrain)\n",
    "ypred2=model2.predict(x_test)\n",
    "print('\\n Mean Absolute Error',mean_absolute_error(ytest,ypred2))\n",
    "print('\\n Root Mean Absolute Error',np.sqrt(mean_absolute_error(ytest,ypred2)))"
   ]
  },
  {
   "cell_type": "code",
   "execution_count": 349,
   "metadata": {},
   "outputs": [
    {
     "data": {
      "text/plain": [
       "[Text(0.5, 0, 'Actual'), Text(0, 0.5, 'Predicted')]"
      ]
     },
     "execution_count": 349,
     "metadata": {},
     "output_type": "execute_result"
    },
    {
     "data": {
      "image/png": "[encoded data removed]",
      "text/plain": [
       "<Figure size 432x288 with 1 Axes>"
      ]
     },
     "metadata": {
      "needs_background": "light"
     },
     "output_type": "display_data"
    }
   ],
   "source": [
    "plot = sns.regplot(ytest,ypred2,scatter_kws={\"color\": \"orange\"}, line_kws={\"color\": \"blue\"})\n",
    "plot.set(xlabel='Actual', ylabel='Predicted')"
   ]
  },
  {
   "cell_type": "code",
   "execution_count": 350,
   "metadata": {},
   "outputs": [
    {
     "data": {
      "image/png": "[encoded data removed]",
      "text/plain": [
       "<Figure size 432x288 with 1 Axes>"
      ]
     },
     "metadata": {
      "needs_background": "light"
     },
     "output_type": "display_data"
    }
   ],
   "source": [
    "imp_features = pd.Series(model2.feature_importances_, index = x.columns)\n",
    "imp_features = imp_features.sort_values(ascending = True)\n",
    "imp_features.plot(kind = 'barh', color = 'blue')\n",
    "plt.ylabel(\"Feature\")\n",
    "plt.xlabel(\"Score\")\n",
    "plt.show()"
   ]
  },
  {
   "cell_type": "markdown",
   "metadata": {},
   "source": [
    "#### 2) XG boost"
   ]
  },
  {
   "cell_type": "code",
   "execution_count": 372,
   "metadata": {},
   "outputs": [
    {
     "name": "stdout",
     "output_type": "stream",
     "text": [
      "\n",
      " Mean Absolute Error 38339.44756617963\n",
      "\n",
      " Root Mean Absolute Error 195.8046157938562\n"
     ]
    }
   ],
   "source": [
    "model4= XGBRegressor()\n",
    "model4.fit(x_train,ytrain)\n",
    "ypred4=model4.predict(x_test)\n",
    "print('\\n Mean Absolute Error',mean_absolute_error(ytest,ypred4))\n",
    "print('\\n Root Mean Absolute Error',np.sqrt(mean_absolute_error(ytest,ypred4)))"
   ]
  },
  {
   "cell_type": "code",
   "execution_count": 352,
   "metadata": {},
   "outputs": [
    {
     "data": {
      "text/plain": [
       "[Text(0.5, 0, 'Actual'), Text(0, 0.5, 'Predicted')]"
      ]
     },
     "execution_count": 352,
     "metadata": {},
     "output_type": "execute_result"
    },
    {
     "data": {
      "image/png": "[encoded data removed]",
      "text/plain": [
       "<Figure size 432x288 with 1 Axes>"
      ]
     },
     "metadata": {
      "needs_background": "light"
     },
     "output_type": "display_data"
    }
   ],
   "source": [
    "plot = sns.regplot(ytest,ypred4,scatter_kws={\"color\": \"blue\"}, line_kws={\"color\": \"green\"})\n",
    "plot.set(xlabel='Actual', ylabel='Predicted')"
   ]
  },
  {
   "cell_type": "code",
   "execution_count": 353,
   "metadata": {},
   "outputs": [
    {
     "data": {
      "image/png": "[encoded data removed]",
      "text/plain": [
       "<Figure size 432x288 with 1 Axes>"
      ]
     },
     "metadata": {
      "needs_background": "light"
     },
     "output_type": "display_data"
    }
   ],
   "source": [
    "imp_features = pd.Series(model4.feature_importances_, index = x.columns)\n",
    "imp_features = imp_features.sort_values(ascending = True)\n",
    "imp_features.plot(kind = 'barh',color = 'green')\n",
    "plt.ylabel(\"Feature\")\n",
    "plt.xlabel(\"Score\")\n",
    "plt.show()"
   ]
  },
  {
   "cell_type": "markdown",
   "metadata": {},
   "source": [
    "#### 3) Gradient Boosting Regressor"
   ]
  },
  {
   "cell_type": "code",
   "execution_count": 371,
   "metadata": {},
   "outputs": [
    {
     "name": "stdout",
     "output_type": "stream",
     "text": [
      "\n",
      " Mean Absolute Error 41804.37843690949\n",
      "\n",
      " Root Mean Absolute Error 204.46119053969505\n"
     ]
    }
   ],
   "source": [
    "model3= GradientBoostingRegressor()\n",
    "model3.fit(x_train,ytrain)\n",
    "ypred3=model3.predict(x_test)\n",
    "print('\\n Mean Absolute Error',mean_absolute_error(ytest,ypred3))\n",
    "print('\\n Root Mean Absolute Error',np.sqrt(mean_absolute_error(ytest,ypred3)))"
   ]
  },
  {
   "cell_type": "code",
   "execution_count": 355,
   "metadata": {},
   "outputs": [
    {
     "data": {
      "text/plain": [
       "[Text(0.5, 0, 'Actual'), Text(0, 0.5, 'Predicted')]"
      ]
     },
     "execution_count": 355,
     "metadata": {},
     "output_type": "execute_result"
    },
    {
     "data": {
      "image/png": "[encoded data removed]",
      "text/plain": [
       "<Figure size 432x288 with 1 Axes>"
      ]
     },
     "metadata": {
      "needs_background": "light"
     },
     "output_type": "display_data"
    }
   ],
   "source": [
    "plot = sns.regplot(ytest,ypred3,scatter_kws={\"color\": \"pink\"}, line_kws={\"color\": \"purple\"})\n",
    "plot.set(xlabel='Actual', ylabel='Predicted')"
   ]
  },
  {
   "cell_type": "code",
   "execution_count": 356,
   "metadata": {},
   "outputs": [
    {
     "data": {
      "image/png": "[encoded data removed]",
      "text/plain": [
       "<Figure size 432x288 with 1 Axes>"
      ]
     },
     "metadata": {
      "needs_background": "light"
     },
     "output_type": "display_data"
    }
   ],
   "source": [
    "imp_features = pd.Series(model3.feature_importances_, index = x.columns)\n",
    "imp_features = imp_features.sort_values(ascending = True)\n",
    "imp_features.plot(kind = 'barh',color = 'purple')\n",
    "plt.ylabel(\"Feature\")\n",
    "plt.xlabel(\"Score\")\n",
    "plt.show()"
   ]
  },
  {
   "cell_type": "markdown",
   "metadata": {},
   "source": [
    "### Summary:-\n",
    "* For the above media marketing data we have used three models machine learning models such as gradient,XGBRegressor and random forest regressors. upon which I discovered root squre mean absolute error of the  XGBRegressor model had the least of 195, comparitively.\n",
    "* From the correlation & Feature analysis performed above stages of this file, we can clearly see that sales have a high influence with respect to Facebook, email and Google search Features.\n",
    "* Thus it is highly recommended to use these features as a tool for proactive and effective marketing of media."
   ]
  }
 ],
 "metadata": {
  "kernelspec": {
   "display_name": "Python 3",
   "language": "python",
   "name": "python3"
  },
  "language_info": {
   "codemirror_mode": {
    "name": "ipython",
    "version": 3
   },
   "file_extension": ".py",
   "mimetype": "text/x-python",
   "name": "python",
   "nbconvert_exporter": "python",
   "pygments_lexer": "ipython3",
   "version": "3.8.5"
  }
 },
 "nbformat": 4,
 "nbformat_minor": 4
}
