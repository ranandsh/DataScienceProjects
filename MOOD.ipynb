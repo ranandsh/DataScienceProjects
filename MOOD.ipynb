{
 "cells": [
  {
   "cell_type": "markdown",
   "metadata": {},
   "source": [
    "# Mood\n",
    "### by : Rohan Anand Shetty\n",
    "<img src='https://uticaphoenix.net/wp-content/uploads/2022/01/best-movies-1614634680.jpg'>"
   ]
  },
  {
   "cell_type": "markdown",
   "metadata": {},
   "source": [
    "### OBJECTIVE:-\n",
    "### The objective of this project is to extract the story line of a movie and analyse its genric mood. By replacing conventional super long movie reveiws and saving human effort for selecting a movie or story , depending on our current mood."
   ]
  },
  {
   "cell_type": "code",
   "execution_count": 27,
   "metadata": {},
   "outputs": [
    {
     "name": "stderr",
     "output_type": "stream",
     "text": [
      "[nltk_data] Downloading package punkt to\n",
      "[nltk_data]     C:\\Users\\19282\\AppData\\Roaming\\nltk_data...\n",
      "[nltk_data]   Package punkt is already up-to-date!\n"
     ]
    },
    {
     "data": {
      "text/plain": [
       "True"
      ]
     },
     "execution_count": 27,
     "metadata": {},
     "output_type": "execute_result"
    }
   ],
   "source": [
    "import re\n",
    "from textblob import TextBlob\n",
    "import nltk\n",
    "nltk.download('punkt')"
   ]
  },
  {
   "cell_type": "code",
   "execution_count": 28,
   "metadata": {},
   "outputs": [
    {
     "data": {
      "text/plain": [
       "<module 'sys' (built-in)>"
      ]
     },
     "execution_count": 28,
     "metadata": {},
     "output_type": "execute_result"
    }
   ],
   "source": [
    "import sys  \n",
    "from importlib import reload\n",
    "reload(sys)"
   ]
  },
  {
   "cell_type": "markdown",
   "metadata": {},
   "source": [
    "### DATA ACCESS:-\n",
    "#### WE AHVE USED A TEXT FILE AS THE INPUT AND BASIC FILE OPERATIONS HAS BEEN PERFORMED TO ACCES IT."
   ]
  },
  {
   "cell_type": "code",
   "execution_count": 29,
   "metadata": {},
   "outputs": [],
   "source": [
    "file1 = open(\"deathlyhalows.txt\",encoding=\"utf-8-sig\") \n",
    "text = file1.read()"
   ]
  },
  {
   "cell_type": "markdown",
   "metadata": {},
   "source": [
    "### DATA CLEANING:-\n",
    "#### REMOVING FEW CHARECTORES, SPACES  & REPLACING THEM AS TO NOT CAUSE ISSUES WITH TEXTBLOB FUNCTION"
   ]
  },
  {
   "cell_type": "code",
   "execution_count": 30,
   "metadata": {},
   "outputs": [],
   "source": [
    "text = text.replace('“', '') # QUATES CAUSE ISSUE AS THEY COMBINE SENTENCE\n",
    "text = text.replace('”', '')\n",
    "text = text.replace('_', '') # UNDERSCORE CAUSE ISSUE AS WELL\n",
    "found = re.findall('Chapter '+'\\d{1,2}\\s', text)  # finds charector , numbers and spsaces \n",
    "for match in found: \n",
    "    text = re.sub(match, match.replace('\\n','.'), text) # replace those\n",
    "text = text.replace('\\n', ' ') # replace new lines with space"
   ]
  },
  {
   "cell_type": "markdown",
   "metadata": {},
   "source": [
    "### SENTEMENT ANALYSIS:-"
   ]
  },
  {
   "cell_type": "code",
   "execution_count": 31,
   "metadata": {},
   "outputs": [
    {
     "data": {
      "text/plain": [
       "TextBlob(\"The Deathly Hallows were three highly powerful magical objects supposedly created by Death and given to each of three brothers in the Peverell family.  They consisted of the Elder Wand, an immensely powerful wand that was considered unbeatable; the Resurrection Stone, a stone which could summon the spirits of the dead, and the Cloak of Invisibility, which, as its name suggests, rendered the user completely invisible.  According to the story, both Antioch Peverell (owner of the Wand) and Cadmus Peverell (owner of the Stone) came to bad ends. However, Ignotus Peverell's wisdom in requesting the Cloak was rewarded.  According to legend, he who possessed these three artefacts would become the Master of Death.  Dumbledore told Harry that he and another wizard, Gellert Grindelwald took this to mean that the uniter of the Deathly Hallows would be invincible.  The story of the Deathly Hallows was originally told by Beedle the Bard and subsequently passed from family to family as a wizard fairytale.  Few wizards ever realised that the Deathly Hallows were genuine items. Most people thought that there were things that Beedle had made up to entertain young wizards and witches.\")"
      ]
     },
     "execution_count": 31,
     "metadata": {},
     "output_type": "execute_result"
    }
   ],
   "source": [
    "A =TextBlob(text)\n",
    "A"
   ]
  },
  {
   "cell_type": "code",
   "execution_count": 32,
   "metadata": {},
   "outputs": [
    {
     "name": "stdout",
     "output_type": "stream",
     "text": [
      "GOOD MOOD\n",
      "GOOD MOOD\n",
      "BAD MOOD\n",
      "NEUTRAL MOOD\n",
      "NEUTRAL MOOD\n",
      "BAD MOOD\n",
      "GOOD MOOD\n",
      "GOOD MOOD\n",
      "GOOD MOOD\n"
     ]
    }
   ],
   "source": [
    "for sentence in A.sentences:               # LOOP AROUND THE A LIST FOR EACH SENTENCES\n",
    "    if sentence.sentiment.polarity > 0 :   \n",
    "        print(\"GOOD MOOD\")\n",
    "    elif sentence.sentiment.polarity == 0 : \n",
    "        print(\"NEUTRAL MOOD\")\n",
    "    else : \n",
    "        print(\"BAD MOOD\")"
   ]
  },
  {
   "cell_type": "code",
   "execution_count": 34,
   "metadata": {},
   "outputs": [
    {
     "data": {
      "text/plain": [
       "['good mood',\n",
       " 'good mood',\n",
       " 'BAD mood',\n",
       " 'neutreal mood',\n",
       " 'neutreal mood',\n",
       " 'BAD mood',\n",
       " 'good mood',\n",
       " 'good mood',\n",
       " 'good mood']"
      ]
     },
     "execution_count": 34,
     "metadata": {},
     "output_type": "execute_result"
    }
   ],
   "source": [
    "list1 = []\n",
    "for sentence in A.sentences:               # LOOP AROUND THE A LIST FOR EACH SENTENCES\n",
    "    if sentence.sentiment.polarity > 0 :\n",
    "        list1.append(\"good mood\")\n",
    "    elif sentence.sentiment.polarity == 0 : \n",
    "         list1.append(\"neutreal mood\")\n",
    "    else : list1.append(\"BAD mood\")\n",
    "list1"
   ]
  },
  {
   "cell_type": "markdown",
   "metadata": {},
   "source": [
    "### Observations :-\n",
    "### 1) OUT OF 9 SENTENCES 5 OF THEM ARE IN GOOD MOOD. 2 OF THEM ARE IN NEUTRAL MOOD WHICH CAN TELL US THE GENRIC THEME OF STORY IS  NOT SAD ONE.\n",
    "### 2) IN GENRAL WE CAN MAXIMUM ACCURENCY OF A MOOD AND CAN COME TO THE CONCLUSION ABOUT THE GENRAL SEETED MOOD OF A STORY.\n",
    "### 3) AS THIS IS AN IN PROCESS PROJECT , I WISH TO IMPROVE THE METHODOLOGIES TO CAPTURE MORE SENTEMENTS ."
   ]
  }
 ],
 "metadata": {
  "kernelspec": {
   "display_name": "Python 3",
   "language": "python",
   "name": "python3"
  },
  "language_info": {
   "codemirror_mode": {
    "name": "ipython",
    "version": 3
   },
   "file_extension": ".py",
   "mimetype": "text/x-python",
   "name": "python",
   "nbconvert_exporter": "python",
   "pygments_lexer": "ipython3",
   "version": "3.8.5"
  }
 },
 "nbformat": 4,
 "nbformat_minor": 4
}
